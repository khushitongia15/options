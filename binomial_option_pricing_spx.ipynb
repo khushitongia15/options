{
  "nbformat": 4,
  "nbformat_minor": 0,
  "metadata": {
    "colab": {
      "provenance": []
    },
    "kernelspec": {
      "name": "python3",
      "display_name": "Python 3"
    },
    "language_info": {
      "name": "python"
    }
  },
  "cells": [
    {
      "cell_type": "markdown",
      "source": [
        "# **BINOMIAL PRICING MODEL**"
      ],
      "metadata": {
        "id": "cnR7U3blPzGf"
      }
    },
    {
      "cell_type": "markdown",
      "source": [
        "[Binomial pricing basics](https://www.investopedia.com/terms/b/binomialoptionpricing.asp)"
      ],
      "metadata": {
        "id": "XxwIcAeEP9LI"
      }
    },
    {
      "cell_type": "code",
      "execution_count": 1,
      "metadata": {
        "colab": {
          "base_uri": "https://localhost:8080/"
        },
        "id": "ubgcYS-TPpzx",
        "outputId": "13e16f46-5ffb-4e9e-f02e-49c34f297deb"
      },
      "outputs": [
        {
          "output_type": "stream",
          "name": "stdout",
          "text": [
            "Looking in indexes: https://pypi.org/simple, https://us-python.pkg.dev/colab-wheels/public/simple/\n",
            "Requirement already satisfied: yfinance in /usr/local/lib/python3.10/dist-packages (0.2.18)\n",
            "Requirement already satisfied: pandas>=1.3.0 in /usr/local/lib/python3.10/dist-packages (from yfinance) (1.5.3)\n",
            "Requirement already satisfied: numpy>=1.16.5 in /usr/local/lib/python3.10/dist-packages (from yfinance) (1.22.4)\n",
            "Requirement already satisfied: requests>=2.26 in /usr/local/lib/python3.10/dist-packages (from yfinance) (2.27.1)\n",
            "Requirement already satisfied: multitasking>=0.0.7 in /usr/local/lib/python3.10/dist-packages (from yfinance) (0.0.11)\n",
            "Requirement already satisfied: lxml>=4.9.1 in /usr/local/lib/python3.10/dist-packages (from yfinance) (4.9.2)\n",
            "Requirement already satisfied: appdirs>=1.4.4 in /usr/local/lib/python3.10/dist-packages (from yfinance) (1.4.4)\n",
            "Requirement already satisfied: pytz>=2022.5 in /usr/local/lib/python3.10/dist-packages (from yfinance) (2022.7.1)\n",
            "Requirement already satisfied: frozendict>=2.3.4 in /usr/local/lib/python3.10/dist-packages (from yfinance) (2.3.7)\n",
            "Requirement already satisfied: cryptography>=3.3.2 in /usr/local/lib/python3.10/dist-packages (from yfinance) (40.0.2)\n",
            "Requirement already satisfied: beautifulsoup4>=4.11.1 in /usr/local/lib/python3.10/dist-packages (from yfinance) (4.11.2)\n",
            "Requirement already satisfied: html5lib>=1.1 in /usr/local/lib/python3.10/dist-packages (from yfinance) (1.1)\n",
            "Requirement already satisfied: soupsieve>1.2 in /usr/local/lib/python3.10/dist-packages (from beautifulsoup4>=4.11.1->yfinance) (2.4.1)\n",
            "Requirement already satisfied: cffi>=1.12 in /usr/local/lib/python3.10/dist-packages (from cryptography>=3.3.2->yfinance) (1.15.1)\n",
            "Requirement already satisfied: six>=1.9 in /usr/local/lib/python3.10/dist-packages (from html5lib>=1.1->yfinance) (1.16.0)\n",
            "Requirement already satisfied: webencodings in /usr/local/lib/python3.10/dist-packages (from html5lib>=1.1->yfinance) (0.5.1)\n",
            "Requirement already satisfied: python-dateutil>=2.8.1 in /usr/local/lib/python3.10/dist-packages (from pandas>=1.3.0->yfinance) (2.8.2)\n",
            "Requirement already satisfied: urllib3<1.27,>=1.21.1 in /usr/local/lib/python3.10/dist-packages (from requests>=2.26->yfinance) (1.26.15)\n",
            "Requirement already satisfied: certifi>=2017.4.17 in /usr/local/lib/python3.10/dist-packages (from requests>=2.26->yfinance) (2022.12.7)\n",
            "Requirement already satisfied: charset-normalizer~=2.0.0 in /usr/local/lib/python3.10/dist-packages (from requests>=2.26->yfinance) (2.0.12)\n",
            "Requirement already satisfied: idna<4,>=2.5 in /usr/local/lib/python3.10/dist-packages (from requests>=2.26->yfinance) (3.4)\n",
            "Requirement already satisfied: pycparser in /usr/local/lib/python3.10/dist-packages (from cffi>=1.12->cryptography>=3.3.2->yfinance) (2.21)\n"
          ]
        }
      ],
      "source": [
        "!pip install yfinance"
      ]
    },
    {
      "cell_type": "markdown",
      "source": [
        "**IMPORTING THE LIBRARIES**"
      ],
      "metadata": {
        "id": "NvBRZOjGQPJV"
      }
    },
    {
      "cell_type": "code",
      "source": [
        "import pandas as pd\n",
        "import matplotlib.pyplot as plt\n",
        "import numpy as np\n",
        "\n",
        "from datetime import date\n",
        "\n",
        "import warnings\n",
        "warnings.filterwarnings(\"ignore\")\n",
        "\n",
        "# to fetch data \n",
        "import yfinance as yf\n",
        "\n",
        "import scipy.stats as ss"
      ],
      "metadata": {
        "id": "2vBEVxmWQOP5"
      },
      "execution_count": 2,
      "outputs": []
    },
    {
      "cell_type": "markdown",
      "source": [
        "**IMPORTING DATA**"
      ],
      "metadata": {
        "id": "DS2tSZnrQbHs"
      }
    },
    {
      "cell_type": "code",
      "source": [
        "symbol = '^SPX'\n",
        "end = date.today()\n",
        "start = end.replace(year = 2022)\n",
        "\n",
        "\n",
        "# Read data \n",
        "df = yf.download(symbol,start,end)\n",
        "\n",
        "df.tail()"
      ],
      "metadata": {
        "colab": {
          "base_uri": "https://localhost:8080/",
          "height": 255
        },
        "id": "ssc9ocRpQ2Xz",
        "outputId": "ff8f6b75-8136-46c5-a804-afe3400e286c"
      },
      "execution_count": 30,
      "outputs": [
        {
          "output_type": "stream",
          "name": "stdout",
          "text": [
            "\r[*********************100%***********************]  1 of 1 completed\n"
          ]
        },
        {
          "output_type": "execute_result",
          "data": {
            "text/plain": [
              "                   Open         High          Low        Close    Adj Close  \\\n",
              "Date                                                                          \n",
              "2023-05-15  4126.649902  4141.250000  4110.270020  4136.279785  4136.279785   \n",
              "2023-05-16  4127.950195  4135.540039  4109.859863  4109.899902  4109.899902   \n",
              "2023-05-17  4122.850098  4164.669922  4113.620117  4158.770020  4158.770020   \n",
              "2023-05-18  4157.680176  4202.200195  4153.500000  4198.049805  4198.049805   \n",
              "2023-05-19  4204.149902  4212.910156  4180.200195  4191.979980  4191.979980   \n",
              "\n",
              "                Volume  \n",
              "Date                    \n",
              "2023-05-15  3562170000  \n",
              "2023-05-16  3654200000  \n",
              "2023-05-17  4039080000  \n",
              "2023-05-18  3980500000  \n",
              "2023-05-19  4041900000  "
            ],
            "text/html": [
              "\n",
              "  <div id=\"df-43e7b22f-f8d4-44f2-abf7-694afa443cef\">\n",
              "    <div class=\"colab-df-container\">\n",
              "      <div>\n",
              "<style scoped>\n",
              "    .dataframe tbody tr th:only-of-type {\n",
              "        vertical-align: middle;\n",
              "    }\n",
              "\n",
              "    .dataframe tbody tr th {\n",
              "        vertical-align: top;\n",
              "    }\n",
              "\n",
              "    .dataframe thead th {\n",
              "        text-align: right;\n",
              "    }\n",
              "</style>\n",
              "<table border=\"1\" class=\"dataframe\">\n",
              "  <thead>\n",
              "    <tr style=\"text-align: right;\">\n",
              "      <th></th>\n",
              "      <th>Open</th>\n",
              "      <th>High</th>\n",
              "      <th>Low</th>\n",
              "      <th>Close</th>\n",
              "      <th>Adj Close</th>\n",
              "      <th>Volume</th>\n",
              "    </tr>\n",
              "    <tr>\n",
              "      <th>Date</th>\n",
              "      <th></th>\n",
              "      <th></th>\n",
              "      <th></th>\n",
              "      <th></th>\n",
              "      <th></th>\n",
              "      <th></th>\n",
              "    </tr>\n",
              "  </thead>\n",
              "  <tbody>\n",
              "    <tr>\n",
              "      <th>2023-05-15</th>\n",
              "      <td>4126.649902</td>\n",
              "      <td>4141.250000</td>\n",
              "      <td>4110.270020</td>\n",
              "      <td>4136.279785</td>\n",
              "      <td>4136.279785</td>\n",
              "      <td>3562170000</td>\n",
              "    </tr>\n",
              "    <tr>\n",
              "      <th>2023-05-16</th>\n",
              "      <td>4127.950195</td>\n",
              "      <td>4135.540039</td>\n",
              "      <td>4109.859863</td>\n",
              "      <td>4109.899902</td>\n",
              "      <td>4109.899902</td>\n",
              "      <td>3654200000</td>\n",
              "    </tr>\n",
              "    <tr>\n",
              "      <th>2023-05-17</th>\n",
              "      <td>4122.850098</td>\n",
              "      <td>4164.669922</td>\n",
              "      <td>4113.620117</td>\n",
              "      <td>4158.770020</td>\n",
              "      <td>4158.770020</td>\n",
              "      <td>4039080000</td>\n",
              "    </tr>\n",
              "    <tr>\n",
              "      <th>2023-05-18</th>\n",
              "      <td>4157.680176</td>\n",
              "      <td>4202.200195</td>\n",
              "      <td>4153.500000</td>\n",
              "      <td>4198.049805</td>\n",
              "      <td>4198.049805</td>\n",
              "      <td>3980500000</td>\n",
              "    </tr>\n",
              "    <tr>\n",
              "      <th>2023-05-19</th>\n",
              "      <td>4204.149902</td>\n",
              "      <td>4212.910156</td>\n",
              "      <td>4180.200195</td>\n",
              "      <td>4191.979980</td>\n",
              "      <td>4191.979980</td>\n",
              "      <td>4041900000</td>\n",
              "    </tr>\n",
              "  </tbody>\n",
              "</table>\n",
              "</div>\n",
              "      <button class=\"colab-df-convert\" onclick=\"convertToInteractive('df-43e7b22f-f8d4-44f2-abf7-694afa443cef')\"\n",
              "              title=\"Convert this dataframe to an interactive table.\"\n",
              "              style=\"display:none;\">\n",
              "        \n",
              "  <svg xmlns=\"http://www.w3.org/2000/svg\" height=\"24px\"viewBox=\"0 0 24 24\"\n",
              "       width=\"24px\">\n",
              "    <path d=\"M0 0h24v24H0V0z\" fill=\"none\"/>\n",
              "    <path d=\"M18.56 5.44l.94 2.06.94-2.06 2.06-.94-2.06-.94-.94-2.06-.94 2.06-2.06.94zm-11 1L8.5 8.5l.94-2.06 2.06-.94-2.06-.94L8.5 2.5l-.94 2.06-2.06.94zm10 10l.94 2.06.94-2.06 2.06-.94-2.06-.94-.94-2.06-.94 2.06-2.06.94z\"/><path d=\"M17.41 7.96l-1.37-1.37c-.4-.4-.92-.59-1.43-.59-.52 0-1.04.2-1.43.59L10.3 9.45l-7.72 7.72c-.78.78-.78 2.05 0 2.83L4 21.41c.39.39.9.59 1.41.59.51 0 1.02-.2 1.41-.59l7.78-7.78 2.81-2.81c.8-.78.8-2.07 0-2.86zM5.41 20L4 18.59l7.72-7.72 1.47 1.35L5.41 20z\"/>\n",
              "  </svg>\n",
              "      </button>\n",
              "      \n",
              "  <style>\n",
              "    .colab-df-container {\n",
              "      display:flex;\n",
              "      flex-wrap:wrap;\n",
              "      gap: 12px;\n",
              "    }\n",
              "\n",
              "    .colab-df-convert {\n",
              "      background-color: #E8F0FE;\n",
              "      border: none;\n",
              "      border-radius: 50%;\n",
              "      cursor: pointer;\n",
              "      display: none;\n",
              "      fill: #1967D2;\n",
              "      height: 32px;\n",
              "      padding: 0 0 0 0;\n",
              "      width: 32px;\n",
              "    }\n",
              "\n",
              "    .colab-df-convert:hover {\n",
              "      background-color: #E2EBFA;\n",
              "      box-shadow: 0px 1px 2px rgba(60, 64, 67, 0.3), 0px 1px 3px 1px rgba(60, 64, 67, 0.15);\n",
              "      fill: #174EA6;\n",
              "    }\n",
              "\n",
              "    [theme=dark] .colab-df-convert {\n",
              "      background-color: #3B4455;\n",
              "      fill: #D2E3FC;\n",
              "    }\n",
              "\n",
              "    [theme=dark] .colab-df-convert:hover {\n",
              "      background-color: #434B5C;\n",
              "      box-shadow: 0px 1px 3px 1px rgba(0, 0, 0, 0.15);\n",
              "      filter: drop-shadow(0px 1px 2px rgba(0, 0, 0, 0.3));\n",
              "      fill: #FFFFFF;\n",
              "    }\n",
              "  </style>\n",
              "\n",
              "      <script>\n",
              "        const buttonEl =\n",
              "          document.querySelector('#df-43e7b22f-f8d4-44f2-abf7-694afa443cef button.colab-df-convert');\n",
              "        buttonEl.style.display =\n",
              "          google.colab.kernel.accessAllowed ? 'block' : 'none';\n",
              "\n",
              "        async function convertToInteractive(key) {\n",
              "          const element = document.querySelector('#df-43e7b22f-f8d4-44f2-abf7-694afa443cef');\n",
              "          const dataTable =\n",
              "            await google.colab.kernel.invokeFunction('convertToInteractive',\n",
              "                                                     [key], {});\n",
              "          if (!dataTable) return;\n",
              "\n",
              "          const docLinkHtml = 'Like what you see? Visit the ' +\n",
              "            '<a target=\"_blank\" href=https://colab.research.google.com/notebooks/data_table.ipynb>data table notebook</a>'\n",
              "            + ' to learn more about interactive tables.';\n",
              "          element.innerHTML = '';\n",
              "          dataTable['output_type'] = 'display_data';\n",
              "          await google.colab.output.renderOutput(dataTable, element);\n",
              "          const docLink = document.createElement('div');\n",
              "          docLink.innerHTML = docLinkHtml;\n",
              "          element.appendChild(docLink);\n",
              "        }\n",
              "      </script>\n",
              "    </div>\n",
              "  </div>\n",
              "  "
            ]
          },
          "metadata": {},
          "execution_count": 30
        }
      ]
    },
    {
      "cell_type": "code",
      "source": [
        "df.head()"
      ],
      "metadata": {
        "colab": {
          "base_uri": "https://localhost:8080/",
          "height": 237
        },
        "id": "jeGPMVXEQ3ls",
        "outputId": "61d4f6fe-b0ad-4d25-cd2e-db9561ce5547"
      },
      "execution_count": 31,
      "outputs": [
        {
          "output_type": "execute_result",
          "data": {
            "text/plain": [
              "                   Open         High          Low        Close    Adj Close  \\\n",
              "Date                                                                          \n",
              "2022-05-23  3919.419922  3981.879883  3909.040039  3973.750000  3973.750000   \n",
              "2022-05-24  3942.939941  3955.679932  3875.129883  3941.479980  3941.479980   \n",
              "2022-05-25  3929.590088  3999.330078  3925.030029  3978.729980  3978.729980   \n",
              "2022-05-26  3984.600098  4075.139893  3984.600098  4057.840088  4057.840088   \n",
              "2022-05-27  4077.429932  4158.490234  4077.429932  4158.240234  4158.240234   \n",
              "\n",
              "                Volume  \n",
              "Date                    \n",
              "2022-05-23  4420030000  \n",
              "2022-05-24  4923190000  \n",
              "2022-05-25  4802560000  \n",
              "2022-05-26  4709970000  \n",
              "2022-05-27  4375620000  "
            ],
            "text/html": [
              "\n",
              "  <div id=\"df-c920bb76-272b-435c-985c-4b4c20c277a6\">\n",
              "    <div class=\"colab-df-container\">\n",
              "      <div>\n",
              "<style scoped>\n",
              "    .dataframe tbody tr th:only-of-type {\n",
              "        vertical-align: middle;\n",
              "    }\n",
              "\n",
              "    .dataframe tbody tr th {\n",
              "        vertical-align: top;\n",
              "    }\n",
              "\n",
              "    .dataframe thead th {\n",
              "        text-align: right;\n",
              "    }\n",
              "</style>\n",
              "<table border=\"1\" class=\"dataframe\">\n",
              "  <thead>\n",
              "    <tr style=\"text-align: right;\">\n",
              "      <th></th>\n",
              "      <th>Open</th>\n",
              "      <th>High</th>\n",
              "      <th>Low</th>\n",
              "      <th>Close</th>\n",
              "      <th>Adj Close</th>\n",
              "      <th>Volume</th>\n",
              "    </tr>\n",
              "    <tr>\n",
              "      <th>Date</th>\n",
              "      <th></th>\n",
              "      <th></th>\n",
              "      <th></th>\n",
              "      <th></th>\n",
              "      <th></th>\n",
              "      <th></th>\n",
              "    </tr>\n",
              "  </thead>\n",
              "  <tbody>\n",
              "    <tr>\n",
              "      <th>2022-05-23</th>\n",
              "      <td>3919.419922</td>\n",
              "      <td>3981.879883</td>\n",
              "      <td>3909.040039</td>\n",
              "      <td>3973.750000</td>\n",
              "      <td>3973.750000</td>\n",
              "      <td>4420030000</td>\n",
              "    </tr>\n",
              "    <tr>\n",
              "      <th>2022-05-24</th>\n",
              "      <td>3942.939941</td>\n",
              "      <td>3955.679932</td>\n",
              "      <td>3875.129883</td>\n",
              "      <td>3941.479980</td>\n",
              "      <td>3941.479980</td>\n",
              "      <td>4923190000</td>\n",
              "    </tr>\n",
              "    <tr>\n",
              "      <th>2022-05-25</th>\n",
              "      <td>3929.590088</td>\n",
              "      <td>3999.330078</td>\n",
              "      <td>3925.030029</td>\n",
              "      <td>3978.729980</td>\n",
              "      <td>3978.729980</td>\n",
              "      <td>4802560000</td>\n",
              "    </tr>\n",
              "    <tr>\n",
              "      <th>2022-05-26</th>\n",
              "      <td>3984.600098</td>\n",
              "      <td>4075.139893</td>\n",
              "      <td>3984.600098</td>\n",
              "      <td>4057.840088</td>\n",
              "      <td>4057.840088</td>\n",
              "      <td>4709970000</td>\n",
              "    </tr>\n",
              "    <tr>\n",
              "      <th>2022-05-27</th>\n",
              "      <td>4077.429932</td>\n",
              "      <td>4158.490234</td>\n",
              "      <td>4077.429932</td>\n",
              "      <td>4158.240234</td>\n",
              "      <td>4158.240234</td>\n",
              "      <td>4375620000</td>\n",
              "    </tr>\n",
              "  </tbody>\n",
              "</table>\n",
              "</div>\n",
              "      <button class=\"colab-df-convert\" onclick=\"convertToInteractive('df-c920bb76-272b-435c-985c-4b4c20c277a6')\"\n",
              "              title=\"Convert this dataframe to an interactive table.\"\n",
              "              style=\"display:none;\">\n",
              "        \n",
              "  <svg xmlns=\"http://www.w3.org/2000/svg\" height=\"24px\"viewBox=\"0 0 24 24\"\n",
              "       width=\"24px\">\n",
              "    <path d=\"M0 0h24v24H0V0z\" fill=\"none\"/>\n",
              "    <path d=\"M18.56 5.44l.94 2.06.94-2.06 2.06-.94-2.06-.94-.94-2.06-.94 2.06-2.06.94zm-11 1L8.5 8.5l.94-2.06 2.06-.94-2.06-.94L8.5 2.5l-.94 2.06-2.06.94zm10 10l.94 2.06.94-2.06 2.06-.94-2.06-.94-.94-2.06-.94 2.06-2.06.94z\"/><path d=\"M17.41 7.96l-1.37-1.37c-.4-.4-.92-.59-1.43-.59-.52 0-1.04.2-1.43.59L10.3 9.45l-7.72 7.72c-.78.78-.78 2.05 0 2.83L4 21.41c.39.39.9.59 1.41.59.51 0 1.02-.2 1.41-.59l7.78-7.78 2.81-2.81c.8-.78.8-2.07 0-2.86zM5.41 20L4 18.59l7.72-7.72 1.47 1.35L5.41 20z\"/>\n",
              "  </svg>\n",
              "      </button>\n",
              "      \n",
              "  <style>\n",
              "    .colab-df-container {\n",
              "      display:flex;\n",
              "      flex-wrap:wrap;\n",
              "      gap: 12px;\n",
              "    }\n",
              "\n",
              "    .colab-df-convert {\n",
              "      background-color: #E8F0FE;\n",
              "      border: none;\n",
              "      border-radius: 50%;\n",
              "      cursor: pointer;\n",
              "      display: none;\n",
              "      fill: #1967D2;\n",
              "      height: 32px;\n",
              "      padding: 0 0 0 0;\n",
              "      width: 32px;\n",
              "    }\n",
              "\n",
              "    .colab-df-convert:hover {\n",
              "      background-color: #E2EBFA;\n",
              "      box-shadow: 0px 1px 2px rgba(60, 64, 67, 0.3), 0px 1px 3px 1px rgba(60, 64, 67, 0.15);\n",
              "      fill: #174EA6;\n",
              "    }\n",
              "\n",
              "    [theme=dark] .colab-df-convert {\n",
              "      background-color: #3B4455;\n",
              "      fill: #D2E3FC;\n",
              "    }\n",
              "\n",
              "    [theme=dark] .colab-df-convert:hover {\n",
              "      background-color: #434B5C;\n",
              "      box-shadow: 0px 1px 3px 1px rgba(0, 0, 0, 0.15);\n",
              "      filter: drop-shadow(0px 1px 2px rgba(0, 0, 0, 0.3));\n",
              "      fill: #FFFFFF;\n",
              "    }\n",
              "  </style>\n",
              "\n",
              "      <script>\n",
              "        const buttonEl =\n",
              "          document.querySelector('#df-c920bb76-272b-435c-985c-4b4c20c277a6 button.colab-df-convert');\n",
              "        buttonEl.style.display =\n",
              "          google.colab.kernel.accessAllowed ? 'block' : 'none';\n",
              "\n",
              "        async function convertToInteractive(key) {\n",
              "          const element = document.querySelector('#df-c920bb76-272b-435c-985c-4b4c20c277a6');\n",
              "          const dataTable =\n",
              "            await google.colab.kernel.invokeFunction('convertToInteractive',\n",
              "                                                     [key], {});\n",
              "          if (!dataTable) return;\n",
              "\n",
              "          const docLinkHtml = 'Like what you see? Visit the ' +\n",
              "            '<a target=\"_blank\" href=https://colab.research.google.com/notebooks/data_table.ipynb>data table notebook</a>'\n",
              "            + ' to learn more about interactive tables.';\n",
              "          element.innerHTML = '';\n",
              "          dataTable['output_type'] = 'display_data';\n",
              "          await google.colab.output.renderOutput(dataTable, element);\n",
              "          const docLink = document.createElement('div');\n",
              "          docLink.innerHTML = docLinkHtml;\n",
              "          element.appendChild(docLink);\n",
              "        }\n",
              "      </script>\n",
              "    </div>\n",
              "  </div>\n",
              "  "
            ]
          },
          "metadata": {},
          "execution_count": 31
        }
      ]
    },
    {
      "cell_type": "code",
      "source": [
        "symbol = '^SPX'  #the ticker of the stock whose data is to be taken out\n",
        "dfo = yf.Ticker(symbol)"
      ],
      "metadata": {
        "id": "D4NKSTEBRDKv"
      },
      "execution_count": 32,
      "outputs": []
    },
    {
      "cell_type": "code",
      "source": [
        "dfo.options  #to get the date of different expiration time"
      ],
      "metadata": {
        "colab": {
          "base_uri": "https://localhost:8080/"
        },
        "id": "XSPjHZpWRDpa",
        "outputId": "ef1dfc15-1775-4127-a0f4-d208deb3e5e4"
      },
      "execution_count": 33,
      "outputs": [
        {
          "output_type": "execute_result",
          "data": {
            "text/plain": [
              "('2023-05-22',\n",
              " '2023-05-23',\n",
              " '2023-05-24',\n",
              " '2023-05-25',\n",
              " '2023-05-26',\n",
              " '2023-05-30',\n",
              " '2023-05-31',\n",
              " '2023-06-01',\n",
              " '2023-06-02',\n",
              " '2023-06-05',\n",
              " '2023-06-06',\n",
              " '2023-06-07',\n",
              " '2023-06-08',\n",
              " '2023-06-09',\n",
              " '2023-06-12',\n",
              " '2023-06-13',\n",
              " '2023-06-14',\n",
              " '2023-06-15',\n",
              " '2023-06-16',\n",
              " '2023-06-20',\n",
              " '2023-06-23',\n",
              " '2023-06-26',\n",
              " '2023-06-30',\n",
              " '2023-07-03',\n",
              " '2023-07-07',\n",
              " '2023-07-21',\n",
              " '2023-07-31',\n",
              " '2023-08-18',\n",
              " '2023-08-31',\n",
              " '2023-09-15',\n",
              " '2023-09-29',\n",
              " '2023-10-20',\n",
              " '2023-10-31',\n",
              " '2023-11-17',\n",
              " '2023-12-15',\n",
              " '2023-12-29',\n",
              " '2024-01-19',\n",
              " '2024-02-16',\n",
              " '2024-03-15',\n",
              " '2024-03-28',\n",
              " '2024-04-19',\n",
              " '2024-05-17',\n",
              " '2024-06-21',\n",
              " '2024-12-20',\n",
              " '2025-12-19',\n",
              " '2026-03-20',\n",
              " '2026-12-18',\n",
              " '2027-12-17')"
            ]
          },
          "metadata": {},
          "execution_count": 33
        }
      ]
    },
    {
      "cell_type": "code",
      "source": [
        "dfo_exp = dfo.option_chain(dfo.options[1])  #you can change index to try on different expiry dates"
      ],
      "metadata": {
        "id": "9C2jV5AqRdCn"
      },
      "execution_count": 34,
      "outputs": []
    },
    {
      "cell_type": "code",
      "source": [
        "dfo_exp.calls.head() #Data for call options"
      ],
      "metadata": {
        "colab": {
          "base_uri": "https://localhost:8080/",
          "height": 337
        },
        "id": "eQgsTqWTRLUL",
        "outputId": "1fd02db0-06d2-4567-e223-80a79d2946c6"
      },
      "execution_count": 35,
      "outputs": [
        {
          "output_type": "execute_result",
          "data": {
            "text/plain": [
              "        contractSymbol             lastTradeDate  strike  lastPrice     bid  \\\n",
              "0  SPXW230523C01200000 2023-05-22 13:59:48+00:00  1200.0    2996.07  3002.5   \n",
              "1  SPXW230523C02000000 2023-05-22 14:02:53+00:00  2000.0    2192.27  2201.7   \n",
              "2  SPXW230523C03400000 2023-05-16 15:04:47+00:00  3400.0     723.30   803.0   \n",
              "3  SPXW230523C03450000 2023-05-19 18:36:44+00:00  3450.0     735.67   752.2   \n",
              "4  SPXW230523C03725000 2023-05-19 19:01:34+00:00  3725.0     468.44   477.0   \n",
              "\n",
              "      ask     change  percentChange  volume  openInterest  impliedVolatility  \\\n",
              "0  3003.8  67.229980       2.295447     1.0           2.0           6.856447   \n",
              "1  2203.0  25.070068       1.156795     1.0           1.0           3.994141   \n",
              "2   804.1   0.000000       0.000000     3.0           3.0           1.390628   \n",
              "3   753.3   0.000000       0.000000     3.0           3.0           1.244877   \n",
              "4   478.3   0.000000       0.000000     8.0           0.0           0.807375   \n",
              "\n",
              "   inTheMoney contractSize currency  \n",
              "0        True      REGULAR      USD  \n",
              "1        True      REGULAR      USD  \n",
              "2        True      REGULAR      USD  \n",
              "3        True      REGULAR      USD  \n",
              "4        True      REGULAR      USD  "
            ],
            "text/html": [
              "\n",
              "  <div id=\"df-a7687c30-1f08-4d44-8062-31f62378aea8\">\n",
              "    <div class=\"colab-df-container\">\n",
              "      <div>\n",
              "<style scoped>\n",
              "    .dataframe tbody tr th:only-of-type {\n",
              "        vertical-align: middle;\n",
              "    }\n",
              "\n",
              "    .dataframe tbody tr th {\n",
              "        vertical-align: top;\n",
              "    }\n",
              "\n",
              "    .dataframe thead th {\n",
              "        text-align: right;\n",
              "    }\n",
              "</style>\n",
              "<table border=\"1\" class=\"dataframe\">\n",
              "  <thead>\n",
              "    <tr style=\"text-align: right;\">\n",
              "      <th></th>\n",
              "      <th>contractSymbol</th>\n",
              "      <th>lastTradeDate</th>\n",
              "      <th>strike</th>\n",
              "      <th>lastPrice</th>\n",
              "      <th>bid</th>\n",
              "      <th>ask</th>\n",
              "      <th>change</th>\n",
              "      <th>percentChange</th>\n",
              "      <th>volume</th>\n",
              "      <th>openInterest</th>\n",
              "      <th>impliedVolatility</th>\n",
              "      <th>inTheMoney</th>\n",
              "      <th>contractSize</th>\n",
              "      <th>currency</th>\n",
              "    </tr>\n",
              "  </thead>\n",
              "  <tbody>\n",
              "    <tr>\n",
              "      <th>0</th>\n",
              "      <td>SPXW230523C01200000</td>\n",
              "      <td>2023-05-22 13:59:48+00:00</td>\n",
              "      <td>1200.0</td>\n",
              "      <td>2996.07</td>\n",
              "      <td>3002.5</td>\n",
              "      <td>3003.8</td>\n",
              "      <td>67.229980</td>\n",
              "      <td>2.295447</td>\n",
              "      <td>1.0</td>\n",
              "      <td>2.0</td>\n",
              "      <td>6.856447</td>\n",
              "      <td>True</td>\n",
              "      <td>REGULAR</td>\n",
              "      <td>USD</td>\n",
              "    </tr>\n",
              "    <tr>\n",
              "      <th>1</th>\n",
              "      <td>SPXW230523C02000000</td>\n",
              "      <td>2023-05-22 14:02:53+00:00</td>\n",
              "      <td>2000.0</td>\n",
              "      <td>2192.27</td>\n",
              "      <td>2201.7</td>\n",
              "      <td>2203.0</td>\n",
              "      <td>25.070068</td>\n",
              "      <td>1.156795</td>\n",
              "      <td>1.0</td>\n",
              "      <td>1.0</td>\n",
              "      <td>3.994141</td>\n",
              "      <td>True</td>\n",
              "      <td>REGULAR</td>\n",
              "      <td>USD</td>\n",
              "    </tr>\n",
              "    <tr>\n",
              "      <th>2</th>\n",
              "      <td>SPXW230523C03400000</td>\n",
              "      <td>2023-05-16 15:04:47+00:00</td>\n",
              "      <td>3400.0</td>\n",
              "      <td>723.30</td>\n",
              "      <td>803.0</td>\n",
              "      <td>804.1</td>\n",
              "      <td>0.000000</td>\n",
              "      <td>0.000000</td>\n",
              "      <td>3.0</td>\n",
              "      <td>3.0</td>\n",
              "      <td>1.390628</td>\n",
              "      <td>True</td>\n",
              "      <td>REGULAR</td>\n",
              "      <td>USD</td>\n",
              "    </tr>\n",
              "    <tr>\n",
              "      <th>3</th>\n",
              "      <td>SPXW230523C03450000</td>\n",
              "      <td>2023-05-19 18:36:44+00:00</td>\n",
              "      <td>3450.0</td>\n",
              "      <td>735.67</td>\n",
              "      <td>752.2</td>\n",
              "      <td>753.3</td>\n",
              "      <td>0.000000</td>\n",
              "      <td>0.000000</td>\n",
              "      <td>3.0</td>\n",
              "      <td>3.0</td>\n",
              "      <td>1.244877</td>\n",
              "      <td>True</td>\n",
              "      <td>REGULAR</td>\n",
              "      <td>USD</td>\n",
              "    </tr>\n",
              "    <tr>\n",
              "      <th>4</th>\n",
              "      <td>SPXW230523C03725000</td>\n",
              "      <td>2023-05-19 19:01:34+00:00</td>\n",
              "      <td>3725.0</td>\n",
              "      <td>468.44</td>\n",
              "      <td>477.0</td>\n",
              "      <td>478.3</td>\n",
              "      <td>0.000000</td>\n",
              "      <td>0.000000</td>\n",
              "      <td>8.0</td>\n",
              "      <td>0.0</td>\n",
              "      <td>0.807375</td>\n",
              "      <td>True</td>\n",
              "      <td>REGULAR</td>\n",
              "      <td>USD</td>\n",
              "    </tr>\n",
              "  </tbody>\n",
              "</table>\n",
              "</div>\n",
              "      <button class=\"colab-df-convert\" onclick=\"convertToInteractive('df-a7687c30-1f08-4d44-8062-31f62378aea8')\"\n",
              "              title=\"Convert this dataframe to an interactive table.\"\n",
              "              style=\"display:none;\">\n",
              "        \n",
              "  <svg xmlns=\"http://www.w3.org/2000/svg\" height=\"24px\"viewBox=\"0 0 24 24\"\n",
              "       width=\"24px\">\n",
              "    <path d=\"M0 0h24v24H0V0z\" fill=\"none\"/>\n",
              "    <path d=\"M18.56 5.44l.94 2.06.94-2.06 2.06-.94-2.06-.94-.94-2.06-.94 2.06-2.06.94zm-11 1L8.5 8.5l.94-2.06 2.06-.94-2.06-.94L8.5 2.5l-.94 2.06-2.06.94zm10 10l.94 2.06.94-2.06 2.06-.94-2.06-.94-.94-2.06-.94 2.06-2.06.94z\"/><path d=\"M17.41 7.96l-1.37-1.37c-.4-.4-.92-.59-1.43-.59-.52 0-1.04.2-1.43.59L10.3 9.45l-7.72 7.72c-.78.78-.78 2.05 0 2.83L4 21.41c.39.39.9.59 1.41.59.51 0 1.02-.2 1.41-.59l7.78-7.78 2.81-2.81c.8-.78.8-2.07 0-2.86zM5.41 20L4 18.59l7.72-7.72 1.47 1.35L5.41 20z\"/>\n",
              "  </svg>\n",
              "      </button>\n",
              "      \n",
              "  <style>\n",
              "    .colab-df-container {\n",
              "      display:flex;\n",
              "      flex-wrap:wrap;\n",
              "      gap: 12px;\n",
              "    }\n",
              "\n",
              "    .colab-df-convert {\n",
              "      background-color: #E8F0FE;\n",
              "      border: none;\n",
              "      border-radius: 50%;\n",
              "      cursor: pointer;\n",
              "      display: none;\n",
              "      fill: #1967D2;\n",
              "      height: 32px;\n",
              "      padding: 0 0 0 0;\n",
              "      width: 32px;\n",
              "    }\n",
              "\n",
              "    .colab-df-convert:hover {\n",
              "      background-color: #E2EBFA;\n",
              "      box-shadow: 0px 1px 2px rgba(60, 64, 67, 0.3), 0px 1px 3px 1px rgba(60, 64, 67, 0.15);\n",
              "      fill: #174EA6;\n",
              "    }\n",
              "\n",
              "    [theme=dark] .colab-df-convert {\n",
              "      background-color: #3B4455;\n",
              "      fill: #D2E3FC;\n",
              "    }\n",
              "\n",
              "    [theme=dark] .colab-df-convert:hover {\n",
              "      background-color: #434B5C;\n",
              "      box-shadow: 0px 1px 3px 1px rgba(0, 0, 0, 0.15);\n",
              "      filter: drop-shadow(0px 1px 2px rgba(0, 0, 0, 0.3));\n",
              "      fill: #FFFFFF;\n",
              "    }\n",
              "  </style>\n",
              "\n",
              "      <script>\n",
              "        const buttonEl =\n",
              "          document.querySelector('#df-a7687c30-1f08-4d44-8062-31f62378aea8 button.colab-df-convert');\n",
              "        buttonEl.style.display =\n",
              "          google.colab.kernel.accessAllowed ? 'block' : 'none';\n",
              "\n",
              "        async function convertToInteractive(key) {\n",
              "          const element = document.querySelector('#df-a7687c30-1f08-4d44-8062-31f62378aea8');\n",
              "          const dataTable =\n",
              "            await google.colab.kernel.invokeFunction('convertToInteractive',\n",
              "                                                     [key], {});\n",
              "          if (!dataTable) return;\n",
              "\n",
              "          const docLinkHtml = 'Like what you see? Visit the ' +\n",
              "            '<a target=\"_blank\" href=https://colab.research.google.com/notebooks/data_table.ipynb>data table notebook</a>'\n",
              "            + ' to learn more about interactive tables.';\n",
              "          element.innerHTML = '';\n",
              "          dataTable['output_type'] = 'display_data';\n",
              "          await google.colab.output.renderOutput(dataTable, element);\n",
              "          const docLink = document.createElement('div');\n",
              "          docLink.innerHTML = docLinkHtml;\n",
              "          element.appendChild(docLink);\n",
              "        }\n",
              "      </script>\n",
              "    </div>\n",
              "  </div>\n",
              "  "
            ]
          },
          "metadata": {},
          "execution_count": 35
        }
      ]
    },
    {
      "cell_type": "markdown",
      "source": [
        "# **Calculation of u and d**"
      ],
      "metadata": {
        "id": "ng_942OdRlm8"
      }
    },
    {
      "cell_type": "markdown",
      "source": [
        "u =size of the up move factor= \n",
        " e^{σ\\sqrt{t}}, and\n",
        "\n",
        "d =size of the down move factor= \n",
        " = e^{−σ\\sqrt{t}}\n",
        " = 1/ u\n",
        "\n",
        "σ is the annual volatility of the underlying asset’s returns and t is the length of the step in the binomial model.\n",
        "\n",
        "To calculate annual volatility:-\n",
        "\n",
        "First calculate the daily returns of the asset\n",
        "\n",
        "Then calculate its standard deviation\n",
        "\n",
        "Then multiply it by sqrt(252) as in a year there are 252 trading days.\n",
        "\n"
      ],
      "metadata": {
        "id": "nV3hRxo2Rr5n"
      }
    },
    {
      "cell_type": "code",
      "source": [
        "#Calculation of daily returns\n",
        "#Hint : You can use pct_change on daily closing which you can get from df\n",
        "ret = df['Close'].pct_change()[1:]"
      ],
      "metadata": {
        "id": "kstOTReRRfR_"
      },
      "execution_count": 36,
      "outputs": []
    },
    {
      "cell_type": "code",
      "source": [
        "#Remove nan if any\n",
        "ret.head()"
      ],
      "metadata": {
        "colab": {
          "base_uri": "https://localhost:8080/"
        },
        "id": "j2nZIW0zSvuB",
        "outputId": "5c81a61b-dfd6-4543-ded0-81000e7de84a"
      },
      "execution_count": 37,
      "outputs": [
        {
          "output_type": "execute_result",
          "data": {
            "text/plain": [
              "Date\n",
              "2022-05-24   -0.008121\n",
              "2022-05-25    0.009451\n",
              "2022-05-26    0.019883\n",
              "2022-05-27    0.024742\n",
              "2022-05-31   -0.006274\n",
              "Name: Close, dtype: float64"
            ]
          },
          "metadata": {},
          "execution_count": 37
        }
      ]
    },
    {
      "cell_type": "code",
      "source": [
        "#Calculation of daily standard deviation\n",
        "daily_vol = ret.std()"
      ],
      "metadata": {
        "id": "3DxjgRF4S02I"
      },
      "execution_count": 38,
      "outputs": []
    },
    {
      "cell_type": "code",
      "source": [
        "daily_vol   "
      ],
      "metadata": {
        "colab": {
          "base_uri": "https://localhost:8080/"
        },
        "id": "4vftCnAXS6sD",
        "outputId": "8189486e-5e4e-4259-988a-9c0e28ab86bf"
      },
      "execution_count": 39,
      "outputs": [
        {
          "output_type": "execute_result",
          "data": {
            "text/plain": [
              "0.013357958340422367"
            ]
          },
          "metadata": {},
          "execution_count": 39
        }
      ]
    },
    {
      "cell_type": "code",
      "source": [
        "#Calculate annual volatility from daily volatility\n",
        "vol = daily_vol*252**0.5"
      ],
      "metadata": {
        "id": "gmJsnLChS9OM"
      },
      "execution_count": 40,
      "outputs": []
    },
    {
      "cell_type": "code",
      "source": [
        "vol "
      ],
      "metadata": {
        "colab": {
          "base_uri": "https://localhost:8080/"
        },
        "id": "u8Lehy6_TAg1",
        "outputId": "807f3dff-14ff-4a8b-f867-d3c5af8ff246"
      },
      "execution_count": 41,
      "outputs": [
        {
          "output_type": "execute_result",
          "data": {
            "text/plain": [
              "0.21205101475391197"
            ]
          },
          "metadata": {},
          "execution_count": 41
        }
      ]
    },
    {
      "cell_type": "code",
      "source": [
        "dfo.options[1]"
      ],
      "metadata": {
        "colab": {
          "base_uri": "https://localhost:8080/",
          "height": 36
        },
        "id": "oZiX95KKTC_0",
        "outputId": "0cf03a0c-831d-4b41-b4c7-1e19dd1a61b1"
      },
      "execution_count": 42,
      "outputs": [
        {
          "output_type": "execute_result",
          "data": {
            "text/plain": [
              "'2023-05-23'"
            ],
            "application/vnd.google.colaboratory.intrinsic+json": {
              "type": "string"
            }
          },
          "metadata": {},
          "execution_count": 42
        }
      ]
    },
    {
      "cell_type": "code",
      "source": [
        "date.today()"
      ],
      "metadata": {
        "colab": {
          "base_uri": "https://localhost:8080/"
        },
        "id": "dY_ZoajGUGgX",
        "outputId": "affa8ec9-a649-4318-9e2e-cf854c5bb5d1"
      },
      "execution_count": 43,
      "outputs": [
        {
          "output_type": "execute_result",
          "data": {
            "text/plain": [
              "datetime.date(2023, 5, 22)"
            ]
          },
          "metadata": {},
          "execution_count": 43
        }
      ]
    },
    {
      "cell_type": "code",
      "source": [
        "N = 100\n",
        "T = 8.0/365      #Calculate the number of days left for expiry from your calculation in years\n",
        "t = T/N       "
      ],
      "metadata": {
        "id": "1HKDSykKUQuO"
      },
      "execution_count": 46,
      "outputs": []
    },
    {
      "cell_type": "code",
      "source": [
        "u = np.exp(vol*np.sqrt(t))      #Calculate u from the above formula\n",
        "u"
      ],
      "metadata": {
        "colab": {
          "base_uri": "https://localhost:8080/"
        },
        "id": "zQjePwKKUTOi",
        "outputId": "ef3f01d3-2cc5-4b3d-cc8a-8544b3cd1d6f"
      },
      "execution_count": 45,
      "outputs": [
        {
          "output_type": "execute_result",
          "data": {
            "text/plain": [
              "1.0031442769688002"
            ]
          },
          "metadata": {},
          "execution_count": 45
        }
      ]
    },
    {
      "cell_type": "code",
      "source": [
        "d = 1/u   #Similarly calculate d\n",
        "d"
      ],
      "metadata": {
        "colab": {
          "base_uri": "https://localhost:8080/"
        },
        "id": "b49n-6n5UZQt",
        "outputId": "2936b158-110b-4b85-90ed-4471f0070593"
      },
      "execution_count": 47,
      "outputs": [
        {
          "output_type": "execute_result",
          "data": {
            "text/plain": [
              "0.9968655785204684"
            ]
          },
          "metadata": {},
          "execution_count": 47
        }
      ]
    },
    {
      "cell_type": "markdown",
      "source": [
        "# Binomial Pricing model for call option"
      ],
      "metadata": {
        "id": "3qxv_yoIcSL2"
      }
    },
    {
      "cell_type": "markdown",
      "source": [
        "Let S denote the price of the stock today, and let T denote the time until expiry of the option, in years. We'll divide this period into N equal time intervals, of length ΔT=T/N Assume that in each time period, the stock price changes by either multiplying by u, which we consider as an up movement, or by d, the down movement. We need to assume d<erΔT<u, where r is the risk-free interest rate, to avoid the possibility of arbitrage. If k time periods have passed, m is number if up movement : S(k,m)=S * u ** m * d ** (k-m)\n",
        "\n",
        "C(N,m)=max(S(N,m)−K,0)\n",
        "\n",
        "Once we know the value of the option at the end of the tree, we can work backward as before to figure out the value of the option at every node. Let C(k,m) denote the value of the option at the node that is k steps into the tree with m up movements in the stock price. The two following nodes in the tree are C(k+1,m+1) (if the price moves up) and C(k+1,m) (if the price moves down). If we let p denote the risk-neutral probability\n",
        "\n",
        "p = (e**(rΔT)−d)/(u−d)\n",
        "\n",
        "of a movement up, then the expected value of the option in the next step is pC(k+1,m+1)+(1−p)C(k+1,m)\n",
        "\n",
        "and so the value of the option at C(k,m) is the above expected value, discounted to today using the risk-free interest rate. That is\n",
        "\n",
        "C(k,m)=e−rΔT(pC(k+1,m+1)+(1−p)C(k+1,m))"
      ],
      "metadata": {
        "id": "ogRVX1rXcUm-"
      }
    },
    {
      "cell_type": "markdown",
      "source": [
        "![download (2).png](data:image/png;base64,iVBORw0KGgoAAAANSUhEUgAAAfQAAAEkCAYAAADZ6MOlAAAgAElEQVR4AexdB5gURdrm7n7znVlP71RMgJ4BFSMGFBVEDIggggoCiiRBRJKAIDmDIFkySEaSIDnnHHdJS4bdhV122Tip3/95q6dme4fZBDs7MztfPU9P93RXV3irq94KX31fEYgTBAQBQUAQEAQEgZBHoEjI50AyIAgIAoKAICAICAIQQpePQBAQBAQBQUAQKAQICKEXgkKULAgCgoAgIAgIAkLo8g0IAoKAICAICAKFAAEh9EJQiJIFQUAQEAQEAUFACF2+AUFAEBAEBAFBoBAgIIReCApRsiAICAKCgCAgCAihyzcgCAgCgoAgIAgUAgSE0AtBIUoWBAFBQBAQBAQBIXT5BgQBQUAQEAQEgUKAgBB6IShEyYIgIAgIAoKAICCELt+AICAICAKCgCBQCBAQQi8EhShZEAQEAUFAEBAEhNDlGxAEBAFBQBAQBAoBAkLohaAQJQuCgCAgCAgCgkCIE7oBl9MJp8sVBiVpwOVywQiDnGaXRcPlgtPphMsIbyQMQ3DI7juRZ4JAOCIQwoRuwGlp09nAWf6GY1kW+jyTzK0uXEndcDmtMMAI885NJjDkjyAQxgiEJqEbBgzVtqcict0CLNsTZxahgUJM6k7EHY9Coi08uy2atC4e3YE/F67EmeTwrLWGyyz/9Oj9WDBzIaIS7eEJhORaEBAELkEgwIRuwGG3w27jYUO6zQ53e+VJKKfUHZxWdx8OhwM2J0coyfhj4u9o1WEg+jarh0XrdsMGBO9oxXDBnm6DnelPT4fNkXm0CcOA0+m4JK9OBUga9q0Ziwplv8TmuMyjMw9QoXJBHGw22O0O2ImD3enVCeMyihcOtnQ4nMDFXX+id5cfUL/e53i5Sn1sjQ5lVjfg4Hevvv90pNsdXjjgEhyIm8PhwvkdKzFhSHe0rP8J3vy8O/adSzVLPzz7eqHy5Us6BQG/IxBgQveVv9y1Ssl7RqDcu1UwOBIw1jXFyw17Ytt5RenkxpBwuU2mYaThyK6puP9vZbD2nCMk8panROaqwAwsHzIQUxZsQXzsflR7qAi6rziap2iC33PuvohTG/7C8vX7kZQWhWeLPI5RK46YWcsVjsGPgqRQEBAELg+BwBC6bnhs5zCz7wD06jIUPZvVRa22I3Ek3cyIOVJ3YM+S6ZgweTKmTpmKadOmYOxvE7By12nsHPkdmtauinV2jnSXomjJzpizIV69rKclLw+S/H1Lr/smH9+Mno06Y8SwoWj8wYdoP3efGZEbi7S4E1g2YyzGT52OaVOnYvr0qRgzaiZ2n4h3z1qcQrXb38O6WHZaQs9pHOzn9mFQ864Y8usItPj0IzQbtxbuIleZciSfw9o/xmP81GluHKZgzG/TsTnyJE6eTQNs5szGykr/QuelbiILITgo60FnXDyG0T/1xC/9hqND3Wr4pv9cnLdM2hiOJGyePwnj+d1PnYpp06di7OipWL0tChmT7IfQ4ofRiDh+0Qwzd/2BEEJLkioICAJ5QSBghO5k4+VMxvAab+LZEhWwdMEsvPHoq+g3fbNKv0kALpzatwMbtm7Ftm3bsH37NqxfswFRcSnYNaoF2tf7EjvYONpno8RdHbBgrbmWHkyEzsV+rhDYLhxEpf+7CrV/GoHZE7rh4fs/RKR7ppQZticnYP+2jdiwfTu2b9uGHTu2Y/3abTgZnwxCZbj2ouJN72DduYzmPC8FHXC/hgsOB4s8Gl//5zZUqtMJf00ZjhL3vIU1JxM9yXOmp+Dgjk3YsM2Kw1ZERZt+7IrQD6P6m99g7UmTyDwvh8KF+3sw0i+g3XMl8Ea5+lg6awqeKvoapm857s6BAcNpw9FdWzw4bN+xDRvWbUHksWg4DAOOxAMY8n4JXF/scyw5mBYKOZc0CgKCgJ8RCAyhk8vda8g7xgxEj+a9VDa7lf0YXfovMLOsJJrt2L1wFiZOm4YZ02dg5swZGD9qItZEncXmTj+g/btfYBdccLkWovidbTBndax6N6gIHYBDzSIAYz/5GDO3sdGOQ8XrXsX6CxlDqtRzJ7Fs2kRMnDkLM2fMwKw/ZmLcmGnYfeK8InQY+xShr4kOzRE6C8ZhM9f/ZzWog9Gz1quy+vSWVzF33zmzzNmxSTqPNTMmYcKMmRYcpqgRerqDeMWjf6P2GL38hOedULtw2E0clnVshYG/TFPJb/TQWxi1YK8nKy57EjbPnoIJM2Zg5vQZmDVrBiaMnYJV2w7CbhiwJ8UiYt0adCl3G9r/sck9y5HxPXkCkgtBQBAIGwQCRuguN6FvGz0Ow1uPUOLpP71aE7+OXWWCr4bwBpLjYhEdE4OYmBjExsbgzKlTuJCSjtRVffBGrRoYcBpARA88W7snNp4w15f1jH6wlKLTPU08vmojrNhNQj+GSjd/iD2WKVaXPR3xMWcRHRuL2JhYxMbG4uzZWCSna0HBKFS65X1sT7W8FCwZzGU6nJrQv2mNOfO3KMHG6ne8j1WnMkbohtOOhNhoLxyiEZ/AiflUjCjXFuMm71Exbl22EUkhyGH6e1jaoScmDp2vvv1vHqqMmRsOm0jyAzacuHguBtH8FtS3z+8hBglJqWrGR0O+s+Nr6DV/AyyTPfqRnAUBQSDMEAgMoXPaUQF9AV2/ehl3P1cVkUf24J0n7sTLtbshwS33lSUxqznoNCwa3gWtGn+GD79ogynrD5theovJB7hADcMJNbC8sAEl/3sDanSZiD0rRuGGq65D9znmiExvyfKdVJOxjq8Yjn/+4yp8O2wJQnCiGcTBzqzY9qP8k3egbMM+OLR9Hu6+4Wo0Gb7cd9a97s6tVgG3FimCG+/8N26/7WZU6b3anL3w8hfUf7n0oIr0JOq+/TCeqNQcRyLX4Ym7rscnHSdZ1sezzsWBkV/jySdfQNUvG6DLoGk4dfFSCfms35YngoAgUFgRCAyhe9A0YEtPQVJqGpwuJ9LSU5CabvPavmOorWgkPfPg1jT3fnOXExfOxeB8QgiMTwwHUlKTkWqzw+mwISU1BenuqdcMOHQeM876mUu9k4y09FBvvJ1ITUtGSroNLqcdKWkpSLd5Se57yjozDvbkZCSnJiMxMQEXLiQg1WRGDVGInV1IS0tBclq62p6WmpaCtHRv+YiM/Hu+fwCu9IuIPXUSp2MSkOYFXYiBIMkVBASBfEQgwISejzmRoAQBQUAQEAQEgTBGQAg9jAtfsi4ICAKCgCBQeBAQQi88ZSk5EQQEAUFAEAhjBITQw7jwJeuCgCAgCAgChQcBIfTCU5aSE0FAEBAEBIEwRkAIPYwLX7IuCAgCgoAgUHgQEEIvPGUpOREEBAFBQBAIYwSE0MO48CXrgoAgIAgIAoUHASH0wlOWkpMgQMBBe/c2W9Af2WsnDAIgJQmCgCCQZwSE0PMMmbwgCAgCgoAgIAgEHwJC6MFXJpKiEESAo3K6r776Cvfffz+KFi2Ke+65J+iOBx54AI8++iiioqJUemWkHoIfmyRZEMgCASH0LICR24JAXhBISzNtkhcvXhyjRo3CgQMHEBERgcjIyKA5du/erdJ15513Yv1603ytEHpeSln8CgLBjYAQenCXj6QuRBBIT6d5V+CJJ57A2rVrgzrVHKELoQd1EUniBIHLQkAI/bJgk5cEgcwIWAl96dKlyjKg0+n0shTow3qaD8tyLpfrst7zWGTzESafcRaBZ84iCKFnLj/5JwgUBgSE0AtDKUoeAo6AJvTHH38cy5YtU+khMeerMwwwTJebsPMatk6jEHpekRP/gkBoICCEHhrlJKkMcgQ0WV4poafGnca+XXuR6G3r3bjyzoFOoxB6kH9MkjxB4DIREEK/TODkNUHAioAmy8sldFM4zYkDS2ehY5tG6Dv/sAreMABDR5SehH2bN2Jn5HGcj0+B4cwbyes0CqFrQOUsCBQuBITQC1d5Sm4ChIAmy9wSuuFywuFwKrJ2OR1wOF0wYEOKAzh/YA56zjqicmJOsQO2c5H487e2aP1zFwzt2xoN+kzBvrMO0w9ZPxdOp1EIPRdgiRdBIAQREEIPwUKTJAcfAposc0voPnPg5uXd0/uj//jNcAJwOUzSPjqlPZrXeBsRfDF2Pr7+eRTWHDC3ynFNPTdOp1EIPTdoiR9BIPQQEEIPvTKTFAchApossyd0SrmbiT+2dRHmzF2NJLsT+5ZPw58r9sEOO/auXYOd2xeje4+FIJVrQo9Z2Q9Vit+BHyetUgGcP3wS504nghPyTocDzlxMv+s0CqEH4QckSRIE8gEBIfR8AFGCEAQ0WWZP6IDLZU6zn57fAS/VrIdxZ5w49FtV3PvtIOxPduDQ1tVYv3k7zpiDb3Bq3nAZQNpRzOhRF8UfvBvvVGuJRdviFegGh/G5dDqNQui5BEy8CQIhhoAQeogVmCQ3OBHQZJkToRsuuynkFjke1Vp+i4EHHMDGH/F46xHYes47b4Yic6fLiXQnFLlvXTkL31d6CsUe/BQLtsUBiMeSGTMwY+k+mMpnvcPI+K/TKISegYlcCQKFCQEh9MJUmpKXgCGgyTJHQneaa+LG1oEo1+x7TOVI/M8P8EabQTiaTNLWe83NrHCEzmn1yLUb8NeMLe78XcDTRV9Bi7E7cHrjJPyxaRP+7NcHuy5mP1zXaRRCD9hnIhELAn5FQAjdr/BK4OGCgCbLnAgdhgs27jZLO4rqH7+I6575EHWK3YEiN5fGb9tjTbjcC+32EzvR+pUS+GEvkLq2P0qXuAHv9xyP4U3LoeKnDbA7MRVzvqqLZafjETn8awzY4n4/C9B1GoXQswBIbgsCIY6AEHqIF6AkPzgQ0GSZI6FzvO0WjLtw4gh2743A0cNHcfjwccSnmaN3nSPDloLTB3bjRBpg2BJx9HgkIo9GIWL7NpyK5nQ7MK/JN1hzNgaRoxtgyJYY/arPs06jELpPeOSmIBDyCAihh3wRSgYChYBVd7omSxpn8YfqV58b0wwg/eBfGD5+LH75ZSZiHdkrmtFpFEIP1Bcj8QoC/kVACN2/+EroIYGAAbstXRkvSUpMQJrD7km1lbRNbW6eR5kutN723IzQrS9aw7fe19fqufuP9dqiPw62xESkO31Svg5GnYXQM8EhfwSBQoeAEHqhK1LJUK4RUEZOuNn7Ihb3bIz33qyCpo0/QfX6HbH5eAape4dHK2qpqam4cOECYmJiEBUVpUblM2bMwI033oh169apVzTJe78fqP9C6IFCXuIVBAoGASH0gsFZYglSBJxqmtqFRb2a4fVXWyIZCahati36jDsKl8OGs2eicezYMURERGDVqlUYM2YM2rVrh+rVq+P555/HrbfeiiJFiqjj7rvvxt///nds3bpV5VYIPUgLXZIlCBRSBITQC2nBSrZygYDhUupVYYvEzwN748f1gHP/UHz6XScsP+VCWmIsKr73Pu666y4PaWvytp6vvfZa9Xzw4MF45JFHsGLFChW5EHouykC8CAKCQL4hIISeb1BKQKGGgNrjbRiwb52CHo0rYdjerZhZrRL6dh2P824bZz+0aKHI+v/+7/9w9dVX46qrrgKv//GPf6jROM88br/9djX9/sorr2Dx4sUKCiH0UPsiJL2CQGgjIIQe2uUnqb8CBFxu/edRi6aiQfnqGDFpMmYtWQ21+cswFbykpaWBgm7WEbn1muTO/y1atFApeeyxx7B06VJ1LYR+BYUjrwoCgkCeERBCzzNk8kKhQEALxKXsx0/1PsU7DVZnZMvlUONzCr/Z7Xbs2rULt9xyixqRW8mcI/O//e1vKFasGHbs2AFKoT/66KN+2baWkbjLvxKhuMvHTt4UBEIBASH0UCglSWP+I6C0uxhwJu7H9GG9MHZJFFJtTjjsdtAWCsmcBE03c+ZMXHPNNZeM0knoJPhu3bp5/HIf+sKFC0HypCQ8z8FyJHJ7W3q66oBs2LBB5U3nMf8BlhAFAUGgoBEQQi9oxCW+oELAqopFWyC12UwzJxyd16tXD2XLlsXUqVPx8MMPq/Vykrieai9VqhROnToFh9tuecmSJZVEfFBl0isxTz/9NNavX6/uCqF7gSN/BYEQRkAIPYQLT5KePwhQOI6jcupk1WTOEexLL72kCP3gwYMqorlz56oROUfm3J7GUXu/fv3Us4sXL6oz19vvvfdePPPMMyC5P/XUU0FzPPnkk3j22WdVHrZv367SG2zr/CpR8iMICAKXhYAQ+mXBJi8VNgSsxNa5c2dwFDt69GgPwesp+Fq1anmm3l9++WWQyPmMBx3Jn6pfFy1ahL/++iuoDqaJEvgbN25UU++FrQwlP+GJgMwyZZS7EHoGFnIVpghoMj99+jTKlSuHDz74AHv37vWgwee60aCSmdtuuw033HCDInx60tPtnhfkQhAQBASBACAghB4A0CXK4ENg2rRpSilMjx49kJyc7EmgJnLPDQBUIEMtcRyVk8ytfkj+oXBY8yPXgkCoIsD6pxU5WethqObnStMthH6lCMr7IYeAteJTH3v9+vXVOjenorWz+tH39Jl7048ePar+ZudP+5ezICAI5A8CejZNh7Z27VqsXLlS/w37sxB62H8C4QWAtUFYs2YNXnjhBdSpU0dZWgsvJCS3gkBwIsA6yi2fuq6yA81j4MCB8N5u2b17d88MGf2npKR4/vOdQHW4ddoLGmEh9IJGvJDGpwXDgv1M+OPj48GGoESJEpgyZYoqkUBVwEL6OUi2BIHLRiA2NhZDhw5VgqWsnwsWLFAHFTjNmTPHEy4Ju3///p7/XCrjctj06dOVQaXWrVtjy5Yt6rm/6zc7DtTzwPiGDBmCQ4cOedJVkBdC6AWJtsQVcARoCa1y5cp4++23cfbsWZUeEWoLeLFIAgQBz2iay2AdOnRQnW6eOaVO5U7t27dXI3eSJ4/58+dj586dHuS45bR3796oWbOm0txYpUoV/Pbbb+q5P+s408LwN23apHRWUE8FtUvS8VlBOiH0gkS7EMale76sdDQtOmrUKFWJWJGC7aBymNKlS6NTp06ektDbzTw35EIQEAQKFAFN0Jr8Dh8+jNdff91jhpiJ4XbRX3/9VaVLkzO3l+prPjhx4gQqVqyI2bNnqxE67Svo3Sq6nfJHxphurb+iWbNmqo2Ji4tTUek8+SNeX2EKoftCRe7lGgH9If/zn/9UiljKly+vRr/c/hUsx1tvvQWmiz1nbTiFDUFBV7ZcgyoeBYEwQEAvzzGrrIvUzEi3ZMkSNdLlNe9xJu2bb77BvHnzlD++x1E8Bwy6/aHfVatW4cUXX1S7Tzhl36hRI886vD/qOjsJekDAdCYlJSlbDs2bNw9Y2yKErj4h+blcBHQlvO+++zL1li83PH++V7RoUZw/f141Ev6o4P5Mu4QtCBQmBHS7wTxx7Vk73h85ciRGjBjhIWMSdcOGDZVCJF1vx48fn2mdmuQ6efJktG3bVpFpmzZt0KRJExUs39Hv6Xiu9GydGaBMDt2ePXtw6623KlsO/O/PWYGs0i+EnhUycj9XCOiK+Z///Af79+9XGsgorBIsBkmYDvaceb7jjjvUtFyuMiaeBAFBwC8I6DZj9erVGDduHP78809QgI1r4nwWGRmpBFd15OyE0/aAlfi5Rq1Hx/RH8jxy5IgazZO8d+/erQiWz/KbzHW8TCc7Hn/88Yea5v/iiy/U9lctECeErktQziGDgK6cJHSufdHldwW6UjB0Gu+8805lSOVKw5P3BQFB4PIQ0CTHKfEff/xRTa+TiCnIVrx48csL9DLeYhvFdiG7QxO3NXjdtrHzUbduXaVKOSoqSs0q0GATdVpw8ECn/Vrf9/e1jND9jXAhD1+T5ZUQOo2jsPL4Egg1uE7l4HMXXL485AJfnUYh9FyAJV4EAT8hoKepJ06cqITetMAao6NdhBo1aqiYzbYgQzqcxOh9T3cMrEnlPX3fem31kx/XtNFAM8nbtm3zBEcFN1dddRXGjh2r7ul0eDwU0IUQegEBXVij0WR5JYSeFTaXyd+XBKfTKIR+CTRyQxAoEARIcCRmzuJxJM41cDpOT7/33nvgFjNOrReUO3fuHL777jtQEv6HH37IdLRq1QqNGzcGrSvqUboebdNUMs0o9+rVSyVVq4nm/xtvvFFtl+MD/V5B5UfHI4SukZDzZSGgyfKyCN3N2Dum9cP3LX7BnvOmlCsrj9k/T8OOBWPQ/JtW+HXkBCzdcxpJphf389wlWadRCD13eIkvQSC/EdDS6H379sXf/vY3tWbepUsXtd+cimOs6+P5Hbev8E6ePKl25bzxxhsoU6ZMpuPNN99UZoa5TU7PKugw2AG4++67FWFrTXQ06kTTxNRtofOhOwD6vYI6C6EXFNKFNB5NlpdF6MQk7SjmzV+Pv0Z+gaKdzSksm82k8xX9u6NZxeY4GROLlZ1exA+DB+Okiy+xt597QHUahdBzj5n4FATyCwGSm56C/vTTT/H4448rATaOyLWEOOMqSBJkeki+vg6aROZ9ErbVsVPCnTLWpQE+/+WXX9SWWHZW6AI1OmfcQuiqCOTnchHQZJkbQjecDjicDhWVy2GHw+UEx+KG4cKGkfXQcVWMemZzj8L/+LE16lTojBTevbgFs1fvwokEM6V5qfw6jULoJnbyKwgUJAKsq5rkKAn+73//O9NuE9bPdevWZSL3gkxfbuOifvm///3vagsd32GeKKFfrVo1ZX1xwoQJquOiOy+5DTc//Qmh5yeaYRiWJsvsCN3lVMNqxG7+DZWqNMPciIs4+ldnvPppT0TE2XFqRS/8q+ZARByNVQg67ab/w5N74JF/3oT36k3G6QsXEZdmg92eh6G5uzx0GoXQw/ADlSwHBQK6DpL0/vGPf6BSpUpqXzlVMVO964wZM4IindklgtPvJUuWVNtfub7+008/Ke2YlNh/8MEH0bNnT6WhjmHkZcCRXZx5fSaEnlfExH8mBHRFzY7QYThhUxy9De893wodBpyGgcX4zw0/Y/2mbZg0oCcGDv4F4+aZepnZw3W4TOKO3jEBVZ79N66+7Xm0m78Paeq2A/Gx53D+oi1TWrL6o9MohJ4VQnJfEPAvAlaCo9U0GlqhcNlXX33lIUH/piB/QqfxlVKlSuGZZ57B77//rgKlMZjnnnsOmzdvVv9lhJ4/WEsoAUBAk2VOhK5m0Y31eOOZthg4hdPuK1H0vl7YHuWeX78k7Uk4euIYjrun2A93rYoi/1cZ0/e74IxbjWHDR2Lw4JmIy8WAXadRCP0SkOVGmCNAotVka732Fyw6Lu/ws7rv7S/Y/gdbumWEHmxfSIilR5Nl9oTugt1J5j2IOs9+ispfjMay2XVR5ObymLTxDFzufegulwHn+eP4c+QQbLmYgqVDuqNOlS7YejACW/7qgTIlf8baXTZs6tEcqxKSsO/X7zHrhDlKz47XdRqF0EPs45Lk+g0BEpFe12Yk1lGl9b4/EsDwWSd58DrYSDG7PDOtTDen3zVmPPNeMORDCD270iv0zwy4KKjm4GGHw+nK03YwwsMPmS5bQmeD4V4XjxrdHZXfrY4W7b5AnSpfYPzyI26UTUq2Hd+JPrWrYshJIH7RCDSpVBND/5iM9pWbY+rcvcrvmI+qY+P5RESO/ALd1p9T97KTetdpFEJ3Qy0nQcCNAAlVS3NTwxklvLNzJK2cjuzel2f+RUAI3b/4hmDo2Y11L80Ot3KwgpPQtQ7jrHuqeQnbt1+XC4iY2BOTVq7A9L5dsC7GrWbx0qR57gihe6CQC0FAIUALZlTuUq9ePSxatAhcG+7fv7/akkVNblnXYQEwmBEQQg/m0vFX2vRw1nkB25bOxZTpszF+WC/M27oLJj3ikpE6Kzh78xzNkyBJ5OzRU1MSp5xI6MePH1cpzq4xcDkc6l273QZbejocaireklHDBYfNBocBcJubLd0GytPxPYfDaXpMP43Vy1dgxSYzPsvbPi+F0H3CIjfDFAHWY2o8o95xmhSmprRZs2Yp4yjcgnX11Vfj4MGDWaKjp5qz9ODjAeNke8F2I5yO7NpCHzBd8S0h9CuGMBQDMKC2hjlSMbv2G3j+pc8xdWoPvFSqNVbsSlC9c7vNDpubuDUhZpdTTmdTn7FfnEdznBm6deyu+ybZxavTL1Pu2aEkz8IFAU3IgwcPVoTubaqURkZmz57tE44xY8bg6aefVnbHKe3t69i4caPPd+Wm/xEQQvc/xkEYgwGbGhlHo2WzH1C3JzW0RaDMpwOxeGeSz/RSc9K+fftAwwS0V8y9o7Vr10bFihVRvnx5ZZiAJg0LxBmmoRbdMOUUpxB6TgjJ83BBQI8YExISlEGUV155RZkX1rNv3IpF5Sk0V+rLUQFMp06d0L17d1B1q6+D1se8HU2MVqhQQU3pf/LJJyjsB2c6qlatmkmBjjcm/vgvhO4PVIM8TFo34yjXeeQPtB0wEGsA7K//Juq1HYoYJ3D6WBT69e+PJk2aKAUQpUuXVrqKqTyBo9zrr79e9ew5XWc9YmNNxTC60QgWGITQg6UkJB2BRoDETUdLYbfffjuGDRum/iclmR15TsNTVzmNl9B512UaV6ESGOpfpwlR72PevHmed1UA7h+SPJ8tXrxYrdlz3b6wHxz8aFytWPjzWgjdn+gGadhcj6Y7M74Nald6Bx0GdUe37ztiy6E4pYo1LTUVjz32WCaythK3vubUHI/XXntNaX/iuhyddyOgbgbwRwg9gOBL1EGFgJ7VGjVqlNJ4FhkZqdJHor9w4QLuuece9OjRI8s6PGjQIFxzzTVKpznlZrwPqnVdtWpVUOU5nBIjhB5Opa3yasCULUvBxJ6/onWLKTgXG4OYi24FL+5FaeooJnHTMhJVNXIajgf/64NkTj+rV6/G/fffr0wjMgoh9LD7qCTDIYCArpfs4NJIyuuvv65STWE1uoYNG+Ktt97y6FTX/q1Z47a2Y8eOgdbKfB0nTpzwbIOzvsew2JkIt8OKQUFcC6EXBMpBFIfBfV90J6bjo+B0oqgAACAASURBVDdexVeDzB66EiV3y7briswtLZrU9ahcnzWZ044xHQmdkrG64vIcLIfeWidCcaqo5CdMEdCjcxLxfffdh6+//tqza4XqWLnGrde/dRsQplCFbLaF0EO26K4k4QZsaRcRFx2LxKQ02NSymik7bq3InI7jaFyTuD5zpM7rm2++2SM8c9ddd+HMmTNXkii/v8u1Qe6/tebR75FKBIJAkCCgCX3lypVq2pzr5Z07d1YCrpR010plcqoffJ7dESTZDctkCKGHZbFfmmldQfmEU3C0JkRhuDJlyijy1iROIuc+VRI919q0I7lTQGbPnj3YvXu3OvM6GI4dO3aodHDtT++VZ+OWU8Ol8yZnQaAwIMDvnd99u3btlHEUPdVeGPLmrzwQL2rSI1bUuRHsTgg92EuoANKnJV8Z1YEDB9C4cWM8/vjjWLJkiYq9cuXKitS5lq6n2l9++WW1lqZJ8aOPPsIDDzygpt6LFi2qhGaC6cwlAeaJedPTisycHrUUAMwShSAQMAR0PaViKNZdWjmjI1nxmX4esAQGWcQaj5iYGLUnn/IF3K4X7E4IPdhLyI/p40fLCk6XmpqqbPu+9NJLSjhGkzzPJHlucSGZk9T/+c9/YubMmeo9/b4fk5mvQX/zzTfg3lvui9Uu1PKg0y1nQSC3CLCuR0dHK5OfnGVjx5Zb0/jta/LKbVjh4E9jQsn/ZcuWqQFNr169gj7rQuhBX0T+SaCVxDZs2IC6deuq7WfcJ0rHkSvJnB82z1qrFBsD9u7Zs9fP6Z+Ss8Gu0lFvX5s6dSqeffZZtG7dWjVyOv26EisA5EcQKGQIbN26VX3zVHjSqlUrtQzFLAbzLBXrpHf6fN3Lz6LS4es2csWKFfjXv/6VrTrc/Iz/SsISQr8S9ELwXVYOTWxcF2Kvk+vkJDddcbRUOLPHj5sHe6ocvd92222qIeA9/cGHEgw676dPn1aanN5//32l7ELnIbd5Yv7FCQKCgP8Q0O2Rdwz+rHvWQQrj5f8GDRoovRy8DnYnhB7sJZSP6bOS1dKlS8F1748//hjsgWpn9aPv6QrE/eZDhw5Vt7OqbPqdYDxTQ156ug3pbpOvTOOAAQPUFDylfbVjhyY7Rzw0Jtn5k2eCQDAhoDvz7MjzGw/mOqzrF2cCtcIqjSWfUSI/v9OvO/uMh/rotfrbJ598Es2aNcv3+HR+8vMshJ6faAZpWKwAmqT40bZs2VIplejdu7dntG4dlfvKhq5gfJbfFclXfP6+x962zgcrLzs3lSpVUvrqGTdx0s+tadE48Fko9NitaZdrQSCUENi+fTuqV6+OcuXKgTtV6Fj/uAOHutKpjz6/nB7IMB62i1x6pHlZCsJxd0yoaL8TQs+vL8JHOGzwSZSBPvTHSv3LFAjjGvimTZs8KdbPPTeyuGBl0oSWhZegvK3TfHL9bFSr2R6bos0ROO/rXnlcXBw6/twRTz/9DIYMNfVb87kv0qbMwXfffafy6v2c4QW6vHMTv8YkKAtMEhW2COjv8siRI0pwtVGjRkogjXvnteMyGUfNKSkp+pbnzLYsp+/f49l9oeOkrnl2IEjmrNc0SPXII48ofRu8DgUnhB4KpZQPaaTWN25XGTdunEc1Iz9+/THnNoq8+s9tuH71pzoiwMUzf+F/Raphy/msp9S3bdmEd8u9herVayDZbbCClVvnm7sB2CniXnxu6+P93HaI/JpHCVwQKCQIsE6RQCm3QwNRNNHKa96npD71x3MUnR9Oz8Jt3rxZmYWdMmWKClZ39J944gm1LBkqdVwIPT++Cq8w9McwduxYPProoyhevLjan8290IE4aGiFI0puP9POe2Sp7xfKs+FSSm0dh8fgjSZzkebk1B2nzE0zrMfXzkDLb5qiw08t0ar7MExadwgdO7bF448/obasEBNd8YcPH65GDFSsQ9OxXI/kM57pKEDz8MMPg5bpAlHWOcVZrFgxNbo5evSoSq/uqKg/8iMIBAECuq5RX8Stt96qJPJ1skjk3GlD5VV0/H71N8wpeHYAOKp+5plnULJkyUuO559/3jOyZzx8l7NzZcuWxWeffabC5MifzzgTd+2112LSpEk6+qA/C6H7oYg45UNH1Yq0+8uPj1tGaC88EAe1vGnCsVYAP2Q9KIM0nOZe+80d3kLb5RHwllVNXzsEpR97CN+uO4khX1RB2x6z4HI5MW/WLDz6v/+hTZs2Kl80PMHtK1bjNCR4Oq02k4RJwUGWOdfjAlHeWcW5ZcsWlS7uVNACP7oxDMqCk0SFJQJ6sEHb7NR7QTOkdByQkHiffvppRcK8Z23PSMSjR49G06ZNlZzQDz/8AO+Du3l0W6g7DtRwSeKmoDAdBfHouL2PnQcao6ELhboihK6KKn9/NKFz/UeTQf7GkLfQ2MulC4UPMm85y41vA05lSO4ifvzvJ1h/lII0qfi9RRnccstd+KDmRCyb+Tu+KdMHpP2O73ZE107rPAGfOn1adcq4tY9rd6zgJHQ2NLxmj9+qeY5TdJosPYEE2QVnjXQaw/ObCLICkeR4ENDfI6e4OWLmdDvb0/PnzyvCvffee9GiRQvPjJnnxSu4+P7779WMmrYBz6Coq4K2H9599101/c97Om1XEJXfXxVC9wPEVkLnx8IPgb1CngNxUM+67o36IbvBHSSn1mEg/cQElKo+HGfizdF6UkIMzsQmIj3pCEaP7oqvxsbDFvELqjRrgsmHzMrrdGXsNacgIQncemg1uD/99JMHA6qXZU+f5azX3gNR5r7i1Go+uQQkhO4pMrkIIgR0O8VRMdfKv/32WzVi5vIl17dJ6DzTEJRe2ryc5LN+0DE+ao+kHfjDhw8rjZkc5fPgbBvrNo1UyRr65aBcSN7xJnRmS98LRBbDl9CpZYoVNwnT2jyF/1Rpjc1nTUL3lMOF3ejydQW89X1fDPq1L/7YHKMecX3dcJuT5docGxIrmfNaG6yhKUq9l5+jX6qKpNONkyeubC40AWfpRWnM0iny8sWOons9UDdUXj7UXz3VKITuCx25FwwI6DpDo0433XST2krKrWMUWvvzzz/Vmnrz5s3zZcuaritUA80p9w8++EDJwPTp00dtX6VtCkq909xsqDgZofuhpDR5c8qdI3Q6fS/P0blVH/JDV41+ngOA2nahK8plvF4oXzEU0Tuxbdo4NH69Cc4ylw6z167H5RqzOnXqKDLXa+dWYr/qqqvUsxo1aiicnnrqKY9RG/1+jgDqCHP06MOD4bZv7+OR9y0hdG9E5H+wIaBJluvhgwYNAslbL2nt3btXLWFqgbgrTbuOi6NvrtdzFk6rvmZd6dKlS8jsP9dYCKFrJPLxrMn7ygndQO6b66wzEL4j9AxMqCXOoUbdvOcmbiMJk3v/gHdqDUSS3QnDYYeeZtdkTCUWer1cj8o51U4i12duYeN1RESEMjmrGwUdRkYqLr0yU+LEiX27cSg2zZ2yS/2lxJ3EgYNHEJ9qfhHqPd0RSDyF3Tu2IyLqLOxpqVl+M0Lol+Iqd0IDAU2+BZHa3NTbgkjH5cQhhH45qOXwTv4Quqe1xu6Na7F63U6cvRiPVG8R7RzSwsdC6L5Bsg5u02wZwLLx4Po37R9TqpaS7SRt68jc1zXV6N55551Yt84Uqru0YTDgdDhUx4KdCofNBrvTQNKpLfitZxt8WbkedsZezJRYl9Op3jn2V3e8/1FlDN+uJPxgd5h7413nd6Bn365o36kzuvXuhtrt/1BS/OYMRKagPNK9MuWeGRf5F5wIsA5y9KzJnGfr//xMtY7LWmd5z/o/P+PzV1hC6H5ANreEzsbabjeJRDX0Dj0eJ6Hw+hzGdx+KFj90xy/DBqNFxe+wNT6DeHKbdCH0rJHifnSHB3fTn25AKPW6cOFCTJgwAcOGDVOGbNq1a6cEdTgN/+mnn6p1t7feekuNzHkm0XN7GF1uG4Ozu3cpCfvmDz6LebvM/eFqFoFr4zrpcUvR7sfa6LzOLH+b3dwaGTerOu7suFz5Sj22HG9UHghuujHU96NfNs8yQs+Mh/wTBAobAkLofijR3BJ6llEbTtjYkqfPxd0Pd8YmJZORgt8q1sWyaHOEluW7Ph4IofsAxXPLQpqee3m74B50SuVS8paKXbSaygxCd9Oy8yI2zpuHxWtPwDCi8deM+dgYEasiOzJvMH7u8SdOJbk7de5XHImxWDF+NAb3bISnK36C3/ZpQje/g9j5LXFP6fcxY2+cCse2axPO810f1uCE0PNWruJbEAg1BITQ/VBiuSN0AxHL52DU6HVIRQrWzPwd0xZHmqlx2JHOdj1tLUo89ize6jAb5kTsYRyIMxt0c03YCZePhts7S0Lo3ojk7r+e4uP2GB4sVx4kRp6t03+8pqN2Kq2gwkroanrfmYTRPzTAh+U6wTBi0PS1t9Gi5wIkxB7Ej5XeQvNOPbHxVKqSrmexuhLPYFHvKmg3eAJG9q2Hkm9XwMh9jMWAzTPlvg8dviyDonc/jmpfNcb+eDNvvj4LIXQTG/kVBAorAkLofijZ3BL6vsUj8MLtHyIO6ZjWsQkqvtlSTZfClg67EuBKx7JJXfFC8Tvx6KvvYvjyQ2Zq3aO33CZdCD23SOXNHwmfB4mbOt555j50X9vWtCnl1eMGofqLzUALrkM+qY0O7ScjOeEsdu/dj82btuLEhXS1Bc3lcCEhYimaP3QL5jJZ5xagTZta+Hm1XY2+021c3zOQTPsUznjMH9YTHz57Nx58vw4ikuiFuyIy50cIPTMe8k8QKGwICKH7oURzR+hAwqk1qHjb+zhnd2Hj+F/xxQvfQtn0UfrBnXBcTFapi9n5Fwa2qoZ7bi6JActPqXtn9v2FkRNnYX+MuZaa3UhdCN0PhewVpCZL34ROmQjzhfn9OuOTt3uqP60+/BJNui70Cinjb9LuJWhU5DZMYhHHLUSb9nXQ37QiiXS3LHvk5F+xOd7N3EnH8FmRIhisluGdcAqhZ4ApV4JAGCAghO6HQs4tocfsn4fXb62qUrBoYEc890YXdW2/mABF08fnYuSSneaoHcDS5kXwVI/1SIs7izldhmD5ynUY32M6uJpqcNtVFnkRQs8CmHy8nT2hA1wioTu/fSTeu/8qvP1BfTxW9GrcV64pjicaUAKSahod2DvqXTzy5HQYacmY0PR9XP3ws6hY9U384/+uQdVhB2GcHog3itXC9FUGEhZ/j3/fVQFtew3HoJ/qonqt3jidzvhMgzTWLOo0ipS7FRW5FgQKDwJC6H4oy9wSujM5Ch3eLIJiT3yM98sWRZE7XsCuFBemN/sIH9fvC5tjD158pDRer9URY4e1wUNlPsdfJ9MQd2wzOjWYBkfSKcwf8gsOMg+GI8v9x0LofihkryA1WfoeoasCcr+RghMHtmPbjkgcPhyBA1GnkO4evesgU2L3YfPWc+pvetp57NiwDlt3RWLvnj04HpcG2E5j17ZDiE0AXCnnsW/nAezfsx+7d23HcS1UpwOznHUahdAtoMilIFCIEBBC90Nh5pbQGXVa4glERh7HuXMxOHk6GukGcDHmNM5Gx8Ew7IiLjsaZEydw9PBBHD6bqlJ77uRuDGg9HQlR+zDxx/Y4zLtOuxC6H8oyt0Fqssya0HMb0pX7y2qmRqdRCP3KMZYQBIFgREAIPYtScTnssDscSEtJQTolmJTL3riKDkobDaBhgStW/aoDtZxdacnYNmsI+o6dhtlLD6mpdnPfusWT5VJG6BYwfF5S4YspyZ6akgy7e3qcXrXgm6+zNSjdiaO1NV9CcVa/3mFZn6lrJWyn73p/c+Z9hqFd5mt999KzEPqlmMgdQaAwISCE7rM0Hdg1rReqvloe9Zt9hZpffo3Zu0wbuT69e93UhN6gQQOli5iPdYPv5fXy/xqALdUUiMspECH0LBDSxOm6iMW9m+DD8tXQtFFVfN64E7ad8jLikkUQ+rYmy8ceeyxHQtfvFPRZp1FG6AWNvMQnCBQMAkLoXjib6kANHFw6Cq/+9x3shRO9vv0JHzdcj9SUJESfiUVMTAxOnz6N48eP48iRI0qH94YNG7BgwQJMnDgRAwYMUIYFHnzwQfz8888qhnwndK90Z/dXCD1rdJxKS5wLS3p9h9dfbo6LiEfV19ugz9ijcDntiI+LV7aYo6OjcerUKaVAhmYWaShizZo1oK53mnbs3bs3+vbti+uuuw78Fugy9qFnHX9BPhFCL0i0JS5BoOAREELPhLlba5gzDrOndEfFiReAcyvwQ9MGGLA2FsP7/IxSzz2Pp59+GjSZSR3fvnR6894dd9yBG264Ad27d1cxCKFnAjo4/ihb6Zw+OYCfB/ZGq1WA69BIVGvWGctOOJGeGIsan32u1LpybZz2ma+//vosy/zhhx9WRlto6pFOCD04illSIQhkhwDrqb+P7OLPz2dC6FY01bqkAdfZvRjX6GV03rEfq9s2RKuqLZAEYNLo33D11aa5TJI2zWnSEhctb+njmmuuUfdbtWqF+vXro1mzZioGIXQr0MFxrbaSGQbs26ahZ9OPMSJyJ2ZX+xC9O42BKWMONGnaNBOBs8y1lTVtcY2jcn4Ps2bNAs2n5rSGHqjcywg9UMhLvIJAwSAghG7BWcsZpZzYju+eL4teE2di+pTfsd8BuBzm3qJatWqpxpuNOht36wj973//u/p/4403Yv/+/fjxxx/RpEkTFYMQugXoILl0uQ2YHF08BfXLfYIh4ydi+sLlpm10tb5uaoDjujjLmeXrXeb8Dvjsf//7H2jD+YUXXvDYVJYRepAUtCRDEMgCAXZyaV9927Ztfjm2bt2KHTt2eCwdZpGMfLsthG6BUskNu+LwR79aKPbmtIwnhh0OpxNpaak4evQonn32WTUy1wSuSZ3/2cDXrVtXvfv111/7Rco9I2G5u5I1dB84UWUrCzwlAj83+AwVGqzO8ORyuHcO0BqeXVV0Yuhd3iR3jtI5DT9ixAj1/iOPPCIj9Awk5UoQCEoE9M6QkydPokWLFli0aBH++OMPzJkzJ18Phjl//nylGroggBBC90LZcERjyZjO6DVpG1LSnXDabXC4DE8PKyoqCpQS1iM2TeZ65PbQQw/h4MGDak2mYcOGaNq0qXqXFrnYGyzIIy0tTcV30003KUMiXlkN77/u5RVn4l5MHtQFIxYeQarNAYfdroietpB1pWcl51KKLmt91qPzjz76CLGxsco/19ppcpXlTP3uBVneOcWVmJio0lOsWDGP4J7OY3h/DJL7cEVg3759+PXXXwtN9oXQvYoyY3cvQAFoTpuycaebOnUqSpUqhV9++QVly5b1NPAkcx7XXnst+vTp4wmxcePG6Nq1q+d/oC7uuusuFbW2CBaodARjvNoCPdOmTYjr5RGWe6NGjfD6668rm+gPPPCAmpnRnTnKT1BQTltXYxi0thYRERGMWfWkiUKd69evV/+F0D2wyEWYIcD2cPHixar+sq7zvz+E4wqyjgmh+/iIDcOpGnenM2MvcuvWrZW084wZM9Qbhw4dAqdhNZmzkX/++eeRlJSk1lLpqXnz5krS/eWXX1bT9HweiINp4xoRHaeQC/IDU5EG+Y/L5TZkYhgefQGUVH/ttddQu3ZtJQ/BLHD6TJO5nn4n4RPT5GTTkA7X20n8L774Ip577rmAlHdW3xiXikqXLq3ysH37dlUqwbbOH+SfiiSvECFw4cIFDB06FAkJCSpXhaFdFEL39YEa8ExRc7/5O++8g6pVqyIy0rRXrke63bp186yrcnTOdRg6/ZzvLlmyRO1V5rTt7NmzA3ZQ+rpHjx6eD1ca8swFr2dheJdbDZ955hkMGzYMXLag43Ni9tlnn3lmZrhezj3pdFqZEKfw/vzzT7UOF8jy9hU3v0Hum1+1apUnXyrx8iMIhCECZ8+eRefOnVXOrfU/lKEQQs+m9KgohiMuTpvrXhwbdfbkeObULEc9HLV98sknQf1hcET23nvvoXz58mq9l4kVUjcLX1dmKgx69913UbFiRSWZqj8NXeb8TxmK2267TQk/6g6SJnPtX86CgCAQvAjokTgJXSv+0oOw4E117lImhJ4FTh07dlRbkbjGop2VAPVHsXHjRtx+++1Kgxj96fv6mu8E+tBpolBUly5dlFAfR3A6jeoizH84nf7oo4+qHjtx0k5jp//zTBkKCr+xQ6dH7vp5oMs6t/Hr9MpZEAhXBKjpkxoe6XSnPtSxEEL3IuEzZ86okWyFChXAa+18Nez6GdWABrVzzyjoNK5evVppu6MUPvdOa5ddHrWfwnC25pMyDxRefPLJJ5UqV50/qx99T5+JGXcy0GXnT/uXsyAgCAQXAuz4Ll++HH/99ZdKGP/n5KxtJf3quq/POb1fEM/DntCtBUlpZa6L/vTTTwWBfUDj4Cj0yy+/VIpQOMugXW4+ztz40eEF29madub7pZdeQs2aNZUwY7ClVdIjCAgC+YMA67217nNL6ZAhQ5RdDsZgfcb/HLF7j9pppyPYXUAIneBpwAJ9ZgFxjzjXQ7k/Vwu2BXvB5SV9yfGxOHTsNFLdnVDrxzt27DjVienVq5dHToDPrX70NYX8spKODnQ55iZ+3XljZ4bbC1neupLqZ3nBVfwKAoJAaCLANqB9+/Yq8bru63aOa+sUiD127Jh6zvvciqptNPAmR+vnzp1TuiYoe0MdEMHgAkLowZBxnQZOnVKgjfvKaVGLThes9hPq561TuuOaIuWxlTurDJfSgmbNU1z8BVR6vyKqVf0YO3fu9Dzih04sePD6m2++QYkSJTzEryuC54UQuKCaR+5Y4N5yaomiY2dAnCAgCBROBEi+FGadN2+eZ3cHl9ratWunMqzbMS0Y17JlS6V/gjtcNBeMGTMmkxAxd7JUqlQJa9euVe2iJvtAtyUBIXTu2aUE+e+//45JkyapURJHSgV5TJgwQaXhzTffxA8//OD5knXhem6E/IWB9LNL8d4zw5EOA06bDTa7Q5FY/Klj2LllJ/Zt24CdR2PR7McOKF36JYwc+ZuH5LSSFRoc4dY8SvRzfz3vU7pb40VFJZMnTw5Yeebm26EgIKfYdc+cRavTH/LFLBkQBASBTAjous1BG1UzX3311aD8EB1H1doSpvZHMmabxq1sWhia97hfnWvtejcL75G7KCG/a9cuZS5ba4rUHYBMCSnAPwVK6Bo4rl2SGEimr776KsqUKVOgB+Nk3EwD11Ho2DvT6StA/P0flQHsnVQTH027VHtZ1KTmKPH4c6jTtRM+KPcxFkQkYMOGtXildGlQD/2BAwdU+uLj40HlOFpX/Z133qk6Q3yoBUVoSpZa9DjyLejyzCk+ljfTxfLWSyos70BXPv8XvsQgCAgCWpcEifqrr75S7TxH1hyx0+kZSF7v2bNHGdWyCjpPmzYNcXFxHiApLE0rmufPn1eDGI7o6fQI3+MxABcBIXQqtqAWrUA7agKj4hf2vAI9VeIXLCirgCQMefYFzDudDtgSsHpqL7Ru2R7TFkTi4MTuePe1r7EDQP+X66LXAHOLXlpyMurVq4e3335bqTzl+jrJkLrLtf5yakLjEoXuBBUtWjQoPujscGQaue7F8hYyzw4peSYIFC4EWOe5Jv7ggw8qZVDDhw8H18rp2Bbo9oBb2Tg65yBGO5K7nqnkPY7YV6xYoR7TktrKlSszhaHfC8Q5IITOaQ9Kk1OQgMIJORmVyO/nOk5qT9O9NE1MgSgE/8SptdJHoEbp/lCKSdPjMH9oM3xe+3uMmbYUA/uPxMDRF4D4uXi9/I+YvTkpU8eGyxKcotaKVLQBGk3qVIfLETorw913361UpLKstFGY/C63yw2P62V894477sCJEyf8A7eEKggIAkGLgB6wUbkWBWL1spsm8stJ+JW8eznx5eadgBE6lXjQsaEtaKfjpHpPCjfQFS5Cd/c4Hecxq90TKPJhH5xN1gSv0d6Ib76rhY+7z8TEQY3R8Y+lOGM3e6tOl8uzXqR1f2sy50idU+9cj7r11luVZTF+2P/+9789alCD7UPXa19cKjh16pQGQM6CgCAQJgiwTWIbz9nh//3vf+BghPe82yr+J/lb73tzg/ZD6PhMdxaCAcoQInQDLlrEUfsDTenrywWw8BM6TEl2ZzJ2LJ+Aaat24oLNRMths8FhdyJ6xTz0rNMEv6/fiE3bIpGkVJbzA89AddCgQWqqXRsiIZnrg5bGeP3EE0+oTpk2G8u3rZUhI7TcXLEyOeDQZs+sr6iK5oDDYepUtyTT6svntRC6T1jkpiAQcgiwbbG2L9brnDJDvyRfLr3VqFFDec/L+zmFHwzPQ4bQrURzpcCFA6H7xIi9VMWE59D586oo+65prMX0m0Hm/Mi5pYtT7dqanHWErkldT70PHjwYHP1yawhd/lcSAznrcfKZY3VTCD1rbOSJIBAKCHAkbB0p8/py2xlanrQKvYVC/nObxpAhdLguYvWYLmjRvgtGTvoLkUdOm3k0GSq3+VX+wonQXe4RrzmiNX+djhTs3b4Ra3dHIS3N3HqmYdSVhKpvNXFbzyR2jtj1mSN16rLnf6uQSZ4KRHu2HcXofu3RfPgmdcfpYKV1U3niAfzWowNatOuHGfMX4EiiXb+V41kIPUeIxIMgELQI6DaJCaRAGqXLNaEfPXo0aNMdiISFBqE7L2DBb1/isW5rcfpsBJq2aIcqPy1XeDlseVcKEk6E7uujss52aCKnP11xONKmHXAKkLzyyivK4tx///tfXH/99T5JXhM+NclZw/EVd/b34jGu99d4sMpM5c2ebke6Kt4I1CjXHu37bcTpM4fQ7K4KmLvbVAKUfXjmUyH03KAkfgSB4EJAt0c8U18JbZdTqpx6Q2jlkjtxqB8jr47h6bDz+m6w+w8NQk8/h6ld30PZ38wp3WPb9mD5vFVQ4nQUYMgjyuFO6BouK7HrezxznYkkyK0alFin3mMqA6KKXPaQKSlOjXLcujF9+nR1u+cS+gAAIABJREFU/POf/1TGDqzhmNemMIqeIXCxMl3qCTCcsDsSMX/wzyhW0iR0W5oNaunfsRIvvvUd+sw1OwxnFo7DqmMJMLtyPkPLFIMQeiY45I8gEPQIWEmXGiobNWqk2iC2SdwTTr0XVO4SDHu/gwnM0CB02LG0fw1cd+u96DFvFxITEmFPSYHDNzXkiK8Qeo4Q5dqDXtf6z3/+g0OHDqn3rJURaWcwoN43aNruT7gc+9D4/ZoYNHu3Gb5WueqMxcRuDfFN42/w1A2345nmZq/bbtMj9Bg0rvIcrinxHoauP44050UkOzLW/HNKrBB6TgjJ83BFIKuRalb3/YmTbjd41kTNETj3juvtxbzPAcctt9wCKnwRlxmBECF0M9HrR3dA0dtuRNHnyuDPAwnqpj01CXHnE+Cwzh1nzuMl/4TQL4Hksm9osiShHz58WIVjNgYGnA4z2Hl9f0aNsi3gchnoVv4jdOrmrogOU8FLxKRPcPOPG7iJEUsmdsDDH8xQL9ptThguJ5TQuxGHqa3ewX9vug7PfNINB9xi+4YtEXHxCXBH5TMfOo2ybc0nPHIzDBEIBGFnBTPTogcG2g9Jm/dJ2twea51ap4ppbqelkihxmREICUJ3pqfh6Lbt7pSno1f1l/C/FyrhdHoKNvz1O3r93B8bDp+BnbOvWc0jW/IthG4B4wovNVn6JHS3eMPMLj/ji/cGqpg6VaiDrgOWZop1wffX46kh5qh9/ZR+ePSJ+eZz92y66/whHI1xV177cXxfsghe+nEu0uypWDSiP4aOGo5ZG0zVjOw0eDudRiF0b2TkfzgjwNEulS5ZnSZ6Tm3ra+tzfa1JmOecDv2Or7OVyKnwi5raqFpVO+pIp/Gsjh07gtccNLRq1QrUzy7uUgRCgtBdKecxo1VlNBm5HgcO7sOcNt+jZa0u2LlzAcYtXIUzUSsxcu4aHE40M3hpk54540LomfG4kn+aLC8ldK7FmyWxZkRblC9ZAYuWrcNLDz2Msg1/gwNOLBk5CBui4nFgam3cUqo+Zi1eht6fv4Pr/9MPSfY0bFgwE78vPgAkrkaDZm3RY+IGREXtxfh2xVB52ArEn92MZq2XIi0hCj1bTFVb2wzHpUKSOo1C6FdS0vJuYUKAhEiNaV988QU2bTJ3lWj1plOmTFGa1PR/f+VbkznldLQ8DlWytm3bFr/88ovHqiPjp/GnhQsXZtpull2Hw19pDvZwQ4LQORW7akxnvPtee0waOwCt27fD7ONA8tLRmLJgLYzk9eg8+k9ExJoEktMgXQhdf5ZU1kNlLTzsSqFLTp0h/aY+a7L0ReiG4SbX+NXoVu8tfPplK3zb4CN8/dMIpCIdfT59D0OX02jMOYypVA4vVWmCb94uh+qN++Jkchx+79MS9TpOVlPx3Zo0w2ff9sKMid3wxlcjcCAecJ1fia6/H4T9QgxGtaU1OVpIuFRIUqdRCF2XmpzDEQESIKey9+/fj5EjR6JatWpq1wr1SNBR+JVt4wMPPICnn37aoy3SF1b0RyFZqn72dVCIlvf1Wrh3GJrMqe+C1hsbNmyIffv2KW9cL+fOGa3FU7fXOgw9Ha//yzkDgdAgdCvLeDSMuHAxYhHGzZiLuZPGYsqqbYhNZcaykKLOyLNH3WzhVf1qyWyeL61g5/yyJktfhK7fzinEnDpgcFlG3Z7ADNgS9mBAjylYvXoxBv66TI3QXT60zOk0CqHrEpFzuCLAukBCJ+FSnzmVR23dutUDx/z583HdddcpCXLPTfeFHhGTYH/88UfQFgZtPdDQlvV4/vnn1bYybnmdNWuWepskrB3JnETPKXRaSqxbt65+pNrmypUrKw2U3D5Lv96Hx7NcXIJAaBA6deY67Ui3Ua6dwlYO2NV0rgtRETsxZ8ZSnLmo2FwR+iW59Lqhe3xhS+iaQZ0J2LFyIWbOno/fRw3Awp17zW1iXnj5+svKzYpGLHmmcRarlHumdwwnHHbTfrrNlq7ssfM575nCjAYc6TbYHQ7Y0tNhs9nd5WyH3T2FTol3m7o2YLM53BrvgBPrlmDRylWIjDd7ej6W0D0jDSH0TKUif8IQAdZVOtZVknnVqlXV1lQSLMn+/fffV/omtE4JK0Sa0OlvxowZym44TZLSLrivo2vXrp7Ogo6X4Wlyr1+/PooVK6aiSEhIwNSpU9Xecuq/oHlTq1/1R35yRCBkCF3nRH9U/K+ViHme6YsczkLo7BS5AEcq/qj9Bp5/6TNMmtgZpZ9rg5V7EpWQCyutPriWxoO48eB9XSn1mYpnKNBCZy2jHIoiz48zh+0ZrmcbDtNLJ4SeLUzyMAwQ0PVnzJgxalp79OjRqkPOrC9YsADXXnstKlWqpOp5VnCQnDnKp5lRWs6kwRPvg2via9as8Qi46Xh1e7F7927ceOONePfddxWRc085FceMGjXKs3au/WaVDrl/KQIhR+iZs8BRIteB86bXN+wJHQZsaoYjFm2aNUftbpsBHECZqr9g0Y6LmSHO5h+lUql6kXaG2dtnBS5oZ5a9yzNi9xW/ELovVOReuCGgSZX19vXXX0fx4sWVzQbiQGJu06YNrrrqKqUoyhc2+n0KsX333XfKwiItlzEc74PGmmi4iQJ2dJqcdV2k0BttQfTr10+NxtlBsI7ifcUv93JGIMQJPecM+vIR7oTOvd2ceHNGzcGPvwzCagCR35bD122HItoBnDlxDGPHjcOAAQPQqVMnJbTy1Vdfqem58uXLq8aAa2elSpVSamFLliwJ6nTXQi2+MA/kPd2IyAg9kKUgcQcaAU2Ye/bsUeaPW7RooZI0Z84ccO2cKlXvuececPTMPd7av3e6eZ+zcVTDyrDo3/vYtWuXekatbnS6M6Dr4sCBA9UMAaflvR2l2bXkfVZp8H5H/psICKEXSnvo2X/eLoephuXshDaoU/kddBzcE92atMPGyFi1dp2WkoInnyyJa665Rhli0braczpTyIVOV97sU1FwT3UjIoRecJhLTMGHgK6Xf/zxhyLTmjVrokuXLqCZZA5yXn31Vdx///1q1Mw1be0/P3NCgma4MTExePTRR9VAoEGDBmokz1F7kyZN1NQ/OwLab37GX9jDEkIPO0I34FDT7amY3HsIWjWfhLNnzuBMgtr05VHMM3v2bFXprSROK2scievj6quvVoT/5Zdf4oYbblA63llh/NEQXElFFEK/EvTk3cKCgK6XXCL77LPPQCLlMhm3l9Fx/zfvaVmY7PLNsEi4OR06TmtY+h6VxHz//fd45513QAE5GmDhEl5WW92sYci1bwSE0MOM0A23lCtOTEelMq+g7kDuAycLe37M/4CyuEazqDysxM5rfY+jeO4lffjhh7OWcveEGJgLIfTA4C6xBi8CFHLlWrjVkUj9rUzGGh+v2SFgh4Lb6HitnSZ9/V/OuUMgoITOQuNHxXNBHlSgwPioPEErL7B+TLmDLpR9GbClJSL21BnEJ6a5BeRMiXHioh17yxyVe5M5/1N4hufevXsr75Ryp/Ypvk8sC7I8c4qLjRT9yJS7Llk5CwLBiQDrqbjLRyAghM4tDpSADLR74YUXsGjRIkVAWgoz0GkKZPzWTg3No3JLCTs91hE5rymdyjP3i2q9y9yHznWxYHZMY3R0tKfDEcxplbQJAoKAIJBXBAJC6NwiQQs6GzZswMqVK5WeXurqLaiDcTJuajebOdO0va1HlXkFsDD4Z69Yd2horIH6lKnwYdiwYSp7H374oSJwrp3rETvNF65bt86T/ZtuukntJ2UZ8n5BlWVu4uH3Rn9Mv1X5jYwGPMUnF4KAIFAIEChQQtcNKFX6vfjii3j88cdRokSJgByUsOQInfqM2eBrp4lN/y/sZ+uonNvOKOBG04TcF0rH57wmgZMQKQjH6XYadqDTa24UsiGmjzzySEDKM6fviOlieTN/mzdz373pRABHIyFnQUAQCHUECpTQgxGs/v37Kz3EPXr0ABUu0LGR152PYExzfqVJC4sxPGpqIpFT6lQ7dm706F3vG+VUe4UKFdTUNZ9bOwT6vWA+U381ib1Xr144f/68SirLO9TyEcwYS9oEAUEgMAgEhNBJEtz3GMjDKuVJpQjcOkG9xlqHMIsjt6P1UCN/kpcmc0qoN23aVJH53Llz1VfI55rgeGb+4uPj1awKDTdwuYLOOrolnoEsz9zErWcTtm3bpjolLG8qsdBOY6L/Z3cOtTLPLi/yTBAQBAoHAgEh9KCBznAhKSnZkxwaGKD1H47WtdMkoP97n9mwa/LzfhaM/60kTDOFb7/9NurUqaNG3EwvSc2brPT/5cuXK6UT9BdKedblQA151vLmsgFVYFJjltZoxfLOKW+hVuY6/3IWBASBwo1AeBO6pWw1aVFgjhaHaMKPag3pctPI50QClqgCdqlHoMwr9Ta/9tpryi6yTpB+rv9bzxof3tNT8dbnoXWdMQNBaX6uq1OlrdY7zbxkhYUVh1Ao89AqF0mtICAIXAkCYUnoWrlKatR61K/XDnN3x6hRqW7EExMuoF3btmqttW/fvh58ad7T6tigU0Xi119/rW5bG3urv0BfM116ZE4C46j8888/x/bt21XSmI/cLC8wnGDNY3YY6zSf2jgPNb/ujC0x5iyELm++O3LESDVar1mzFs6dN/VPsyOn39Xh8z+F6tghossNbvpdOQsCgoAg4E8EwpPQDRfIzbaEbShdpDJ+X3bMxNhCfLyxZctW1KheHZ9Xq4Kz0eYeaz0Frxv6Zs2aqS1dkydPVo2/ddTGxp6kEehDkw51JXNfOQUBqZmJjmnTeTFByP43L36zD6kAn6qOCJB4aiEeKVIVm87ZPJFrbHjjbEwsunfphFdeeh5jx47L5If55kFFSJzZ4DY9Ejvft4bBjlOgyzs38YdkOXpKRC4EAUHAFwJhSegwnHBQIVHMPHzYZDz2nbKBo3aHg42zC/EHVqFbk2bo1a8Pvmn8HZ54vwHKlC6FSb9PVhiStHlQgO76669XalBpRjCv5OirQPx1jzaOKfjH/djaWYlI3yuUZ8OlNNs6o8ajbKPZSHUCXE9nedP87rG1s9Cm4ffo17szmnb4BS0GTsEHH7yDypU/VlaniInGivaaKenPLXy1atVScOlnhRI7yZQgECYIsJPLdl2fdTufH2cdpr870mFJ6C6HOUI7MvQLtJo8F9EZKoTVp2ucWIe6z1yPF0ftwYqBbfDFp12xIGIfSpd6BrW+rO0Z3T733HOqcWcDT93mHPnSUbUs3YgRI5T1oqJFiyolNtRUFojjwQcfxE8//eTR5MaPyt8flgIgSH4Mp7lUsqXT22i9bD+cXulKWzsYLz32IOqvOIxhtT9F+95zEB19Fl06dECx4sUxevRo9capU6dw8803e5Tr3H777UrTIB9qAxe1a9fGvffeq8xQUnFRIMo7qziZnvvuu0/p3T9y5IjKUzh9B17FLn8FgUKHQBgSugFHuqkveMALtTF95hY1elvV73PcdtttKFGyB7buXoWaDzTBRQAz2g9A3UrTVcHHnolBg4YNQVvgX3zxhTIvqsmcZxoo4fYuPS1PC0L0R0U6kZGRYCMaiIOKYPQokr3N8HIGnHbm+CLa/vdjrI1KAJCG31u+jttuvRuVak3C8lm/o96rPUB7c53e7YCuP69REBl2FzZu3KjW1j/44AMlKKnLW6u/pWIikqLuxBUvXhzjxo1TZU5rUoEo76zijIiIUOm66667PDM1QujhVRskt5cioNtEbmelngqak+XgLD+PAQMGKN0XbBuojZPOH3Uv/AjdcILtuyN5Kd6r2x8rdsYrcC9eiMYJGis5H4uNi3qhXNeDMM4vRvPvKqHdGpsyK+pwcyENkmjjJNrqGBt6HlpYioE2atQIrVq1UuEH8odqdun88QEFMl+5ittwwQkD9tNT8EL1ETh7gaN1A4lxp3Ds1HkkXziEMWO6o97YBDgP/IoqTRtj0gETK9314VIKhQg1mfOsVeByyWXGjBmepNBGAU1SBrOj1jy99BKW30QwF46krcAR0IOdBQsWYOzYsUqfBmWMKC+TXwf1ZDAsX4K2+ZnhMCN06iw3R+frfq2I/75VFb/v5jjc6pIws005PPJlH4wa+jMGzIlUD7neyoadvTlua7M27tYGntPbVJXKhpK2hal5jde6IHld0AeniXUv1JrTwn/NNTGWdxKmtX4Cd3zUEpvOZt6pgITd6FyvAsp+1xcDB/XC9I1nFCyUpWA50bFHzWUTlrP10KN0fg/nzp1Tfh977DEsXbpUvUvMr6ysTVkNMwzrtfc3ZD5jXrOLj40Kn3MWQQhdFZf8CAKqThAGWt6kbg461pNQdGFG6DkXUWzEWtR/5BMoTeY2PUbL0Io2ePBgUFsaR+beo3Pd2H/11VcqIm5n06pU9TR8VimgUJ5JPt4+DCWw5yEH78e5+B++hJ41OIYieid2zpyIpm80wSl6tWdeXdedIJajLlvr2foN/Pbbbyoyjn6XLVumrvX7Waficp54NTRGxjeaU2gkdDoh9JyQkufhgoAmbiqWmjZtmjIBzbz7p+76H9WwJXSDU7FqBGUF2cDGqV1RqmxLHHc4QWEqp8US2YEDB5ThEU63XnPNNcqMqLZAxsad1zxT+Ih6wjnd3qRJExVBToRuTYX1Oj+WvIXQTal2Vd4KXJMUDeMiJvVohjc/648klrfDDvcEjqdCUzUsy5ply2UWnq1lznssc+rB55Y1CkouXrxYxXJljYIL8WdO4NChs0rGI/ncKRw4dApar6HKgeb2pLOI2LsHh47HwpGehqwoXgjdWrPkWhDIIO5du3Yp2RfWYT3LFYr4hC2hZ1VYDvcgLS1VSVKpwtV7i6nz3DpC875mw05rZGzwu3XrhpYtW+aO0I10HN+/D3sjTpsS2Gq6x1ANOdN5Yv8OrFuzGcdjk5HIPVd5dELovgFTU9TuR2npGbiyQnNdjetor7zySrZlzs7dtddeq/zQah8NvyxZskSF6ovQXWrfOinXgNPhgFPNFGROn7mlLgXz+7bAC099j1i7A1tn9kOtSjUxbtZycI8GOx8ubrOJ24P+/bvixw4d0KVnd9T7eY76hswZiMzhCqFnxkP+CQK6jlLuZeTIkQoQtvc5OT2yz8lfQT8XQr8EcWpVyxjj6ILjtiSO1mili8pkPv30U5QrVw6lSpXCAw88oBSNWAn+oYceUuuunTp1UjH4HKGzQXY64Ug/h8GNaqNcha5IoW+7DU4H904b2D1lBHq0aIce3Qaj2/cfYuxOU4uZHpxdknwfN4TQfYDivqVmapwZ5c3busxjY2OVOtiuXbuiYcOGqFKlCsqWLYuSJUuqrWk33HBDJrIn+f/rX//yGK/RjUXWsft4Yrg8I+z43Uvw7oO1cDA1FYnJsZgzoAfafPo9KCNrpCWrDl/8rBq4o8NSFVBK1BK88uFApHHK0CtP9CCE7gNvuRXWCOg6um7dOrXNmGDkhtCDFTQh9EtKJmNkfMkjrxsUkjt69Cj4MUyfPh3cmsBpdu5FplT0jTfeiO7du6u3fBE6yUQT8/bJY1Dt5R/MKVUbLdHxtSQ0/M9bmLMxVoWxeVB59FxpCm3p97yS5POvELpPWNw3c1/efIECclx6WbFiBSZNmqQ6eJSToD14bmHj7Iy2t64bC47GlXMmYcvCv7B84ykYRgyWzvkL249cMJ+5hXCUz/NbMeH3qejX5AM891BDqI12p3ZhZOfemLUhAXAZcNnNGaTYeS1w32uVMTvCDCd9xwacZyA+hHqE0E2o5VcQ0AjozjsNT3ENnU5LvfOazzPqsfkW/1vbc/rR4eiz6bPgf4XQ84A5C5oFyYaR5+wKj8/YyNOSF531A7BGmXBwKQYNHYQm7zyHd97pq/ZCw5YOm9orn4rOj5RE6QrdcFQtnrqwKcI9QqemM9oj99FwW8PntRC6NyK5+88yZG9dlzk7cFk5+uV3wZkZkj1dRkNAwUa2FBcxqvk3+LB8FxhGNJqUeQcte8xRfs0pdGolOoD6FVthyLhJ6PVtORQr3gwJhg3zenyLGh99ghk7juCiksB3mFPusbvRukZpFL33adRs1BwHMvcPMiVXCD0THPInjBFgW67b74sXL6qtp/v27VOIZNRb3wDR/6pVqzL51WHxrK99v+3fu0LoV4AvC46Fz49DN/xs/LWSEa65ZyflHnd4NSq90g7TZ81Amxpv49W3eqg98obNnHLn8uqxhaNQ+ZlieOiJN1F9wgpz/TQXJG7NlhC6FY3Lv/YubxI8y9ta5pyO57Y1OmvD4HQv0a8ZPwjVX2wGmx0YWq0OfmozTo3fDVs6XIYLidv7osh9g9T78QeXo8J9n+O4047DO7Zg9ead2HfgGFJhwEW1tU4DKZxfd5zHrAGdUKHkHSj+cX0cTObIImP2R+dYCF0jIedwRYB1UtdLfeaM2/Dhw1U95j0rKZ89exYTJkzwaAclbidOnMi0vU2P6HV4gcRWCN0P6LPh5EfBddfmzZurGNjoZ3ZObJ3ZFteWnKJur5/0G6q++L3STsfG3ckG2ZGkBJySzmzB6D5NUaLIHajY39TFHh2xBGMmz0FkrBludiN1IfTMyPvjH5VGsMwff/xxH9vWKGTHWA3M79sZn5TrrZLQ5sPa+K77IjM5bsZP2NwVV/+3GyiWk3BwBd59uL76JrJK84EpQ7GNc/J0F6PwaZEiGHyUf5weiX3zoayhaxzkLAhoPQxEghYoabiKTq+f6xF8nz590KFDB4/8CWWpqICGo3TtZ+bMmRgyZIiyXkmZKS7D0rE9KGgnhO4HxDV5U1Nc1iN0F3ZMa4Ebig1WKVg3YRiqvt5BCUS5kpNhUwrNjuDX4atwwdw+jMQpdVHkuj6IuxCNeV0HY/GyNRjfa6Zq/A079aH5dkLovnHJz7t69Oub0DlaN4fosVtGoGLRa1ChciP8776rcPcbTXERdvz8Vil0nLYJrrQT+K70dXj4yYqo8c5tKFLkPozbcEoJT6anpcLBRiKqD9567CvMWgNcWPQd7v7ve2jfdySG/FwP1T/rjpPp3KYnI/T8LF8JK7QR0OS6Y8cOJffy6KOPIjo6WmWKW9a8CV0vr1WtWhV8RzsS+vjx49Vf7adjx45KUJqqY9u1awfafKDTcep3C+IshO4HlHNH6EB69CrUevIfePSxt1G+1LX4x20vY1tCOqb8UBWf1O2CNNjQ6cnieL1sHQweNxC1H3kfv8w4gtgTW9C5wTTYk05h/pCBOMQ8uBwe6WjvLAmheyOS//9zInSPYBySELV3A9Zv2oOIiJ3YHXlMqaY9vGUDoqLNBfC0mJ1YtnANdu/ZhK079yA6wezReabR045hy/oIRMcDruQY7Ni0B7t37Mb2rRtxJDFj+513LnUaRbGMNzLyP1wQ4Mj6+PHj+OijjxSxM98UatYkzRG6nnanLQbOsB47ZprX5oica+cnT570kDVH4xzB8x5H6QyHRB4IMmdehND98CXnltDZyCefO4Kd2/fh+MkoHDl2GmlOAxdOH8PJk9Fq29rF6BM4cfwIDkdGYt++M2oUfu7kbvRrNQNJRyMw6cf2JqE77ULofijL3AapyZK63K9MU1xW8yy5TUlG18H7DZ1GIXRvZOR/uCHAOlqiRAlF3tyhpEfhJHO9Fr53716lbCYhwVzTItmvXLlSQaX97NmzR03B8yb1wGuBWCH0QvRF5Z7QLy/TrrQkbJ3xK/qOnYZZiyIVyVP3eFZORuhZIaPvm8KNrKR2CqdZFi90bzunCqoFY3JD6NYwdbjmPTM9Gc/dAjo6mZ6zdQTgfe3xdMmFEPolkMiNQogA6w/JV9ct1k1NwLpukaTLlCmj9p5ToYz2r98hLHxH12sNkw7H+l+/Y41HPy/os4zQ/YB43gjdPSJT0zQ+EmO9bxGy4BppWrJ7cd3Ha9ZbQuhWNCzXxJZ/XRexpM93qPxuDTRpWAU1v+uCHWeynrpmBeb6GXczcAovJiZGKZOhsAyx5hSeCjY/9PZaknull0LoV4pg+LzPteLExER18BsPFXfmzBlVF7mnnAJtY8aMwa+//qoE37zzMHToUGXXIC8a4rzDCLb/Quh+KJG8EbofEuAVpBC6FyCWv9TIB7iwtGdTlHmpKS7gPKq81hp9xkbB5bQj/ny8ImxuVaHQy9SpU0HNcXXq1MFrr72Gu+++26MtjnbGqf5369atKgbv3rwl2oBcCqEHBPaQipSdVY40OQ1NzYh33nnn/7d3JuBRVXcbp7Z+WrWiflpbQa0ifRQVRcWAaFWssmitSpGlWigILoCFyiZbi1hEQUBAQLDIJuADEikBJKBFVln9iiAICER2IiQkkJDZ3u95z+QMk31IM5m5d977PDczucu5///v3DvvPdv/hDr2Fi6txpNjtHv69Olo06ZNqLMbO6jdcccdJsKn/U3mcVy5sC2dE23xeeZiO7mZfxz6R4IehYyzN0/pvdyjcOESkpSglwDGzJXOJ3kHBr7zFl75zIfA3klo0e11LNnrQ27mETzx5FO45pprQqIdHt7Xfmf8fn4fPny4eeO37WgS9BK4a3NcE7CCN2TIEDM3hW1fttsr23h7Xb5Qz5s3D59++qkRadaI8TtfVNesWWPCMXMIGhe+fDAeBNvJGafdbjNf8v9wqCmje06ZMqXY/eHHOuW7BD0KOSVBjwLUKCTJSVDYhcy7aTaGdmuOf+7cgvktHsebAyYiGGwX6NylixFrhnTlzGqcAz18tjV+58qXJlb3MZ774sXBseUS9ChkmpKMCgHeqxRBu/Ii9evXN4LI71ZUo3LxsER5HdpAe9iubb/zEHY669KlC1599VUTYpuTX/Xt29fUoHHb9ddfb1LieVyGDh2KevXqYffu3eb/eHsejVEV/EeCXsFAmZwEPQpQo5CkncAkLXUmXvhtM4z6YApmpSzBAV7LVM35TYQovuXb0njhTwo8t3Xt2tVYePOLpQvvAAAbTElEQVTNNxcbKS4K5p91kqpyP2tkrj/BCmhhR/lyylkEKZgUwsoQdCvEhW2J5NoU+6uvvtoMK0tPTze91llDOnPmTJNcSWnYl4bC13Tq/xL0KOScBD0KUCs6SYbtZVNazrcY1LkNHn0hGJvZXMbvzR854IPH48XatWvNbHqcKjVc0FkyZ5s5Z9vjhCz80WDAiv9u2FpFO3omPQn6GRb6VjA0MeOYc9rf+fPn45tvvjHNR2xKsvHNS+LFEjTbnstayyodWzFnNTifH473Zjs+h47ZpaRr8bnjPoZv5Vhw2p+SkhI6tyQxt+m66VOCHoXctILeuXNnMJ47f0jZU5Sflbny4eD1qlatGgppGAV3nZmk6RgTgO/E15g2fADeTdmJnDwvvHl5Ruj5A2F/CNhWZ9vJCws6/x84cGBoWAyHrXGaXXJnL/jKzO+yrsVeyzymZs2aoSlerY/OzERZXV4CvL+5UEhHjx5tBJzt0+z0yWAqvEduv/328iZ/VudZMaeQDxgwwAg5BZkTW9EGO3uhtbmsxHmP2yXSc+zxTv+UoEchB8MFffDgwVG4wtklyd7XXOyDc3Znu/vo8NH7psN7WJMJxa5bt25mvOr7779v5rdnqZwibqvaORkLI0lZtvx/+/btcQ2tTp06sLGsJehxnVVRMc6WljnxSOvWrdGxY0fT49tejL9ZvMc59XNJ94dNgyLM4V+s8p40aVKBlUPGuI2ftqRtz7PXsunzmAcffNB0erP7WFtAO/jJpbRe6EyH+236FHL73aaXCJ8S9Cjksn1DZBz3n/3sZ+ZGveeee0yHKXaaquyVD4Xt/cmb3j5EUXDdkUkyzrqJy5M/BSqd2LRpExo2bIhnn30WmzdvNn6xCpAsKeqsfmep/c033zT77FhdVrkzEhuHtDVo0KDS87q0e4v34AMPPGB8YI9hLon4o2ccT9A/zG+ux48fR5MmTczLqo2ExrHn/G3gpFK8z3fuNEGliyVlX2DZTn3llVeiVq1apgMd+5vY9cYbbzTPAp8JCjaXcFGmHbweO5GyFpFV/nZJTk5G9erVTQc42kWBjvR3K9Lj7LXc9ClBj0Ju2h9Jjl1m1RGDHLAqa9asWTFZeW2Wyt5++23jLW94a2MU3HdkkuFVcwxIceedd2LUqFGhqXD5A0ZmLVq0MO3m/MFLSkoyP4w81/7AcaKHuXPnxjS/S7rPeB/wXkxNTQ355cjMktHlJmDFjqXviy++OFSdzUII72PWNlFIWdVt7+nSLpadnY2jR4/i2LFjpa5s/iu88HniNdmR9K677oKdxpQvCezNzvvVnmftLpyG/i9IQIJekIdr/2PHLr6RP/bYY0aE6Gi4iLnW8Qgcsxz4o/T4448bTuRlF+63PyicsIGliQsvvBDjx483h0Tyw2fT0qcIxIqAfYlnQeOiiy7CU089Ze5rNhHae5g1UnxZ5exj9p4vzl57fPfu3Y0Yc3hY3bp1i6wUar74fvjhhyYZe561hS+XbL565plnTEmdNUesEbMzofGk0uwozrZE3iZBj2Lu80akGMR6tQ8PBYszA7EqjDUHXOy+KGJwRNJsp2NJgZ1yyMkuxf2YsKaDJRj7Qxh+DHnGOr8jub71T5+JQ8A+6wzCQtHu37+/cd42ETIwEptkLrjgAnz33XdmX/i9HU7KpsXZxdjx144N79Wrlxkjbj85Vrx3795Yvny5OZ33Jhf7yQ55HCnCZyq8Op7H8PmyzQEl2WES058QAQl6CIWbv5ypYueDwY4sFKSXX37Z9Hp2s+dl+cae6BxDbidVsT8c9rO480+ePBnq+FbaccWdq20iECsCVoTZP4SC3qxZM1Myz8jIMKLMtuyHH37YlLinTZtm4rhHy1ZrC+c94AvEDTfcgAMHDhihp5Czz89rr70W6vtjj4+WPW5JV4LulpyMyI/8iWAAUwplNRejQfEBt0skAhXJMTa9ePsMt51+s6MYe/ryR80u4cfYbfoUAacTsPc12707dOhgAscwhgJFnFXfXFg9zlDHDKlqj4+W31akKdwMYnPZZZcZWxo1aoRBgwaZZ5I2RNuOaPkXi3Ql6LGgXsnXzMk8hrSDR5GbP0YrbNI2cDgWe6WOGDESfNC5FH6I7APFdi3O/8vFPozmn/z/I6nqjeUx1mb6yQ5vLBXY3rfWR+uPPkXAzQT4LHASIa72uaC/fL737dtX6a7v37/fxG9g3xWW0LWUj4AEvXzcHHXW+plv4PwqjbH+JNU6fLbvoBuHj6Tj0caPoHXLFgUiQ/FBt0LH7xzOwtmL7PCW8B8CpwDZtm0bWrZsaYaT7dmzx5jtRD+cwlt2xj8B+4zHytLirl/ctljZ56TrStCdlFvlsjWA04eW4tHa45CLAHx5ecjzBCc9yDi0D1v/bwt2bN6ALWnp6NKjD+65px7Y0cWKnO2osmzZMpx33nlm/DWHdXHhPnsc3/Q5dvTjjz/GnDlz4nJlBDc2MbCTjl2s/fZ/fYpAohCgaBYWzuK2VQYPe93C9lTGtd10DQm6m3KzOF8CwNaZbfH7Wd8U2btrenfcdOvdaPfa3/C7Rs2x6NsTWLliGerdfbcpjduermxfvv/++42YM6AKq+htsBWW1rlwTGvt2rVNmzRFM55WtguyrZwdgRYsWGDs5fAZ/XgUuSW0QQREwMEEJOgOzrwyTeewOZzE+KQkzNufC3hOYNXcUfj7gH8gOXUndn04GI3va4cNAEbe2w5vjgxO+3kqKwtt27YFO6cwuAOHlFAMOV7Uhjxt3769aXO3Q17YkcaW5su0K0YHXHvtteBMTLRTYh6jTNBlRUAEokZAgh41tLFO2PZo344/Jg2D6e52+hjmjXoJzVt1woQZSzB6xESMmvgDkLEQDz7cB598mRUaH0rrGYeZASOuuOKKkJBzzCjnBWeJnFXsdrnqqqvMLEcUeDspDL/Hw8pOcLSDfjCohhYREAERcCMBCbobcxX5bWPeY5j39zqo8sTbOHzKCrx1eC1e+Gtb/OGteZj5bif0m/Mp9nuCPdx9fn+otM3Y4CydU8j5aUvq/GRkKPaIZWmX8ZwZRY1LvJV+bc3Bz3/+c7A3rRYREAERcCMBCbobc5WiSr982diw+H1MXboBx/JHgnB6UI/Hh6NfpGDInztj6hcrsGrtVmTl8ISCnWQ4ixKFu/A84OGizqlDubCEfjaCHvD74PH6jJ387vX6gvOTm9TO/OHEKWzv5nA3f/h4uzOHlPlNgl4mIh0gAiLgAgISdBdkYsQucFIWI4rp+MezLfBQ0yFhp3Jf8F+WsBm16fLLLw+Vyini4StFnlXvl156qTmW8yfb2ZkqqoQesAaFWVmerxL08lDTOSIgAk4jIEF3Wo6dpb1+nxdenx17HlRsn/ck/rNuJT7ftAu5uRx6dqb0a8WYk5RQwFnVbqcLpYjzf1v9bjvIcXYkTvaQlpZmrLNpFDU1AL8vaMOOLyaibe9J2JPtwfaUsejVdzx2ZAbjPPP84FEebFk6A7279MN7U+Zg+bbDOOkpmmpZWyToZRHSfhEQATcQkKC7IRfP0ofwmuvwamwrxByuRkHnPMYMyRheMi/8neLO8encbmdIsukUZxar1xmwLnfLSFS9ozfWbd+KJZ+uQPK7z+CGwcEQtHl5QTlf8e4wvPK7bvh2dxpS/5aEHmPHYb+JdmdfUIq7QtFtEvSiTLRFBETAfQQk6O7L04g9Chf28JPYZs1JS7KyssxUq4yotnTpUkyYMMEEZXn66afNBA6XXHJJAbEvu4TOq/iRx1L68WRUv2IQvtyaCf771aTn0HPJQWNGXn4pfO6rvdHxsSHwcusPX2D25xuQlhm0tCTbg3sL/pWgF+Sh/0RABNxJQILuznyNqleMrkbRp1AeOnTIzDzGtnSKfkmL38eitR9bUsagZ//uaFnrVzjnui7YfNyPH1aPxCVtRmHH9z+Y032eYND5b6cNQo3zL8Efus7Hibw8HD+Vi9P5pfeSrlPcdgl6cVS0TQREwG0EJOhuy9FK9sfOa1xaL/eA3wu2jvt3TMR9XXpj9KYAAqdn4xd1B2L91xsx9a3XMGTEMHwwL1jlbl4Y8jvEpa15D4/efCn+56rfYPDnuxAsvPuQnXkCWTmm7F6mxxL0MhHpABEQARcQkKC7IBNj6YKdGak0Qfd7g2PmTqR0wAMdW2CeKYgvwTWXD8XGHadLMD8b3x/ch/1Zwd3/6fUYqpz3B8zd7oc/czXGj30PY8bNw5lJT0tIJj/mPPdqHHrJjLRHBETA+QQk6M7Pw5h6YEu/pQk6S+imwL1jBpo8dD9avfVvLE/tj3OrNMesFQfNBC9+n88EpPFlHMDns6Zhy8mTSJ0wDJ3avoNv0vZg64rhaFCrP/69KQ8bhvfEsowsbBndHf86EHxZCHajKx6FtVGCXjwfbRUBEXAHAQm6O/IxZl5YsSxN0BmwxucLBrv5emgP/PaB5vjjw0/h902fwPjU7flD1IKSnLdnI15v0RQjvwd+mD8K7R96Cu/Mno5eTV7ClI++Mn5OeqIV1qRnYvuEZzF4dbrZVlonOWujBD1mt4kuLAIiUAkEJOiVANnNl7BiWbqg5xPwBzu7RcYjrMwdOHMek9g86XV8tGolPhk+EMsO5prkwo4ukry1UYJeBI02iIAIuIiABN1FmRkLV6xYRiTo7Bjn8Zje8R7Oy376NLz5gWZCtgf8YHhabwAI+LzIO51nxq37vV4THtYcl5OGJYtTsXhFMHZ86NwSvlgbJeglANJmERABVxCQoLsiG2PnhBXLSAW9XJaGIscFzw4vjZdW1W6vZW2UoFsi+hQBEXAjAQm6G3O1En2yYhlVQS/sT8BvYtIHx7YX3ln0f2ujBL0oG20RARFwDwEJunvyMiaeWLGsVEE/S0+tjRL0swSnw0VABBxFQILuqOyKP2OtWErQ4y9vZJEIiEBiEZCgJ1Z+V7i3EvQKR6oERUAERKBcBCTo5cKmkywBCboloU8REAERiC0BCXps+Tv+6uGCvnPnThPtjbHYzZzm7J0eByvD09IOtaE7/naTAyIgAqUQkKCXAke7yiZgBb1atWpm5rWyz4jdEb/85S+NjfYlI3aW6MoiIAIiUPEEJOgVzzShUrSTs1StWhXJycnYtGkTNm7cGFfr2rVrjV3nnnsu9u7da/LH1iIkVGbJWREQAVcTkKC7Onuj7xznRefSvHlz1KxZEzVq1MD1118fdyvtuv322/Hiiy+CTQN2obBrEQEREAE3EJCguyEX5UPEBDp16oR7770Xs2fPDp1jX0pCG/RFBERABBxIQILuwEyLR5PZln769GmwCp6f8bTSJq62vX/OnDm4++670b17dxw8eNDg5D62rWsRAREQAacSkKA7Nedk91kTCPh9yM4+ac47dOgQWrVqhUcffRQLFy4MpRVpaV3iH0KmLyIgAnFCQIIeJxkhMyqTgC90sTFjxuC+++7DgAEDQttsR7/QhkJfKOZqey8ERf+KgAjEnIAEPeZZIAOiTcCWpg+sW4gOnYdg41EPfD5fSJTXrf0STzzxBBo3boxNX31lzGEVfHGibdPivuL2R9sXpS8CIiACJRGQoJdERtvdQ8AEtwEyv1+AmlWewpfpecY3inN4Fft7E9/Hww0fwHtjx4R8p/AXXlatWoWuXbuazcXtL3y8/hcBERCByiAgQa8MyrpGbAkE/GB3N9/e6XjohWTk+Fhl7oPH44XP58fuFXMxuNffMHzo63ikWRtUq30/2j3TEhmZmcZuirYtmZ86dQr16tXDxRdfjNWrV5tSevhLQWwd1dVFQAQSmYAEPZFzP0F8D/iDY+U3/uMR9Fy6FYXL3LkrxyDppl+h49JvMbVLO7zYYzz6jhyOW2+8EYtTUw0lK+jjxo1DlSpVcM4556B169ZmX7jgJwhSuSkCIhCHBCTocZgpMqkiCQTg8zC9bPSv9iRWfJcBIBczezfEFVdUw5NtZ2DZ3Bno0OB1nALwWpP+GPbGWvAVIGXefNSqVQs9evQwBjHK3EUXXWTEnKJ+2WWXISUlxexTKb0i80xpiYAIlIeABL081HSOcwgE/KZE7jvyMe5pNRGHMijVARw/sgc7dh9ERvoOfDD5Tbww+QSwayyademEqVvPRI87fPgwWrZsaXrCN23a1JTOf/SjH+EnP/mJ+d6sWTNT7c4SvC3FOweOLBUBEXATAQm6m3JTvhQiwLZytp5n46NetXDp492x9mCw+j10YNbXGPR8E9z/8jCMGvUGZq3eZ3axbT18ee6554yAs2TOlaLOz/PPPx+zZs0yh6qUHk5M30VABCqbgAS9sonrenFBIGCE3o/NyTPx14e6II1WnS4o9rbEffz4cVSvXr2AoFPMbSm9SZMmyMzvQKehbHGRvTJCBBKSgAQ9IbM98ZwOBPzwh0K75od4DWRh2uCXcf/Tw3DS50fA64HR+Xw8VpzbtGlTRMxtKZ2d4/h98uTJ5iyV0hPv3pLHIhAvBCTo8ZITsqPSCfg5fC1f23NPF+z7bsX8k08+AaddZWncfv74xz82HeMo5tzGzwYNGpi51tnjnXHsGZgmnldb+1Dp0HVBERCBqBGQoEcNrRJ2AgGW3Au3l1PsKMzZ2dlGqFkCL2mlmP/0pz81+ydMmOAEl2WjCIiASwlI0F2asXIrUgIBE3Qm/Ghbek1PTwdL6CNGjECvXr3Qtm1bM5lLUlKSme+dwWXChf66667D22+/jYEDB6JPnz7o27dvXK39+vUzMevfeeedUJu/9TXcf30XARFwJgEJujPzTVbHiEBubi52795tosTNnTsXY8eONSLZsWNH2Lb2Rx55BO3bt0e7du3MJ7/Hw8oXEtrJl5B169YZgrZpIUY4dVkREIEKJCBBr0CYSspdBFh6ZSc3O8c728RLW3jsTTfdhJ07d5Z2WMz31alTx7yQ0BCV0GOeHTJABCqMgAS9wlAqoUQgQAFkqZZt7BRw2/EtJyfHuH/bbbdh0aJF5iWApXm+DMTLmpWVZWypWbMm1qxZY+yVoCfCXSsfE4WABD1Rclp+RpUAxZvieMstt+Czzz4z1ypPdXawk54v1Pu+Io1m73suv/71r1VCr0iwSksE4oSABD1OMkJmOJuAFcvyCDpfBCIrKQePi/z4gkytjRL0glz0nwi4hYAE3S05KT9iSsCKZXkEPdzwXUumo0u79pi3nZPIMOp8xS3WRgl6xTFVSiIQTwQk6PGUG7LFsQSsWEYu6AEEw8Xn4LNRz+NPg2bg4Ckvso6dxIG0xegzdpNhwdJ4MPhNAHvXzcOAlzvj72+NxPvJa3A0Iy//mMiwWRsl6JHx0lEi4DQCEnSn5ZjsjUsCViwjFnSGoc0PRXtkxjNI6joGW47TNT++ePdVTFh10JTO/b5gfPnDqcPRu+2DWHTSj7yv3kHj7iPw2XfB6HZnQtqWjsbaKEEvnZP2ioBTCUjQnZpzsjuuCFixjETQbTW6JysD6YcP4avJbVG/50RszwzgVGYmjqWtRJ8u08Dyt98TFPQ9Hw/Ciw8lYcFRdmzz4YvUjdizK1gtz853kbTBWxsl6HF168gYEagwAhL0CkOphBKZgBXLMgXdhJoFfNnfY/Ybr6B/n1dwz21X4urnRuGIPw8rZk3BnLlzsXxnpsFpSugBwHfwU7x07y9wQ1JTzF+7DYfTcwG/zxbyI0JvbZSgR4RLB4mA4whI0B2XZTI4HglYsSxL0P35wWm2jf4z/vrSn/ENnfm8A37Tcyw2/xD0LHyaGJa8GWvelOpz9uH1vzyOahf+L55s/0/sz2CgGw8OfLcbuw9lldmBztooQY/HO0g2icB/T0CC/t8zVAoiYGZYI4ayBN2XF5Tr5S+0xvMNn8cRnrSyGxoNno5dWYDfHwxcU7Bd3I/vd+7Gti3BKnac+BzX/s9N6D15C3J+WI0Ppk7B2BHTcLDgdO5FckWCXgSJNoiAqwhI0F2VnXImVgSsWJYl6H6vF34AR5LHocmNt+BP4yZgZIdbccFdrbFgZ7Yx37aH+46l4aPXXsGcQ8CBRe/hj480xIjUL7H6X+PwwMOt8dFX+7B8UE8sO3YC347vhhk7TpTqvrVRJfRSMWmnCDiWgATdsVknw+OJgBXLsgSdI8uDZXQfkqcORce/9ELnXv3RrcdwrNwbbDe3DeO+9N2Y9uqLeH8vgMMrMXRwJwz8MAWzBnfG1DkLzYvBrFbPYtXhDOye0g6Dlx8oFYm1UYJeKibtFAHHEpCgOzbrZHg8EbBiWbagB60OhDeUR+BIcYcH/AHsnf8uJi9KwdShw7AhPRhPvqTkrI0S9JIIabsIOJuABN3Z+Sfr44SAFctIBZ0ldTO5S/4EL3l5HhRsNzdTocHr8cDLHnEBHzyePHgZZcbvNeeajnL+4/jP+nVYv+VQmSSsjRL0MlHpABFwJAEJuiOzTUbHGwErlpELesV4YMe0m9QK/FM0fWujBL0oG20RATcQkKC7IRflQ8wJWLGsbEFneztL9uwdX9ZibZSgl0VK+0XAmQQk6M7MN1kdZwSsWFa6oJ8FB2ujBP0soOlQEXAQAQm6gzJLpsYvASuWEvT4zSNZJgJuJyBBd3sOy79KISBBrxTMuogIiEApBCTopcDRLhGIlIAV9FtvvRVLliwBJ0xhL3Z+xsuak5NjbFGVe6S5quNEwFkEJOjOyi9ZG6cErKDXrl0b69evj1Mrg2axWWD16tXmHxuVLq4NlnEiIAIREZCgR4RJB4lA6QRyc3PNATVq1MDAgQOxYMECzJ8/HykpKXGzJicnY+HChbjwwguxZs0aYy9rD7SIgAi4g4AE3R35KC9iTMCTP4tav379UL9+fdStWxd33nln3K1JSUlo1KgR9u/fb4iphB7jG0eXF4EKJCBBr0CYSkoEREAEREAEYkVAgh4r8rquKwmwpM729HhfVTJ35e0npxKcgAQ9wW8AuS8CIiACIuAOAhJ0d+SjvBABERABEUhwAhL0BL8B5L4IiIAIiIA7CEjQ3ZGP8kIEREAERCDBCUjQE/wGkPsiIAIiIALuICBBd0c+ygsREAEREIEEJyBBT/AbQO6LgAiIgAi4g4AE3R35KC9EQAREQAQSnIAEPcFvALkvAiIgAiLgDgISdHfko7wQAREQARFIcAIS9AS/AeS+CIiACIiAOwhI0N2Rj/JCBERABEQgwQlI0BP8BpD7IiACIiAC7iAgQXdHPsoLERABERCBBCcgQU/wG0Dui4AIiIAIuIOABN0d+SgvREAEREAEEpyABD3BbwC5LwIiIAIi4A4CEnR35KO8EAEREAERSHACEvQEvwHkvgiIgAiIgDsISNDdkY/yQgREQAREIMEJ/D9pM8D3tl2zfgAAAABJRU5ErkJggg==)"
      ],
      "metadata": {
        "id": "nr81Bk7adMJ0"
      }
    },
    {
      "cell_type": "code",
      "source": [
        "def first_binomial_call(S, K, T, r, u, d, N):\n",
        "    \"\"\"\n",
        "    Implementation of binomial pricing model\n",
        "    \n",
        "    Parameters\n",
        "    ----------\n",
        "    S : float\n",
        "        stock price\n",
        "        \n",
        "    K : float\n",
        "        strike price\n",
        "        \n",
        "    T : float\n",
        "        expiry time in years\n",
        "        \n",
        "    r : float\n",
        "        risk free rate which could be taken out of the yield of US treasury bonds\n",
        "        \n",
        "    u : float\n",
        "        size of upfactor move\n",
        "        \n",
        "    d : float\n",
        "        size of downfactor move\n",
        "        \n",
        "    N : int\n",
        "        number of steps in binomial model\n",
        "        \n",
        "    Returns\n",
        "    -------\n",
        "    C : dict\n",
        "        the binary pricing model in the form of dictionary\n",
        "    \"\"\"\n",
        "    \n",
        "    dt = T/N    #the time interval in years\n",
        "    p = (np.exp(r*dt) - d)/(u-d)    #risk neutral probability\n",
        "    C = {}\n",
        "    #last column of the model (payoff of call)\n",
        "    for m in range(1, N+1):\n",
        "            C[(N, m)] = max(S*(u**m)*(d**(N-m)) - K, 0 )\n",
        "            \n",
        "    #moving backwards to calculate the call price\n",
        "    for k in range(N-1, 0, -1):\n",
        "        for m in range(1,k+1):\n",
        "            C[(k, m)] = (p*C[(k+1, m+1)] + (1-p)*C[(k+1), m])/np.exp(r*dt) \n",
        "    return C\n"
      ],
      "metadata": {
        "id": "mi4P6NfRUc_D"
      },
      "execution_count": 48,
      "outputs": []
    },
    {
      "cell_type": "code",
      "source": [
        "#r is the risk free rate taken from the 10 years us treasury bond\n",
        "#call price calculated by n step binomial model\n",
        "call = {}\n",
        "for K in dfo_exp.calls['strike']:\n",
        "    call_price = first_binomial_call(S = df['Close'][len(df)-1], K = K, T = T, r=0.01*t, u = u, d =d, N=N)[(1, 1)]\n",
        "  # print(call_price)\n",
        "    call[K] = call_price\n",
        "th_call = pd.DataFrame.from_dict(call, orient='index')\n",
        "th_call.rename(columns = {0:\"th_call\"}, inplace = True)\n",
        "th_call.head()"
      ],
      "metadata": {
        "colab": {
          "base_uri": "https://localhost:8080/",
          "height": 206
        },
        "id": "o4Nkmu6bd7_u",
        "outputId": "db73db4f-4911-4e0d-872d-bcb11b3952c2"
      },
      "execution_count": 49,
      "outputs": [
        {
          "output_type": "execute_result",
          "data": {
            "text/plain": [
              "            th_call\n",
              "1200.0  3005.160784\n",
              "2000.0  2205.160822\n",
              "3400.0   805.160888\n",
              "3450.0   755.160891\n",
              "3725.0   480.162096"
            ],
            "text/html": [
              "\n",
              "  <div id=\"df-3dc221f3-d173-4ec0-8b61-c90361fe5499\">\n",
              "    <div class=\"colab-df-container\">\n",
              "      <div>\n",
              "<style scoped>\n",
              "    .dataframe tbody tr th:only-of-type {\n",
              "        vertical-align: middle;\n",
              "    }\n",
              "\n",
              "    .dataframe tbody tr th {\n",
              "        vertical-align: top;\n",
              "    }\n",
              "\n",
              "    .dataframe thead th {\n",
              "        text-align: right;\n",
              "    }\n",
              "</style>\n",
              "<table border=\"1\" class=\"dataframe\">\n",
              "  <thead>\n",
              "    <tr style=\"text-align: right;\">\n",
              "      <th></th>\n",
              "      <th>th_call</th>\n",
              "    </tr>\n",
              "  </thead>\n",
              "  <tbody>\n",
              "    <tr>\n",
              "      <th>1200.0</th>\n",
              "      <td>3005.160784</td>\n",
              "    </tr>\n",
              "    <tr>\n",
              "      <th>2000.0</th>\n",
              "      <td>2205.160822</td>\n",
              "    </tr>\n",
              "    <tr>\n",
              "      <th>3400.0</th>\n",
              "      <td>805.160888</td>\n",
              "    </tr>\n",
              "    <tr>\n",
              "      <th>3450.0</th>\n",
              "      <td>755.160891</td>\n",
              "    </tr>\n",
              "    <tr>\n",
              "      <th>3725.0</th>\n",
              "      <td>480.162096</td>\n",
              "    </tr>\n",
              "  </tbody>\n",
              "</table>\n",
              "</div>\n",
              "      <button class=\"colab-df-convert\" onclick=\"convertToInteractive('df-3dc221f3-d173-4ec0-8b61-c90361fe5499')\"\n",
              "              title=\"Convert this dataframe to an interactive table.\"\n",
              "              style=\"display:none;\">\n",
              "        \n",
              "  <svg xmlns=\"http://www.w3.org/2000/svg\" height=\"24px\"viewBox=\"0 0 24 24\"\n",
              "       width=\"24px\">\n",
              "    <path d=\"M0 0h24v24H0V0z\" fill=\"none\"/>\n",
              "    <path d=\"M18.56 5.44l.94 2.06.94-2.06 2.06-.94-2.06-.94-.94-2.06-.94 2.06-2.06.94zm-11 1L8.5 8.5l.94-2.06 2.06-.94-2.06-.94L8.5 2.5l-.94 2.06-2.06.94zm10 10l.94 2.06.94-2.06 2.06-.94-2.06-.94-.94-2.06-.94 2.06-2.06.94z\"/><path d=\"M17.41 7.96l-1.37-1.37c-.4-.4-.92-.59-1.43-.59-.52 0-1.04.2-1.43.59L10.3 9.45l-7.72 7.72c-.78.78-.78 2.05 0 2.83L4 21.41c.39.39.9.59 1.41.59.51 0 1.02-.2 1.41-.59l7.78-7.78 2.81-2.81c.8-.78.8-2.07 0-2.86zM5.41 20L4 18.59l7.72-7.72 1.47 1.35L5.41 20z\"/>\n",
              "  </svg>\n",
              "      </button>\n",
              "      \n",
              "  <style>\n",
              "    .colab-df-container {\n",
              "      display:flex;\n",
              "      flex-wrap:wrap;\n",
              "      gap: 12px;\n",
              "    }\n",
              "\n",
              "    .colab-df-convert {\n",
              "      background-color: #E8F0FE;\n",
              "      border: none;\n",
              "      border-radius: 50%;\n",
              "      cursor: pointer;\n",
              "      display: none;\n",
              "      fill: #1967D2;\n",
              "      height: 32px;\n",
              "      padding: 0 0 0 0;\n",
              "      width: 32px;\n",
              "    }\n",
              "\n",
              "    .colab-df-convert:hover {\n",
              "      background-color: #E2EBFA;\n",
              "      box-shadow: 0px 1px 2px rgba(60, 64, 67, 0.3), 0px 1px 3px 1px rgba(60, 64, 67, 0.15);\n",
              "      fill: #174EA6;\n",
              "    }\n",
              "\n",
              "    [theme=dark] .colab-df-convert {\n",
              "      background-color: #3B4455;\n",
              "      fill: #D2E3FC;\n",
              "    }\n",
              "\n",
              "    [theme=dark] .colab-df-convert:hover {\n",
              "      background-color: #434B5C;\n",
              "      box-shadow: 0px 1px 3px 1px rgba(0, 0, 0, 0.15);\n",
              "      filter: drop-shadow(0px 1px 2px rgba(0, 0, 0, 0.3));\n",
              "      fill: #FFFFFF;\n",
              "    }\n",
              "  </style>\n",
              "\n",
              "      <script>\n",
              "        const buttonEl =\n",
              "          document.querySelector('#df-3dc221f3-d173-4ec0-8b61-c90361fe5499 button.colab-df-convert');\n",
              "        buttonEl.style.display =\n",
              "          google.colab.kernel.accessAllowed ? 'block' : 'none';\n",
              "\n",
              "        async function convertToInteractive(key) {\n",
              "          const element = document.querySelector('#df-3dc221f3-d173-4ec0-8b61-c90361fe5499');\n",
              "          const dataTable =\n",
              "            await google.colab.kernel.invokeFunction('convertToInteractive',\n",
              "                                                     [key], {});\n",
              "          if (!dataTable) return;\n",
              "\n",
              "          const docLinkHtml = 'Like what you see? Visit the ' +\n",
              "            '<a target=\"_blank\" href=https://colab.research.google.com/notebooks/data_table.ipynb>data table notebook</a>'\n",
              "            + ' to learn more about interactive tables.';\n",
              "          element.innerHTML = '';\n",
              "          dataTable['output_type'] = 'display_data';\n",
              "          await google.colab.output.renderOutput(dataTable, element);\n",
              "          const docLink = document.createElement('div');\n",
              "          docLink.innerHTML = docLinkHtml;\n",
              "          element.appendChild(docLink);\n",
              "        }\n",
              "      </script>\n",
              "    </div>\n",
              "  </div>\n",
              "  "
            ]
          },
          "metadata": {},
          "execution_count": 49
        }
      ]
    },
    {
      "cell_type": "code",
      "source": [
        "#price of actual calls\n",
        "ac_call = dfo_exp.calls.loc[:, ['strike', 'lastPrice']]\n",
        "ac_call.set_index('strike', inplace = True)\n",
        "ac_call.rename(columns = {\"lastPrice\":\"ac_call\"}, inplace=True)\n",
        "ac_call.head()\n"
      ],
      "metadata": {
        "colab": {
          "base_uri": "https://localhost:8080/",
          "height": 237
        },
        "id": "HWk42yKceAx2",
        "outputId": "ccb9bfa3-c973-4a1c-f0f0-c8d72f4af66f"
      },
      "execution_count": 50,
      "outputs": [
        {
          "output_type": "execute_result",
          "data": {
            "text/plain": [
              "        ac_call\n",
              "strike         \n",
              "1200.0  2996.07\n",
              "2000.0  2192.27\n",
              "3400.0   723.30\n",
              "3450.0   735.67\n",
              "3725.0   468.44"
            ],
            "text/html": [
              "\n",
              "  <div id=\"df-ed2b6afb-f998-4b96-987b-af634c209822\">\n",
              "    <div class=\"colab-df-container\">\n",
              "      <div>\n",
              "<style scoped>\n",
              "    .dataframe tbody tr th:only-of-type {\n",
              "        vertical-align: middle;\n",
              "    }\n",
              "\n",
              "    .dataframe tbody tr th {\n",
              "        vertical-align: top;\n",
              "    }\n",
              "\n",
              "    .dataframe thead th {\n",
              "        text-align: right;\n",
              "    }\n",
              "</style>\n",
              "<table border=\"1\" class=\"dataframe\">\n",
              "  <thead>\n",
              "    <tr style=\"text-align: right;\">\n",
              "      <th></th>\n",
              "      <th>ac_call</th>\n",
              "    </tr>\n",
              "    <tr>\n",
              "      <th>strike</th>\n",
              "      <th></th>\n",
              "    </tr>\n",
              "  </thead>\n",
              "  <tbody>\n",
              "    <tr>\n",
              "      <th>1200.0</th>\n",
              "      <td>2996.07</td>\n",
              "    </tr>\n",
              "    <tr>\n",
              "      <th>2000.0</th>\n",
              "      <td>2192.27</td>\n",
              "    </tr>\n",
              "    <tr>\n",
              "      <th>3400.0</th>\n",
              "      <td>723.30</td>\n",
              "    </tr>\n",
              "    <tr>\n",
              "      <th>3450.0</th>\n",
              "      <td>735.67</td>\n",
              "    </tr>\n",
              "    <tr>\n",
              "      <th>3725.0</th>\n",
              "      <td>468.44</td>\n",
              "    </tr>\n",
              "  </tbody>\n",
              "</table>\n",
              "</div>\n",
              "      <button class=\"colab-df-convert\" onclick=\"convertToInteractive('df-ed2b6afb-f998-4b96-987b-af634c209822')\"\n",
              "              title=\"Convert this dataframe to an interactive table.\"\n",
              "              style=\"display:none;\">\n",
              "        \n",
              "  <svg xmlns=\"http://www.w3.org/2000/svg\" height=\"24px\"viewBox=\"0 0 24 24\"\n",
              "       width=\"24px\">\n",
              "    <path d=\"M0 0h24v24H0V0z\" fill=\"none\"/>\n",
              "    <path d=\"M18.56 5.44l.94 2.06.94-2.06 2.06-.94-2.06-.94-.94-2.06-.94 2.06-2.06.94zm-11 1L8.5 8.5l.94-2.06 2.06-.94-2.06-.94L8.5 2.5l-.94 2.06-2.06.94zm10 10l.94 2.06.94-2.06 2.06-.94-2.06-.94-.94-2.06-.94 2.06-2.06.94z\"/><path d=\"M17.41 7.96l-1.37-1.37c-.4-.4-.92-.59-1.43-.59-.52 0-1.04.2-1.43.59L10.3 9.45l-7.72 7.72c-.78.78-.78 2.05 0 2.83L4 21.41c.39.39.9.59 1.41.59.51 0 1.02-.2 1.41-.59l7.78-7.78 2.81-2.81c.8-.78.8-2.07 0-2.86zM5.41 20L4 18.59l7.72-7.72 1.47 1.35L5.41 20z\"/>\n",
              "  </svg>\n",
              "      </button>\n",
              "      \n",
              "  <style>\n",
              "    .colab-df-container {\n",
              "      display:flex;\n",
              "      flex-wrap:wrap;\n",
              "      gap: 12px;\n",
              "    }\n",
              "\n",
              "    .colab-df-convert {\n",
              "      background-color: #E8F0FE;\n",
              "      border: none;\n",
              "      border-radius: 50%;\n",
              "      cursor: pointer;\n",
              "      display: none;\n",
              "      fill: #1967D2;\n",
              "      height: 32px;\n",
              "      padding: 0 0 0 0;\n",
              "      width: 32px;\n",
              "    }\n",
              "\n",
              "    .colab-df-convert:hover {\n",
              "      background-color: #E2EBFA;\n",
              "      box-shadow: 0px 1px 2px rgba(60, 64, 67, 0.3), 0px 1px 3px 1px rgba(60, 64, 67, 0.15);\n",
              "      fill: #174EA6;\n",
              "    }\n",
              "\n",
              "    [theme=dark] .colab-df-convert {\n",
              "      background-color: #3B4455;\n",
              "      fill: #D2E3FC;\n",
              "    }\n",
              "\n",
              "    [theme=dark] .colab-df-convert:hover {\n",
              "      background-color: #434B5C;\n",
              "      box-shadow: 0px 1px 3px 1px rgba(0, 0, 0, 0.15);\n",
              "      filter: drop-shadow(0px 1px 2px rgba(0, 0, 0, 0.3));\n",
              "      fill: #FFFFFF;\n",
              "    }\n",
              "  </style>\n",
              "\n",
              "      <script>\n",
              "        const buttonEl =\n",
              "          document.querySelector('#df-ed2b6afb-f998-4b96-987b-af634c209822 button.colab-df-convert');\n",
              "        buttonEl.style.display =\n",
              "          google.colab.kernel.accessAllowed ? 'block' : 'none';\n",
              "\n",
              "        async function convertToInteractive(key) {\n",
              "          const element = document.querySelector('#df-ed2b6afb-f998-4b96-987b-af634c209822');\n",
              "          const dataTable =\n",
              "            await google.colab.kernel.invokeFunction('convertToInteractive',\n",
              "                                                     [key], {});\n",
              "          if (!dataTable) return;\n",
              "\n",
              "          const docLinkHtml = 'Like what you see? Visit the ' +\n",
              "            '<a target=\"_blank\" href=https://colab.research.google.com/notebooks/data_table.ipynb>data table notebook</a>'\n",
              "            + ' to learn more about interactive tables.';\n",
              "          element.innerHTML = '';\n",
              "          dataTable['output_type'] = 'display_data';\n",
              "          await google.colab.output.renderOutput(dataTable, element);\n",
              "          const docLink = document.createElement('div');\n",
              "          docLink.innerHTML = docLinkHtml;\n",
              "          element.appendChild(docLink);\n",
              "        }\n",
              "      </script>\n",
              "    </div>\n",
              "  </div>\n",
              "  "
            ]
          },
          "metadata": {},
          "execution_count": 50
        }
      ]
    },
    {
      "cell_type": "code",
      "source": [
        "call = th_call\n",
        "call[\"ac_call\"] = ac_call\n",
        "call.head(10)"
      ],
      "metadata": {
        "colab": {
          "base_uri": "https://localhost:8080/",
          "height": 363
        },
        "id": "y4NvREWDfH5Q",
        "outputId": "b9a5aae7-6fd7-489a-9a70-7d5c5b2ae627"
      },
      "execution_count": 51,
      "outputs": [
        {
          "output_type": "execute_result",
          "data": {
            "text/plain": [
              "            th_call  ac_call\n",
              "1200.0  3005.160784  2996.07\n",
              "2000.0  2205.160822  2192.27\n",
              "3400.0   805.160888   723.30\n",
              "3450.0   755.160891   735.67\n",
              "3725.0   480.162096   468.44\n",
              "3800.0   405.178915   397.92\n",
              "3850.0   355.244952   343.55\n",
              "3875.0   330.329982   323.95\n",
              "3880.0   325.352573   318.45\n",
              "3900.0   305.486266   278.52"
            ],
            "text/html": [
              "\n",
              "  <div id=\"df-ea8999ad-4fbf-4eee-b939-3523b466d3d5\">\n",
              "    <div class=\"colab-df-container\">\n",
              "      <div>\n",
              "<style scoped>\n",
              "    .dataframe tbody tr th:only-of-type {\n",
              "        vertical-align: middle;\n",
              "    }\n",
              "\n",
              "    .dataframe tbody tr th {\n",
              "        vertical-align: top;\n",
              "    }\n",
              "\n",
              "    .dataframe thead th {\n",
              "        text-align: right;\n",
              "    }\n",
              "</style>\n",
              "<table border=\"1\" class=\"dataframe\">\n",
              "  <thead>\n",
              "    <tr style=\"text-align: right;\">\n",
              "      <th></th>\n",
              "      <th>th_call</th>\n",
              "      <th>ac_call</th>\n",
              "    </tr>\n",
              "  </thead>\n",
              "  <tbody>\n",
              "    <tr>\n",
              "      <th>1200.0</th>\n",
              "      <td>3005.160784</td>\n",
              "      <td>2996.07</td>\n",
              "    </tr>\n",
              "    <tr>\n",
              "      <th>2000.0</th>\n",
              "      <td>2205.160822</td>\n",
              "      <td>2192.27</td>\n",
              "    </tr>\n",
              "    <tr>\n",
              "      <th>3400.0</th>\n",
              "      <td>805.160888</td>\n",
              "      <td>723.30</td>\n",
              "    </tr>\n",
              "    <tr>\n",
              "      <th>3450.0</th>\n",
              "      <td>755.160891</td>\n",
              "      <td>735.67</td>\n",
              "    </tr>\n",
              "    <tr>\n",
              "      <th>3725.0</th>\n",
              "      <td>480.162096</td>\n",
              "      <td>468.44</td>\n",
              "    </tr>\n",
              "    <tr>\n",
              "      <th>3800.0</th>\n",
              "      <td>405.178915</td>\n",
              "      <td>397.92</td>\n",
              "    </tr>\n",
              "    <tr>\n",
              "      <th>3850.0</th>\n",
              "      <td>355.244952</td>\n",
              "      <td>343.55</td>\n",
              "    </tr>\n",
              "    <tr>\n",
              "      <th>3875.0</th>\n",
              "      <td>330.329982</td>\n",
              "      <td>323.95</td>\n",
              "    </tr>\n",
              "    <tr>\n",
              "      <th>3880.0</th>\n",
              "      <td>325.352573</td>\n",
              "      <td>318.45</td>\n",
              "    </tr>\n",
              "    <tr>\n",
              "      <th>3900.0</th>\n",
              "      <td>305.486266</td>\n",
              "      <td>278.52</td>\n",
              "    </tr>\n",
              "  </tbody>\n",
              "</table>\n",
              "</div>\n",
              "      <button class=\"colab-df-convert\" onclick=\"convertToInteractive('df-ea8999ad-4fbf-4eee-b939-3523b466d3d5')\"\n",
              "              title=\"Convert this dataframe to an interactive table.\"\n",
              "              style=\"display:none;\">\n",
              "        \n",
              "  <svg xmlns=\"http://www.w3.org/2000/svg\" height=\"24px\"viewBox=\"0 0 24 24\"\n",
              "       width=\"24px\">\n",
              "    <path d=\"M0 0h24v24H0V0z\" fill=\"none\"/>\n",
              "    <path d=\"M18.56 5.44l.94 2.06.94-2.06 2.06-.94-2.06-.94-.94-2.06-.94 2.06-2.06.94zm-11 1L8.5 8.5l.94-2.06 2.06-.94-2.06-.94L8.5 2.5l-.94 2.06-2.06.94zm10 10l.94 2.06.94-2.06 2.06-.94-2.06-.94-.94-2.06-.94 2.06-2.06.94z\"/><path d=\"M17.41 7.96l-1.37-1.37c-.4-.4-.92-.59-1.43-.59-.52 0-1.04.2-1.43.59L10.3 9.45l-7.72 7.72c-.78.78-.78 2.05 0 2.83L4 21.41c.39.39.9.59 1.41.59.51 0 1.02-.2 1.41-.59l7.78-7.78 2.81-2.81c.8-.78.8-2.07 0-2.86zM5.41 20L4 18.59l7.72-7.72 1.47 1.35L5.41 20z\"/>\n",
              "  </svg>\n",
              "      </button>\n",
              "      \n",
              "  <style>\n",
              "    .colab-df-container {\n",
              "      display:flex;\n",
              "      flex-wrap:wrap;\n",
              "      gap: 12px;\n",
              "    }\n",
              "\n",
              "    .colab-df-convert {\n",
              "      background-color: #E8F0FE;\n",
              "      border: none;\n",
              "      border-radius: 50%;\n",
              "      cursor: pointer;\n",
              "      display: none;\n",
              "      fill: #1967D2;\n",
              "      height: 32px;\n",
              "      padding: 0 0 0 0;\n",
              "      width: 32px;\n",
              "    }\n",
              "\n",
              "    .colab-df-convert:hover {\n",
              "      background-color: #E2EBFA;\n",
              "      box-shadow: 0px 1px 2px rgba(60, 64, 67, 0.3), 0px 1px 3px 1px rgba(60, 64, 67, 0.15);\n",
              "      fill: #174EA6;\n",
              "    }\n",
              "\n",
              "    [theme=dark] .colab-df-convert {\n",
              "      background-color: #3B4455;\n",
              "      fill: #D2E3FC;\n",
              "    }\n",
              "\n",
              "    [theme=dark] .colab-df-convert:hover {\n",
              "      background-color: #434B5C;\n",
              "      box-shadow: 0px 1px 3px 1px rgba(0, 0, 0, 0.15);\n",
              "      filter: drop-shadow(0px 1px 2px rgba(0, 0, 0, 0.3));\n",
              "      fill: #FFFFFF;\n",
              "    }\n",
              "  </style>\n",
              "\n",
              "      <script>\n",
              "        const buttonEl =\n",
              "          document.querySelector('#df-ea8999ad-4fbf-4eee-b939-3523b466d3d5 button.colab-df-convert');\n",
              "        buttonEl.style.display =\n",
              "          google.colab.kernel.accessAllowed ? 'block' : 'none';\n",
              "\n",
              "        async function convertToInteractive(key) {\n",
              "          const element = document.querySelector('#df-ea8999ad-4fbf-4eee-b939-3523b466d3d5');\n",
              "          const dataTable =\n",
              "            await google.colab.kernel.invokeFunction('convertToInteractive',\n",
              "                                                     [key], {});\n",
              "          if (!dataTable) return;\n",
              "\n",
              "          const docLinkHtml = 'Like what you see? Visit the ' +\n",
              "            '<a target=\"_blank\" href=https://colab.research.google.com/notebooks/data_table.ipynb>data table notebook</a>'\n",
              "            + ' to learn more about interactive tables.';\n",
              "          element.innerHTML = '';\n",
              "          dataTable['output_type'] = 'display_data';\n",
              "          await google.colab.output.renderOutput(dataTable, element);\n",
              "          const docLink = document.createElement('div');\n",
              "          docLink.innerHTML = docLinkHtml;\n",
              "          element.appendChild(docLink);\n",
              "        }\n",
              "      </script>\n",
              "    </div>\n",
              "  </div>\n",
              "  "
            ]
          },
          "metadata": {},
          "execution_count": 51
        }
      ]
    },
    {
      "cell_type": "code",
      "source": [
        "call.plot() #plotting the actual and theoretical option prices"
      ],
      "metadata": {
        "colab": {
          "base_uri": "https://localhost:8080/",
          "height": 447
        },
        "id": "s19isqfafPZL",
        "outputId": "3c70824a-a450-4fa5-92c3-18915f5d9ccc"
      },
      "execution_count": 52,
      "outputs": [
        {
          "output_type": "execute_result",
          "data": {
            "text/plain": [
              "<Axes: >"
            ]
          },
          "metadata": {},
          "execution_count": 52
        },
        {
          "output_type": "display_data",
          "data": {
            "text/plain": [
              "<Figure size 640x480 with 1 Axes>"
            ],
            "image/png": "[encoded data removed]"
          },
          "metadata": {}
        }
      ]
    }
  ]
}