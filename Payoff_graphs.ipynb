{
  "nbformat": 4,
  "nbformat_minor": 0,
  "metadata": {
    "colab": {
      "provenance": []
    },
    "kernelspec": {
      "name": "python3",
      "display_name": "Python 3"
    },
    "language_info": {
      "name": "python"
    }
  },
  "cells": [
    {
      "cell_type": "markdown",
      "source": [
        "# **INTRODUCTION TO OPTIONS**"
      ],
      "metadata": {
        "id": "MZwlf3lDH52f"
      }
    },
    {
      "cell_type": "markdown",
      "source": [
        "[Basics of options](https://corporatefinanceinstitute.com/resources/derivatives/options-calls-and-puts/)"
      ],
      "metadata": {
        "id": "QhBHL2vlHxth"
      }
    },
    {
      "cell_type": "code",
      "source": [
        "!pip install yfinance"
      ],
      "metadata": {
        "colab": {
          "base_uri": "https://localhost:8080/"
        },
        "id": "07EshAGkIUpm",
        "outputId": "44cc6011-9216-4f60-cecf-074694c8c186"
      },
      "execution_count": 1,
      "outputs": [
        {
          "output_type": "stream",
          "name": "stdout",
          "text": [
            "Looking in indexes: https://pypi.org/simple, https://us-python.pkg.dev/colab-wheels/public/simple/\n",
            "Collecting yfinance\n",
            "  Downloading yfinance-0.2.12-py2.py3-none-any.whl (59 kB)\n",
            "\u001b[2K     \u001b[90m━━━━━━━━━━━━━━━━━━━━━━━━━━━━━━━━━━━━━━━━\u001b[0m \u001b[32m59.2/59.2 KB\u001b[0m \u001b[31m1.6 MB/s\u001b[0m eta \u001b[36m0:00:00\u001b[0m\n",
            "\u001b[?25hRequirement already satisfied: pytz>=2022.5 in /usr/local/lib/python3.9/dist-packages (from yfinance) (2022.7.1)\n",
            "Requirement already satisfied: numpy>=1.16.5 in /usr/local/lib/python3.9/dist-packages (from yfinance) (1.22.4)\n",
            "Collecting requests>=2.26\n",
            "  Downloading requests-2.28.2-py3-none-any.whl (62 kB)\n",
            "\u001b[2K     \u001b[90m━━━━━━━━━━━━━━━━━━━━━━━━━━━━━━━━━━━━━━━━\u001b[0m \u001b[32m62.8/62.8 KB\u001b[0m \u001b[31m3.2 MB/s\u001b[0m eta \u001b[36m0:00:00\u001b[0m\n",
            "\u001b[?25hCollecting html5lib>=1.1\n",
            "  Downloading html5lib-1.1-py2.py3-none-any.whl (112 kB)\n",
            "\u001b[2K     \u001b[90m━━━━━━━━━━━━━━━━━━━━━━━━━━━━━━━━━━━━━━━\u001b[0m \u001b[32m112.2/112.2 KB\u001b[0m \u001b[31m7.5 MB/s\u001b[0m eta \u001b[36m0:00:00\u001b[0m\n",
            "\u001b[?25hCollecting cryptography>=3.3.2\n",
            "  Downloading cryptography-39.0.2-cp36-abi3-manylinux_2_28_x86_64.whl (4.2 MB)\n",
            "\u001b[2K     \u001b[90m━━━━━━━━━━━━━━━━━━━━━━━━━━━━━━━━━━━━━━━━\u001b[0m \u001b[32m4.2/4.2 MB\u001b[0m \u001b[31m38.2 MB/s\u001b[0m eta \u001b[36m0:00:00\u001b[0m\n",
            "\u001b[?25hCollecting appdirs>=1.4.4\n",
            "  Downloading appdirs-1.4.4-py2.py3-none-any.whl (9.6 kB)\n",
            "Requirement already satisfied: pandas>=1.3.0 in /usr/local/lib/python3.9/dist-packages (from yfinance) (1.3.5)\n",
            "Collecting frozendict>=2.3.4\n",
            "  Downloading frozendict-2.3.5-cp39-cp39-manylinux_2_17_x86_64.manylinux2014_x86_64.whl (112 kB)\n",
            "\u001b[2K     \u001b[90m━━━━━━━━━━━━━━━━━━━━━━━━━━━━━━━━━━━━━━━\u001b[0m \u001b[32m112.8/112.8 KB\u001b[0m \u001b[31m6.5 MB/s\u001b[0m eta \u001b[36m0:00:00\u001b[0m\n",
            "\u001b[?25hRequirement already satisfied: multitasking>=0.0.7 in /usr/local/lib/python3.9/dist-packages (from yfinance) (0.0.11)\n",
            "Collecting beautifulsoup4>=4.11.1\n",
            "  Downloading beautifulsoup4-4.11.2-py3-none-any.whl (129 kB)\n",
            "\u001b[2K     \u001b[90m━━━━━━━━━━━━━━━━━━━━━━━━━━━━━━━━━━━━━━━\u001b[0m \u001b[32m129.4/129.4 KB\u001b[0m \u001b[31m7.9 MB/s\u001b[0m eta \u001b[36m0:00:00\u001b[0m\n",
            "\u001b[?25hRequirement already satisfied: lxml>=4.9.1 in /usr/local/lib/python3.9/dist-packages (from yfinance) (4.9.2)\n",
            "Collecting soupsieve>1.2\n",
            "  Downloading soupsieve-2.4-py3-none-any.whl (37 kB)\n",
            "Requirement already satisfied: cffi>=1.12 in /usr/local/lib/python3.9/dist-packages (from cryptography>=3.3.2->yfinance) (1.15.1)\n",
            "Requirement already satisfied: webencodings in /usr/local/lib/python3.9/dist-packages (from html5lib>=1.1->yfinance) (0.5.1)\n",
            "Requirement already satisfied: six>=1.9 in /usr/local/lib/python3.9/dist-packages (from html5lib>=1.1->yfinance) (1.15.0)\n",
            "Requirement already satisfied: python-dateutil>=2.7.3 in /usr/local/lib/python3.9/dist-packages (from pandas>=1.3.0->yfinance) (2.8.2)\n",
            "Requirement already satisfied: urllib3<1.27,>=1.21.1 in /usr/local/lib/python3.9/dist-packages (from requests>=2.26->yfinance) (1.26.14)\n",
            "Requirement already satisfied: certifi>=2017.4.17 in /usr/local/lib/python3.9/dist-packages (from requests>=2.26->yfinance) (2022.12.7)\n",
            "Requirement already satisfied: idna<4,>=2.5 in /usr/local/lib/python3.9/dist-packages (from requests>=2.26->yfinance) (2.10)\n",
            "Collecting charset-normalizer<4,>=2\n",
            "  Downloading charset_normalizer-3.1.0-cp39-cp39-manylinux_2_17_x86_64.manylinux2014_x86_64.whl (199 kB)\n",
            "\u001b[2K     \u001b[90m━━━━━━━━━━━━━━━━━━━━━━━━━━━━━━━━━━━━━━━\u001b[0m \u001b[32m199.2/199.2 KB\u001b[0m \u001b[31m8.7 MB/s\u001b[0m eta \u001b[36m0:00:00\u001b[0m\n",
            "\u001b[?25hRequirement already satisfied: pycparser in /usr/local/lib/python3.9/dist-packages (from cffi>=1.12->cryptography>=3.3.2->yfinance) (2.21)\n",
            "Installing collected packages: appdirs, soupsieve, html5lib, frozendict, charset-normalizer, requests, cryptography, beautifulsoup4, yfinance\n",
            "  Attempting uninstall: html5lib\n",
            "    Found existing installation: html5lib 1.0.1\n",
            "    Uninstalling html5lib-1.0.1:\n",
            "      Successfully uninstalled html5lib-1.0.1\n",
            "  Attempting uninstall: requests\n",
            "    Found existing installation: requests 2.25.1\n",
            "    Uninstalling requests-2.25.1:\n",
            "      Successfully uninstalled requests-2.25.1\n",
            "  Attempting uninstall: beautifulsoup4\n",
            "    Found existing installation: beautifulsoup4 4.6.3\n",
            "    Uninstalling beautifulsoup4-4.6.3:\n",
            "      Successfully uninstalled beautifulsoup4-4.6.3\n",
            "Successfully installed appdirs-1.4.4 beautifulsoup4-4.11.2 charset-normalizer-3.1.0 cryptography-39.0.2 frozendict-2.3.5 html5lib-1.1 requests-2.28.2 soupsieve-2.4 yfinance-0.2.12\n"
          ]
        }
      ]
    },
    {
      "cell_type": "markdown",
      "source": [
        "**IMPORTING THE LIBRARIES**"
      ],
      "metadata": {
        "id": "cyMM0PGrIOVN"
      }
    },
    {
      "cell_type": "code",
      "execution_count": 2,
      "metadata": {
        "id": "LJQBZ_eDHI_X"
      },
      "outputs": [],
      "source": [
        "import pandas as pd\n",
        "import matplotlib.pyplot as plt\n",
        "import numpy as np\n",
        "\n",
        "from datetime import date\n",
        "\n",
        "\n",
        "import warnings\n",
        "warnings.filterwarnings(\"ignore\")\n",
        "\n",
        "# to fetch data \n",
        "import yfinance as yf"
      ]
    },
    {
      "cell_type": "markdown",
      "source": [
        "**IMPORTING DATA FOR OPTIONS**"
      ],
      "metadata": {
        "id": "OTC-bzdhIiux"
      }
    },
    {
      "cell_type": "code",
      "source": [
        "symbol = 'AAPL'  #the ticker of the stock whose data is to be taken out\n",
        "dfo = yf.Ticker(symbol)"
      ],
      "metadata": {
        "id": "CMJDFOO8IgJd"
      },
      "execution_count": 3,
      "outputs": []
    },
    {
      "cell_type": "code",
      "source": [
        "dfo.options  #to get the date of different expiration time"
      ],
      "metadata": {
        "colab": {
          "base_uri": "https://localhost:8080/"
        },
        "id": "xS3hkg6zIrw4",
        "outputId": "aab6716e-f1ca-4dd8-e6a8-b5d2b93dfc5a"
      },
      "execution_count": 4,
      "outputs": [
        {
          "output_type": "execute_result",
          "data": {
            "text/plain": [
              "('2023-03-10',\n",
              " '2023-03-17',\n",
              " '2023-03-24',\n",
              " '2023-03-31',\n",
              " '2023-04-06',\n",
              " '2023-04-14',\n",
              " '2023-04-21',\n",
              " '2023-05-19',\n",
              " '2023-06-16',\n",
              " '2023-07-21',\n",
              " '2023-08-18',\n",
              " '2023-09-15',\n",
              " '2023-10-20',\n",
              " '2023-12-15',\n",
              " '2024-01-19',\n",
              " '2024-03-15',\n",
              " '2024-06-21',\n",
              " '2024-09-20',\n",
              " '2025-01-17',\n",
              " '2025-06-20',\n",
              " '2025-12-19')"
            ]
          },
          "metadata": {},
          "execution_count": 4
        }
      ]
    },
    {
      "cell_type": "code",
      "source": [
        "dfo_exp = dfo.option_chain(dfo.options[1])  #to get data of next recent expiry date"
      ],
      "metadata": {
        "id": "MUQOscC4JC9w"
      },
      "execution_count": 5,
      "outputs": []
    },
    {
      "cell_type": "code",
      "source": [
        "dfo_exp.calls #Data for call options"
      ],
      "metadata": {
        "colab": {
          "base_uri": "https://localhost:8080/",
          "height": 423
        },
        "id": "4o7lLpnzJDsN",
        "outputId": "249bd788-1174-4ad2-b1ee-d4a0ddc0d1a7"
      },
      "execution_count": 6,
      "outputs": [
        {
          "output_type": "execute_result",
          "data": {
            "text/plain": [
              "         contractSymbol             lastTradeDate  strike  lastPrice  bid  \\\n",
              "0   AAPL230317C00035000 2023-03-08 20:34:58+00:00    35.0     117.35  0.0   \n",
              "1   AAPL230317C00040000 2023-03-01 15:21:26+00:00    40.0     106.00  0.0   \n",
              "2   AAPL230317C00045000 2023-02-21 19:21:55+00:00    45.0     104.10  0.0   \n",
              "3   AAPL230317C00050000 2023-02-23 19:15:00+00:00    50.0      98.80  0.0   \n",
              "4   AAPL230317C00055000 2023-02-21 19:57:30+00:00    55.0      93.85  0.0   \n",
              "..                  ...                       ...     ...        ...  ...   \n",
              "63  AAPL230317C00270000 2023-02-13 20:17:02+00:00   270.0       0.01  0.0   \n",
              "64  AAPL230317C00275000 2023-03-08 14:58:29+00:00   275.0       0.01  0.0   \n",
              "65  AAPL230317C00280000 2023-03-07 14:30:10+00:00   280.0       0.01  0.0   \n",
              "66  AAPL230317C00290000 2023-02-02 20:46:53+00:00   290.0       0.01  0.0   \n",
              "67  AAPL230317C00300000 2023-03-08 17:41:15+00:00   300.0       0.01  0.0   \n",
              "\n",
              "     ask  change  percentChange  volume  openInterest  impliedVolatility  \\\n",
              "0   0.00     0.0            0.0     4.0             0           0.000010   \n",
              "1   0.00     0.0            0.0     1.0             0           0.000010   \n",
              "2   0.00     0.0            0.0    32.0             0           0.000010   \n",
              "3   0.00     0.0            0.0   152.0             0           0.000010   \n",
              "4   0.00     0.0            0.0     2.0             0           0.000010   \n",
              "..   ...     ...            ...     ...           ...                ...   \n",
              "63  0.00     0.0            0.0    20.0             0           0.500005   \n",
              "64  0.00     0.0            0.0     2.0             0           0.500005   \n",
              "65  0.00     0.0            0.0     1.0             0           0.500005   \n",
              "66  0.01     0.0            0.0     2.0           977           1.218754   \n",
              "67  0.00     0.0            0.0    10.0             0           0.500005   \n",
              "\n",
              "    inTheMoney contractSize currency  \n",
              "0         True      REGULAR      USD  \n",
              "1         True      REGULAR      USD  \n",
              "2         True      REGULAR      USD  \n",
              "3         True      REGULAR      USD  \n",
              "4         True      REGULAR      USD  \n",
              "..         ...          ...      ...  \n",
              "63       False      REGULAR      USD  \n",
              "64       False      REGULAR      USD  \n",
              "65       False      REGULAR      USD  \n",
              "66       False      REGULAR      USD  \n",
              "67       False      REGULAR      USD  \n",
              "\n",
              "[68 rows x 14 columns]"
            ],
            "text/html": [
              "\n",
              "  <div id=\"df-054449b8-4c85-413a-a598-a62e8618bfdc\">\n",
              "    <div class=\"colab-df-container\">\n",
              "      <div>\n",
              "<style scoped>\n",
              "    .dataframe tbody tr th:only-of-type {\n",
              "        vertical-align: middle;\n",
              "    }\n",
              "\n",
              "    .dataframe tbody tr th {\n",
              "        vertical-align: top;\n",
              "    }\n",
              "\n",
              "    .dataframe thead th {\n",
              "        text-align: right;\n",
              "    }\n",
              "</style>\n",
              "<table border=\"1\" class=\"dataframe\">\n",
              "  <thead>\n",
              "    <tr style=\"text-align: right;\">\n",
              "      <th></th>\n",
              "      <th>contractSymbol</th>\n",
              "      <th>lastTradeDate</th>\n",
              "      <th>strike</th>\n",
              "      <th>lastPrice</th>\n",
              "      <th>bid</th>\n",
              "      <th>ask</th>\n",
              "      <th>change</th>\n",
              "      <th>percentChange</th>\n",
              "      <th>volume</th>\n",
              "      <th>openInterest</th>\n",
              "      <th>impliedVolatility</th>\n",
              "      <th>inTheMoney</th>\n",
              "      <th>contractSize</th>\n",
              "      <th>currency</th>\n",
              "    </tr>\n",
              "  </thead>\n",
              "  <tbody>\n",
              "    <tr>\n",
              "      <th>0</th>\n",
              "      <td>AAPL230317C00035000</td>\n",
              "      <td>2023-03-08 20:34:58+00:00</td>\n",
              "      <td>35.0</td>\n",
              "      <td>117.35</td>\n",
              "      <td>0.0</td>\n",
              "      <td>0.00</td>\n",
              "      <td>0.0</td>\n",
              "      <td>0.0</td>\n",
              "      <td>4.0</td>\n",
              "      <td>0</td>\n",
              "      <td>0.000010</td>\n",
              "      <td>True</td>\n",
              "      <td>REGULAR</td>\n",
              "      <td>USD</td>\n",
              "    </tr>\n",
              "    <tr>\n",
              "      <th>1</th>\n",
              "      <td>AAPL230317C00040000</td>\n",
              "      <td>2023-03-01 15:21:26+00:00</td>\n",
              "      <td>40.0</td>\n",
              "      <td>106.00</td>\n",
              "      <td>0.0</td>\n",
              "      <td>0.00</td>\n",
              "      <td>0.0</td>\n",
              "      <td>0.0</td>\n",
              "      <td>1.0</td>\n",
              "      <td>0</td>\n",
              "      <td>0.000010</td>\n",
              "      <td>True</td>\n",
              "      <td>REGULAR</td>\n",
              "      <td>USD</td>\n",
              "    </tr>\n",
              "    <tr>\n",
              "      <th>2</th>\n",
              "      <td>AAPL230317C00045000</td>\n",
              "      <td>2023-02-21 19:21:55+00:00</td>\n",
              "      <td>45.0</td>\n",
              "      <td>104.10</td>\n",
              "      <td>0.0</td>\n",
              "      <td>0.00</td>\n",
              "      <td>0.0</td>\n",
              "      <td>0.0</td>\n",
              "      <td>32.0</td>\n",
              "      <td>0</td>\n",
              "      <td>0.000010</td>\n",
              "      <td>True</td>\n",
              "      <td>REGULAR</td>\n",
              "      <td>USD</td>\n",
              "    </tr>\n",
              "    <tr>\n",
              "      <th>3</th>\n",
              "      <td>AAPL230317C00050000</td>\n",
              "      <td>2023-02-23 19:15:00+00:00</td>\n",
              "      <td>50.0</td>\n",
              "      <td>98.80</td>\n",
              "      <td>0.0</td>\n",
              "      <td>0.00</td>\n",
              "      <td>0.0</td>\n",
              "      <td>0.0</td>\n",
              "      <td>152.0</td>\n",
              "      <td>0</td>\n",
              "      <td>0.000010</td>\n",
              "      <td>True</td>\n",
              "      <td>REGULAR</td>\n",
              "      <td>USD</td>\n",
              "    </tr>\n",
              "    <tr>\n",
              "      <th>4</th>\n",
              "      <td>AAPL230317C00055000</td>\n",
              "      <td>2023-02-21 19:57:30+00:00</td>\n",
              "      <td>55.0</td>\n",
              "      <td>93.85</td>\n",
              "      <td>0.0</td>\n",
              "      <td>0.00</td>\n",
              "      <td>0.0</td>\n",
              "      <td>0.0</td>\n",
              "      <td>2.0</td>\n",
              "      <td>0</td>\n",
              "      <td>0.000010</td>\n",
              "      <td>True</td>\n",
              "      <td>REGULAR</td>\n",
              "      <td>USD</td>\n",
              "    </tr>\n",
              "    <tr>\n",
              "      <th>...</th>\n",
              "      <td>...</td>\n",
              "      <td>...</td>\n",
              "      <td>...</td>\n",
              "      <td>...</td>\n",
              "      <td>...</td>\n",
              "      <td>...</td>\n",
              "      <td>...</td>\n",
              "      <td>...</td>\n",
              "      <td>...</td>\n",
              "      <td>...</td>\n",
              "      <td>...</td>\n",
              "      <td>...</td>\n",
              "      <td>...</td>\n",
              "      <td>...</td>\n",
              "    </tr>\n",
              "    <tr>\n",
              "      <th>63</th>\n",
              "      <td>AAPL230317C00270000</td>\n",
              "      <td>2023-02-13 20:17:02+00:00</td>\n",
              "      <td>270.0</td>\n",
              "      <td>0.01</td>\n",
              "      <td>0.0</td>\n",
              "      <td>0.00</td>\n",
              "      <td>0.0</td>\n",
              "      <td>0.0</td>\n",
              "      <td>20.0</td>\n",
              "      <td>0</td>\n",
              "      <td>0.500005</td>\n",
              "      <td>False</td>\n",
              "      <td>REGULAR</td>\n",
              "      <td>USD</td>\n",
              "    </tr>\n",
              "    <tr>\n",
              "      <th>64</th>\n",
              "      <td>AAPL230317C00275000</td>\n",
              "      <td>2023-03-08 14:58:29+00:00</td>\n",
              "      <td>275.0</td>\n",
              "      <td>0.01</td>\n",
              "      <td>0.0</td>\n",
              "      <td>0.00</td>\n",
              "      <td>0.0</td>\n",
              "      <td>0.0</td>\n",
              "      <td>2.0</td>\n",
              "      <td>0</td>\n",
              "      <td>0.500005</td>\n",
              "      <td>False</td>\n",
              "      <td>REGULAR</td>\n",
              "      <td>USD</td>\n",
              "    </tr>\n",
              "    <tr>\n",
              "      <th>65</th>\n",
              "      <td>AAPL230317C00280000</td>\n",
              "      <td>2023-03-07 14:30:10+00:00</td>\n",
              "      <td>280.0</td>\n",
              "      <td>0.01</td>\n",
              "      <td>0.0</td>\n",
              "      <td>0.00</td>\n",
              "      <td>0.0</td>\n",
              "      <td>0.0</td>\n",
              "      <td>1.0</td>\n",
              "      <td>0</td>\n",
              "      <td>0.500005</td>\n",
              "      <td>False</td>\n",
              "      <td>REGULAR</td>\n",
              "      <td>USD</td>\n",
              "    </tr>\n",
              "    <tr>\n",
              "      <th>66</th>\n",
              "      <td>AAPL230317C00290000</td>\n",
              "      <td>2023-02-02 20:46:53+00:00</td>\n",
              "      <td>290.0</td>\n",
              "      <td>0.01</td>\n",
              "      <td>0.0</td>\n",
              "      <td>0.01</td>\n",
              "      <td>0.0</td>\n",
              "      <td>0.0</td>\n",
              "      <td>2.0</td>\n",
              "      <td>977</td>\n",
              "      <td>1.218754</td>\n",
              "      <td>False</td>\n",
              "      <td>REGULAR</td>\n",
              "      <td>USD</td>\n",
              "    </tr>\n",
              "    <tr>\n",
              "      <th>67</th>\n",
              "      <td>AAPL230317C00300000</td>\n",
              "      <td>2023-03-08 17:41:15+00:00</td>\n",
              "      <td>300.0</td>\n",
              "      <td>0.01</td>\n",
              "      <td>0.0</td>\n",
              "      <td>0.00</td>\n",
              "      <td>0.0</td>\n",
              "      <td>0.0</td>\n",
              "      <td>10.0</td>\n",
              "      <td>0</td>\n",
              "      <td>0.500005</td>\n",
              "      <td>False</td>\n",
              "      <td>REGULAR</td>\n",
              "      <td>USD</td>\n",
              "    </tr>\n",
              "  </tbody>\n",
              "</table>\n",
              "<p>68 rows × 14 columns</p>\n",
              "</div>\n",
              "      <button class=\"colab-df-convert\" onclick=\"convertToInteractive('df-054449b8-4c85-413a-a598-a62e8618bfdc')\"\n",
              "              title=\"Convert this dataframe to an interactive table.\"\n",
              "              style=\"display:none;\">\n",
              "        \n",
              "  <svg xmlns=\"http://www.w3.org/2000/svg\" height=\"24px\"viewBox=\"0 0 24 24\"\n",
              "       width=\"24px\">\n",
              "    <path d=\"M0 0h24v24H0V0z\" fill=\"none\"/>\n",
              "    <path d=\"M18.56 5.44l.94 2.06.94-2.06 2.06-.94-2.06-.94-.94-2.06-.94 2.06-2.06.94zm-11 1L8.5 8.5l.94-2.06 2.06-.94-2.06-.94L8.5 2.5l-.94 2.06-2.06.94zm10 10l.94 2.06.94-2.06 2.06-.94-2.06-.94-.94-2.06-.94 2.06-2.06.94z\"/><path d=\"M17.41 7.96l-1.37-1.37c-.4-.4-.92-.59-1.43-.59-.52 0-1.04.2-1.43.59L10.3 9.45l-7.72 7.72c-.78.78-.78 2.05 0 2.83L4 21.41c.39.39.9.59 1.41.59.51 0 1.02-.2 1.41-.59l7.78-7.78 2.81-2.81c.8-.78.8-2.07 0-2.86zM5.41 20L4 18.59l7.72-7.72 1.47 1.35L5.41 20z\"/>\n",
              "  </svg>\n",
              "      </button>\n",
              "      \n",
              "  <style>\n",
              "    .colab-df-container {\n",
              "      display:flex;\n",
              "      flex-wrap:wrap;\n",
              "      gap: 12px;\n",
              "    }\n",
              "\n",
              "    .colab-df-convert {\n",
              "      background-color: #E8F0FE;\n",
              "      border: none;\n",
              "      border-radius: 50%;\n",
              "      cursor: pointer;\n",
              "      display: none;\n",
              "      fill: #1967D2;\n",
              "      height: 32px;\n",
              "      padding: 0 0 0 0;\n",
              "      width: 32px;\n",
              "    }\n",
              "\n",
              "    .colab-df-convert:hover {\n",
              "      background-color: #E2EBFA;\n",
              "      box-shadow: 0px 1px 2px rgba(60, 64, 67, 0.3), 0px 1px 3px 1px rgba(60, 64, 67, 0.15);\n",
              "      fill: #174EA6;\n",
              "    }\n",
              "\n",
              "    [theme=dark] .colab-df-convert {\n",
              "      background-color: #3B4455;\n",
              "      fill: #D2E3FC;\n",
              "    }\n",
              "\n",
              "    [theme=dark] .colab-df-convert:hover {\n",
              "      background-color: #434B5C;\n",
              "      box-shadow: 0px 1px 3px 1px rgba(0, 0, 0, 0.15);\n",
              "      filter: drop-shadow(0px 1px 2px rgba(0, 0, 0, 0.3));\n",
              "      fill: #FFFFFF;\n",
              "    }\n",
              "  </style>\n",
              "\n",
              "      <script>\n",
              "        const buttonEl =\n",
              "          document.querySelector('#df-054449b8-4c85-413a-a598-a62e8618bfdc button.colab-df-convert');\n",
              "        buttonEl.style.display =\n",
              "          google.colab.kernel.accessAllowed ? 'block' : 'none';\n",
              "\n",
              "        async function convertToInteractive(key) {\n",
              "          const element = document.querySelector('#df-054449b8-4c85-413a-a598-a62e8618bfdc');\n",
              "          const dataTable =\n",
              "            await google.colab.kernel.invokeFunction('convertToInteractive',\n",
              "                                                     [key], {});\n",
              "          if (!dataTable) return;\n",
              "\n",
              "          const docLinkHtml = 'Like what you see? Visit the ' +\n",
              "            '<a target=\"_blank\" href=https://colab.research.google.com/notebooks/data_table.ipynb>data table notebook</a>'\n",
              "            + ' to learn more about interactive tables.';\n",
              "          element.innerHTML = '';\n",
              "          dataTable['output_type'] = 'display_data';\n",
              "          await google.colab.output.renderOutput(dataTable, element);\n",
              "          const docLink = document.createElement('div');\n",
              "          docLink.innerHTML = docLinkHtml;\n",
              "          element.appendChild(docLink);\n",
              "        }\n",
              "      </script>\n",
              "    </div>\n",
              "  </div>\n",
              "  "
            ]
          },
          "metadata": {},
          "execution_count": 6
        }
      ]
    },
    {
      "cell_type": "code",
      "source": [
        "dfo_exp.puts #Data for put options"
      ],
      "metadata": {
        "colab": {
          "base_uri": "https://localhost:8080/",
          "height": 467
        },
        "id": "tqkpR2LUJVjw",
        "outputId": "e2ce89c0-7f56-4680-df4b-4ee728fc0c87"
      },
      "execution_count": 8,
      "outputs": [
        {
          "output_type": "execute_result",
          "data": {
            "text/plain": [
              "         contractSymbol             lastTradeDate  strike  lastPrice     bid  \\\n",
              "0   AAPL230317P00035000 2023-02-17 17:35:11+00:00    35.0       0.01    0.00   \n",
              "1   AAPL230317P00040000 2023-02-17 17:35:09+00:00    40.0       0.01    0.00   \n",
              "2   AAPL230317P00045000 2023-03-06 18:04:10+00:00    45.0       0.01    0.00   \n",
              "3   AAPL230317P00050000 2023-03-08 19:51:52+00:00    50.0       0.01    0.00   \n",
              "4   AAPL230317P00055000 2023-03-06 16:18:29+00:00    55.0       0.01    0.00   \n",
              "..                  ...                       ...     ...        ...     ...   \n",
              "56  AAPL230317P00270000 2023-02-27 20:15:52+00:00   270.0     122.00    0.00   \n",
              "57  AAPL230317P00275000 2023-02-16 20:05:11+00:00   275.0     119.65    0.00   \n",
              "58  AAPL230317P00280000 2023-02-01 18:28:29+00:00   280.0     137.95  127.85   \n",
              "59  AAPL230317P00290000 2023-02-16 15:49:46+00:00   290.0     134.77    0.00   \n",
              "60  AAPL230317P00300000 2023-02-16 18:49:04+00:00   300.0     143.90    0.00   \n",
              "\n",
              "       ask  change  percentChange  volume  openInterest  impliedVolatility  \\\n",
              "0     0.00     0.0            0.0   101.0             0           0.500005   \n",
              "1     0.00     0.0            0.0   100.0             0           0.500005   \n",
              "2     0.00     0.0            0.0     5.0             0           0.500005   \n",
              "3     0.00     0.0            0.0    10.0             0           0.500005   \n",
              "4     0.00     0.0            0.0     1.0             0           0.500005   \n",
              "..     ...     ...            ...     ...           ...                ...   \n",
              "56    0.00     0.0            0.0     2.0             0           0.000010   \n",
              "57    0.00     0.0            0.0     NaN             0           0.000010   \n",
              "58  130.85     0.0            0.0    10.0             0           2.522465   \n",
              "59    0.00     0.0            0.0     2.0             0           0.000010   \n",
              "60    0.00     0.0            0.0    19.0             0           0.000010   \n",
              "\n",
              "    inTheMoney contractSize currency  \n",
              "0        False      REGULAR      USD  \n",
              "1        False      REGULAR      USD  \n",
              "2        False      REGULAR      USD  \n",
              "3        False      REGULAR      USD  \n",
              "4        False      REGULAR      USD  \n",
              "..         ...          ...      ...  \n",
              "56        True      REGULAR      USD  \n",
              "57        True      REGULAR      USD  \n",
              "58        True      REGULAR      USD  \n",
              "59        True      REGULAR      USD  \n",
              "60        True      REGULAR      USD  \n",
              "\n",
              "[61 rows x 14 columns]"
            ],
            "text/html": [
              "\n",
              "  <div id=\"df-a5f4ffaf-46ed-41dd-a780-131b649c2792\">\n",
              "    <div class=\"colab-df-container\">\n",
              "      <div>\n",
              "<style scoped>\n",
              "    .dataframe tbody tr th:only-of-type {\n",
              "        vertical-align: middle;\n",
              "    }\n",
              "\n",
              "    .dataframe tbody tr th {\n",
              "        vertical-align: top;\n",
              "    }\n",
              "\n",
              "    .dataframe thead th {\n",
              "        text-align: right;\n",
              "    }\n",
              "</style>\n",
              "<table border=\"1\" class=\"dataframe\">\n",
              "  <thead>\n",
              "    <tr style=\"text-align: right;\">\n",
              "      <th></th>\n",
              "      <th>contractSymbol</th>\n",
              "      <th>lastTradeDate</th>\n",
              "      <th>strike</th>\n",
              "      <th>lastPrice</th>\n",
              "      <th>bid</th>\n",
              "      <th>ask</th>\n",
              "      <th>change</th>\n",
              "      <th>percentChange</th>\n",
              "      <th>volume</th>\n",
              "      <th>openInterest</th>\n",
              "      <th>impliedVolatility</th>\n",
              "      <th>inTheMoney</th>\n",
              "      <th>contractSize</th>\n",
              "      <th>currency</th>\n",
              "    </tr>\n",
              "  </thead>\n",
              "  <tbody>\n",
              "    <tr>\n",
              "      <th>0</th>\n",
              "      <td>AAPL230317P00035000</td>\n",
              "      <td>2023-02-17 17:35:11+00:00</td>\n",
              "      <td>35.0</td>\n",
              "      <td>0.01</td>\n",
              "      <td>0.00</td>\n",
              "      <td>0.00</td>\n",
              "      <td>0.0</td>\n",
              "      <td>0.0</td>\n",
              "      <td>101.0</td>\n",
              "      <td>0</td>\n",
              "      <td>0.500005</td>\n",
              "      <td>False</td>\n",
              "      <td>REGULAR</td>\n",
              "      <td>USD</td>\n",
              "    </tr>\n",
              "    <tr>\n",
              "      <th>1</th>\n",
              "      <td>AAPL230317P00040000</td>\n",
              "      <td>2023-02-17 17:35:09+00:00</td>\n",
              "      <td>40.0</td>\n",
              "      <td>0.01</td>\n",
              "      <td>0.00</td>\n",
              "      <td>0.00</td>\n",
              "      <td>0.0</td>\n",
              "      <td>0.0</td>\n",
              "      <td>100.0</td>\n",
              "      <td>0</td>\n",
              "      <td>0.500005</td>\n",
              "      <td>False</td>\n",
              "      <td>REGULAR</td>\n",
              "      <td>USD</td>\n",
              "    </tr>\n",
              "    <tr>\n",
              "      <th>2</th>\n",
              "      <td>AAPL230317P00045000</td>\n",
              "      <td>2023-03-06 18:04:10+00:00</td>\n",
              "      <td>45.0</td>\n",
              "      <td>0.01</td>\n",
              "      <td>0.00</td>\n",
              "      <td>0.00</td>\n",
              "      <td>0.0</td>\n",
              "      <td>0.0</td>\n",
              "      <td>5.0</td>\n",
              "      <td>0</td>\n",
              "      <td>0.500005</td>\n",
              "      <td>False</td>\n",
              "      <td>REGULAR</td>\n",
              "      <td>USD</td>\n",
              "    </tr>\n",
              "    <tr>\n",
              "      <th>3</th>\n",
              "      <td>AAPL230317P00050000</td>\n",
              "      <td>2023-03-08 19:51:52+00:00</td>\n",
              "      <td>50.0</td>\n",
              "      <td>0.01</td>\n",
              "      <td>0.00</td>\n",
              "      <td>0.00</td>\n",
              "      <td>0.0</td>\n",
              "      <td>0.0</td>\n",
              "      <td>10.0</td>\n",
              "      <td>0</td>\n",
              "      <td>0.500005</td>\n",
              "      <td>False</td>\n",
              "      <td>REGULAR</td>\n",
              "      <td>USD</td>\n",
              "    </tr>\n",
              "    <tr>\n",
              "      <th>4</th>\n",
              "      <td>AAPL230317P00055000</td>\n",
              "      <td>2023-03-06 16:18:29+00:00</td>\n",
              "      <td>55.0</td>\n",
              "      <td>0.01</td>\n",
              "      <td>0.00</td>\n",
              "      <td>0.00</td>\n",
              "      <td>0.0</td>\n",
              "      <td>0.0</td>\n",
              "      <td>1.0</td>\n",
              "      <td>0</td>\n",
              "      <td>0.500005</td>\n",
              "      <td>False</td>\n",
              "      <td>REGULAR</td>\n",
              "      <td>USD</td>\n",
              "    </tr>\n",
              "    <tr>\n",
              "      <th>...</th>\n",
              "      <td>...</td>\n",
              "      <td>...</td>\n",
              "      <td>...</td>\n",
              "      <td>...</td>\n",
              "      <td>...</td>\n",
              "      <td>...</td>\n",
              "      <td>...</td>\n",
              "      <td>...</td>\n",
              "      <td>...</td>\n",
              "      <td>...</td>\n",
              "      <td>...</td>\n",
              "      <td>...</td>\n",
              "      <td>...</td>\n",
              "      <td>...</td>\n",
              "    </tr>\n",
              "    <tr>\n",
              "      <th>56</th>\n",
              "      <td>AAPL230317P00270000</td>\n",
              "      <td>2023-02-27 20:15:52+00:00</td>\n",
              "      <td>270.0</td>\n",
              "      <td>122.00</td>\n",
              "      <td>0.00</td>\n",
              "      <td>0.00</td>\n",
              "      <td>0.0</td>\n",
              "      <td>0.0</td>\n",
              "      <td>2.0</td>\n",
              "      <td>0</td>\n",
              "      <td>0.000010</td>\n",
              "      <td>True</td>\n",
              "      <td>REGULAR</td>\n",
              "      <td>USD</td>\n",
              "    </tr>\n",
              "    <tr>\n",
              "      <th>57</th>\n",
              "      <td>AAPL230317P00275000</td>\n",
              "      <td>2023-02-16 20:05:11+00:00</td>\n",
              "      <td>275.0</td>\n",
              "      <td>119.65</td>\n",
              "      <td>0.00</td>\n",
              "      <td>0.00</td>\n",
              "      <td>0.0</td>\n",
              "      <td>0.0</td>\n",
              "      <td>NaN</td>\n",
              "      <td>0</td>\n",
              "      <td>0.000010</td>\n",
              "      <td>True</td>\n",
              "      <td>REGULAR</td>\n",
              "      <td>USD</td>\n",
              "    </tr>\n",
              "    <tr>\n",
              "      <th>58</th>\n",
              "      <td>AAPL230317P00280000</td>\n",
              "      <td>2023-02-01 18:28:29+00:00</td>\n",
              "      <td>280.0</td>\n",
              "      <td>137.95</td>\n",
              "      <td>127.85</td>\n",
              "      <td>130.85</td>\n",
              "      <td>0.0</td>\n",
              "      <td>0.0</td>\n",
              "      <td>10.0</td>\n",
              "      <td>0</td>\n",
              "      <td>2.522465</td>\n",
              "      <td>True</td>\n",
              "      <td>REGULAR</td>\n",
              "      <td>USD</td>\n",
              "    </tr>\n",
              "    <tr>\n",
              "      <th>59</th>\n",
              "      <td>AAPL230317P00290000</td>\n",
              "      <td>2023-02-16 15:49:46+00:00</td>\n",
              "      <td>290.0</td>\n",
              "      <td>134.77</td>\n",
              "      <td>0.00</td>\n",
              "      <td>0.00</td>\n",
              "      <td>0.0</td>\n",
              "      <td>0.0</td>\n",
              "      <td>2.0</td>\n",
              "      <td>0</td>\n",
              "      <td>0.000010</td>\n",
              "      <td>True</td>\n",
              "      <td>REGULAR</td>\n",
              "      <td>USD</td>\n",
              "    </tr>\n",
              "    <tr>\n",
              "      <th>60</th>\n",
              "      <td>AAPL230317P00300000</td>\n",
              "      <td>2023-02-16 18:49:04+00:00</td>\n",
              "      <td>300.0</td>\n",
              "      <td>143.90</td>\n",
              "      <td>0.00</td>\n",
              "      <td>0.00</td>\n",
              "      <td>0.0</td>\n",
              "      <td>0.0</td>\n",
              "      <td>19.0</td>\n",
              "      <td>0</td>\n",
              "      <td>0.000010</td>\n",
              "      <td>True</td>\n",
              "      <td>REGULAR</td>\n",
              "      <td>USD</td>\n",
              "    </tr>\n",
              "  </tbody>\n",
              "</table>\n",
              "<p>61 rows × 14 columns</p>\n",
              "</div>\n",
              "      <button class=\"colab-df-convert\" onclick=\"convertToInteractive('df-a5f4ffaf-46ed-41dd-a780-131b649c2792')\"\n",
              "              title=\"Convert this dataframe to an interactive table.\"\n",
              "              style=\"display:none;\">\n",
              "        \n",
              "  <svg xmlns=\"http://www.w3.org/2000/svg\" height=\"24px\"viewBox=\"0 0 24 24\"\n",
              "       width=\"24px\">\n",
              "    <path d=\"M0 0h24v24H0V0z\" fill=\"none\"/>\n",
              "    <path d=\"M18.56 5.44l.94 2.06.94-2.06 2.06-.94-2.06-.94-.94-2.06-.94 2.06-2.06.94zm-11 1L8.5 8.5l.94-2.06 2.06-.94-2.06-.94L8.5 2.5l-.94 2.06-2.06.94zm10 10l.94 2.06.94-2.06 2.06-.94-2.06-.94-.94-2.06-.94 2.06-2.06.94z\"/><path d=\"M17.41 7.96l-1.37-1.37c-.4-.4-.92-.59-1.43-.59-.52 0-1.04.2-1.43.59L10.3 9.45l-7.72 7.72c-.78.78-.78 2.05 0 2.83L4 21.41c.39.39.9.59 1.41.59.51 0 1.02-.2 1.41-.59l7.78-7.78 2.81-2.81c.8-.78.8-2.07 0-2.86zM5.41 20L4 18.59l7.72-7.72 1.47 1.35L5.41 20z\"/>\n",
              "  </svg>\n",
              "      </button>\n",
              "      \n",
              "  <style>\n",
              "    .colab-df-container {\n",
              "      display:flex;\n",
              "      flex-wrap:wrap;\n",
              "      gap: 12px;\n",
              "    }\n",
              "\n",
              "    .colab-df-convert {\n",
              "      background-color: #E8F0FE;\n",
              "      border: none;\n",
              "      border-radius: 50%;\n",
              "      cursor: pointer;\n",
              "      display: none;\n",
              "      fill: #1967D2;\n",
              "      height: 32px;\n",
              "      padding: 0 0 0 0;\n",
              "      width: 32px;\n",
              "    }\n",
              "\n",
              "    .colab-df-convert:hover {\n",
              "      background-color: #E2EBFA;\n",
              "      box-shadow: 0px 1px 2px rgba(60, 64, 67, 0.3), 0px 1px 3px 1px rgba(60, 64, 67, 0.15);\n",
              "      fill: #174EA6;\n",
              "    }\n",
              "\n",
              "    [theme=dark] .colab-df-convert {\n",
              "      background-color: #3B4455;\n",
              "      fill: #D2E3FC;\n",
              "    }\n",
              "\n",
              "    [theme=dark] .colab-df-convert:hover {\n",
              "      background-color: #434B5C;\n",
              "      box-shadow: 0px 1px 3px 1px rgba(0, 0, 0, 0.15);\n",
              "      filter: drop-shadow(0px 1px 2px rgba(0, 0, 0, 0.3));\n",
              "      fill: #FFFFFF;\n",
              "    }\n",
              "  </style>\n",
              "\n",
              "      <script>\n",
              "        const buttonEl =\n",
              "          document.querySelector('#df-a5f4ffaf-46ed-41dd-a780-131b649c2792 button.colab-df-convert');\n",
              "        buttonEl.style.display =\n",
              "          google.colab.kernel.accessAllowed ? 'block' : 'none';\n",
              "\n",
              "        async function convertToInteractive(key) {\n",
              "          const element = document.querySelector('#df-a5f4ffaf-46ed-41dd-a780-131b649c2792');\n",
              "          const dataTable =\n",
              "            await google.colab.kernel.invokeFunction('convertToInteractive',\n",
              "                                                     [key], {});\n",
              "          if (!dataTable) return;\n",
              "\n",
              "          const docLinkHtml = 'Like what you see? Visit the ' +\n",
              "            '<a target=\"_blank\" href=https://colab.research.google.com/notebooks/data_table.ipynb>data table notebook</a>'\n",
              "            + ' to learn more about interactive tables.';\n",
              "          element.innerHTML = '';\n",
              "          dataTable['output_type'] = 'display_data';\n",
              "          await google.colab.output.renderOutput(dataTable, element);\n",
              "          const docLink = document.createElement('div');\n",
              "          docLink.innerHTML = docLinkHtml;\n",
              "          element.appendChild(docLink);\n",
              "        }\n",
              "      </script>\n",
              "    </div>\n",
              "  </div>\n",
              "  "
            ]
          },
          "metadata": {},
          "execution_count": 8
        }
      ]
    },
    {
      "cell_type": "code",
      "source": [
        "#run this tab to make you aware of the latest price of apple stock\n",
        "\n",
        "symbol = 'AAPL'\n",
        "end = date.today()\n",
        "start = end.replace(year = 2022)\n",
        "\n",
        "\n",
        "# Read data \n",
        "df = yf.download(symbol,start,end)\n",
        "\n",
        "df.tail()   "
      ],
      "metadata": {
        "colab": {
          "base_uri": "https://localhost:8080/",
          "height": 255
        },
        "id": "WlUnOMsUJdAp",
        "outputId": "de872ad7-ce3e-4a8d-d0cf-3fd0244c98ca"
      },
      "execution_count": 10,
      "outputs": [
        {
          "output_type": "stream",
          "name": "stdout",
          "text": [
            "\r[*********************100%***********************]  1 of 1 completed\n"
          ]
        },
        {
          "output_type": "execute_result",
          "data": {
            "text/plain": [
              "                  Open        High         Low       Close   Adj Close  \\\n",
              "Date                                                                     \n",
              "2023-03-02  144.380005  146.710007  143.899994  145.910004  145.910004   \n",
              "2023-03-03  148.039993  151.110001  147.330002  151.029999  151.029999   \n",
              "2023-03-06  153.789993  156.300003  153.460007  153.830002  153.830002   \n",
              "2023-03-07  153.699997  154.029999  151.130005  151.600006  151.600006   \n",
              "2023-03-08  152.809998  153.470001  151.830002  152.869995  152.869995   \n",
              "\n",
              "              Volume  \n",
              "Date                  \n",
              "2023-03-02  52238100  \n",
              "2023-03-03  70668500  \n",
              "2023-03-06  87558000  \n",
              "2023-03-07  56182000  \n",
              "2023-03-08  47129000  "
            ],
            "text/html": [
              "\n",
              "  <div id=\"df-60d1ef26-4307-42b4-84da-b1337c070c3e\">\n",
              "    <div class=\"colab-df-container\">\n",
              "      <div>\n",
              "<style scoped>\n",
              "    .dataframe tbody tr th:only-of-type {\n",
              "        vertical-align: middle;\n",
              "    }\n",
              "\n",
              "    .dataframe tbody tr th {\n",
              "        vertical-align: top;\n",
              "    }\n",
              "\n",
              "    .dataframe thead th {\n",
              "        text-align: right;\n",
              "    }\n",
              "</style>\n",
              "<table border=\"1\" class=\"dataframe\">\n",
              "  <thead>\n",
              "    <tr style=\"text-align: right;\">\n",
              "      <th></th>\n",
              "      <th>Open</th>\n",
              "      <th>High</th>\n",
              "      <th>Low</th>\n",
              "      <th>Close</th>\n",
              "      <th>Adj Close</th>\n",
              "      <th>Volume</th>\n",
              "    </tr>\n",
              "    <tr>\n",
              "      <th>Date</th>\n",
              "      <th></th>\n",
              "      <th></th>\n",
              "      <th></th>\n",
              "      <th></th>\n",
              "      <th></th>\n",
              "      <th></th>\n",
              "    </tr>\n",
              "  </thead>\n",
              "  <tbody>\n",
              "    <tr>\n",
              "      <th>2023-03-02</th>\n",
              "      <td>144.380005</td>\n",
              "      <td>146.710007</td>\n",
              "      <td>143.899994</td>\n",
              "      <td>145.910004</td>\n",
              "      <td>145.910004</td>\n",
              "      <td>52238100</td>\n",
              "    </tr>\n",
              "    <tr>\n",
              "      <th>2023-03-03</th>\n",
              "      <td>148.039993</td>\n",
              "      <td>151.110001</td>\n",
              "      <td>147.330002</td>\n",
              "      <td>151.029999</td>\n",
              "      <td>151.029999</td>\n",
              "      <td>70668500</td>\n",
              "    </tr>\n",
              "    <tr>\n",
              "      <th>2023-03-06</th>\n",
              "      <td>153.789993</td>\n",
              "      <td>156.300003</td>\n",
              "      <td>153.460007</td>\n",
              "      <td>153.830002</td>\n",
              "      <td>153.830002</td>\n",
              "      <td>87558000</td>\n",
              "    </tr>\n",
              "    <tr>\n",
              "      <th>2023-03-07</th>\n",
              "      <td>153.699997</td>\n",
              "      <td>154.029999</td>\n",
              "      <td>151.130005</td>\n",
              "      <td>151.600006</td>\n",
              "      <td>151.600006</td>\n",
              "      <td>56182000</td>\n",
              "    </tr>\n",
              "    <tr>\n",
              "      <th>2023-03-08</th>\n",
              "      <td>152.809998</td>\n",
              "      <td>153.470001</td>\n",
              "      <td>151.830002</td>\n",
              "      <td>152.869995</td>\n",
              "      <td>152.869995</td>\n",
              "      <td>47129000</td>\n",
              "    </tr>\n",
              "  </tbody>\n",
              "</table>\n",
              "</div>\n",
              "      <button class=\"colab-df-convert\" onclick=\"convertToInteractive('df-60d1ef26-4307-42b4-84da-b1337c070c3e')\"\n",
              "              title=\"Convert this dataframe to an interactive table.\"\n",
              "              style=\"display:none;\">\n",
              "        \n",
              "  <svg xmlns=\"http://www.w3.org/2000/svg\" height=\"24px\"viewBox=\"0 0 24 24\"\n",
              "       width=\"24px\">\n",
              "    <path d=\"M0 0h24v24H0V0z\" fill=\"none\"/>\n",
              "    <path d=\"M18.56 5.44l.94 2.06.94-2.06 2.06-.94-2.06-.94-.94-2.06-.94 2.06-2.06.94zm-11 1L8.5 8.5l.94-2.06 2.06-.94-2.06-.94L8.5 2.5l-.94 2.06-2.06.94zm10 10l.94 2.06.94-2.06 2.06-.94-2.06-.94-.94-2.06-.94 2.06-2.06.94z\"/><path d=\"M17.41 7.96l-1.37-1.37c-.4-.4-.92-.59-1.43-.59-.52 0-1.04.2-1.43.59L10.3 9.45l-7.72 7.72c-.78.78-.78 2.05 0 2.83L4 21.41c.39.39.9.59 1.41.59.51 0 1.02-.2 1.41-.59l7.78-7.78 2.81-2.81c.8-.78.8-2.07 0-2.86zM5.41 20L4 18.59l7.72-7.72 1.47 1.35L5.41 20z\"/>\n",
              "  </svg>\n",
              "      </button>\n",
              "      \n",
              "  <style>\n",
              "    .colab-df-container {\n",
              "      display:flex;\n",
              "      flex-wrap:wrap;\n",
              "      gap: 12px;\n",
              "    }\n",
              "\n",
              "    .colab-df-convert {\n",
              "      background-color: #E8F0FE;\n",
              "      border: none;\n",
              "      border-radius: 50%;\n",
              "      cursor: pointer;\n",
              "      display: none;\n",
              "      fill: #1967D2;\n",
              "      height: 32px;\n",
              "      padding: 0 0 0 0;\n",
              "      width: 32px;\n",
              "    }\n",
              "\n",
              "    .colab-df-convert:hover {\n",
              "      background-color: #E2EBFA;\n",
              "      box-shadow: 0px 1px 2px rgba(60, 64, 67, 0.3), 0px 1px 3px 1px rgba(60, 64, 67, 0.15);\n",
              "      fill: #174EA6;\n",
              "    }\n",
              "\n",
              "    [theme=dark] .colab-df-convert {\n",
              "      background-color: #3B4455;\n",
              "      fill: #D2E3FC;\n",
              "    }\n",
              "\n",
              "    [theme=dark] .colab-df-convert:hover {\n",
              "      background-color: #434B5C;\n",
              "      box-shadow: 0px 1px 3px 1px rgba(0, 0, 0, 0.15);\n",
              "      filter: drop-shadow(0px 1px 2px rgba(0, 0, 0, 0.3));\n",
              "      fill: #FFFFFF;\n",
              "    }\n",
              "  </style>\n",
              "\n",
              "      <script>\n",
              "        const buttonEl =\n",
              "          document.querySelector('#df-60d1ef26-4307-42b4-84da-b1337c070c3e button.colab-df-convert');\n",
              "        buttonEl.style.display =\n",
              "          google.colab.kernel.accessAllowed ? 'block' : 'none';\n",
              "\n",
              "        async function convertToInteractive(key) {\n",
              "          const element = document.querySelector('#df-60d1ef26-4307-42b4-84da-b1337c070c3e');\n",
              "          const dataTable =\n",
              "            await google.colab.kernel.invokeFunction('convertToInteractive',\n",
              "                                                     [key], {});\n",
              "          if (!dataTable) return;\n",
              "\n",
              "          const docLinkHtml = 'Like what you see? Visit the ' +\n",
              "            '<a target=\"_blank\" href=https://colab.research.google.com/notebooks/data_table.ipynb>data table notebook</a>'\n",
              "            + ' to learn more about interactive tables.';\n",
              "          element.innerHTML = '';\n",
              "          dataTable['output_type'] = 'display_data';\n",
              "          await google.colab.output.renderOutput(dataTable, element);\n",
              "          const docLink = document.createElement('div');\n",
              "          docLink.innerHTML = docLinkHtml;\n",
              "          element.appendChild(docLink);\n",
              "        }\n",
              "      </script>\n",
              "    </div>\n",
              "  </div>\n",
              "  "
            ]
          },
          "metadata": {},
          "execution_count": 10
        }
      ]
    },
    {
      "cell_type": "markdown",
      "source": [
        "# **PAYOFF FROM CALL AND PUT OPTIONS**"
      ],
      "metadata": {
        "id": "oICOkeaUKAsV"
      }
    },
    {
      "cell_type": "markdown",
      "source": [
        "# **Call option**\n",
        "payoff=max(-C, S - X - C)\n"
      ],
      "metadata": {
        "id": "r7xo-AWNKLFL"
      }
    },
    {
      "cell_type": "markdown",
      "source": [
        "# **Put option**\n",
        "payoff=max(-P, X - S - P)\n",
        "\n",
        "P and C are premiums of calls and puts\n",
        "\n",
        "S is the stock price\n",
        "\n",
        "X is the strike price"
      ],
      "metadata": {
        "id": "Ty1pnb9hKkRT"
      }
    },
    {
      "cell_type": "code",
      "source": [
        "def payoff(option_type, premium, S, X):\n",
        "  Payoff = 0\n",
        "\n",
        "  if option_type == 'C':\n",
        "      Payoff = max(-premium, S-X-premium)\n",
        "  elif option_type == 'P':\n",
        "      Payoff = max(-premium, X-S-premium)\n",
        "  else:\n",
        "      print(\"Option type not supported\")\n",
        "  return Payoff"
      ],
      "metadata": {
        "id": "wlDo9ugnK44j"
      },
      "execution_count": 11,
      "outputs": []
    },
    {
      "cell_type": "markdown",
      "source": [
        "Checking the output of payoff function"
      ],
      "metadata": {
        "id": "aNBj-fz_LIJS"
      }
    },
    {
      "cell_type": "code",
      "source": [
        "payoff('C', 10, 120,100)  #answer displayed should be 10"
      ],
      "metadata": {
        "colab": {
          "base_uri": "https://localhost:8080/"
        },
        "id": "ASmbLkhwLDkQ",
        "outputId": "cb9a7451-a4dd-49f5-98c1-e9927f3b6153"
      },
      "execution_count": 12,
      "outputs": [
        {
          "output_type": "execute_result",
          "data": {
            "text/plain": [
              "10"
            ]
          },
          "metadata": {},
          "execution_count": 12
        }
      ]
    },
    {
      "cell_type": "code",
      "source": [
        "payoff('Z', 10, 120, 100)  #answer displayed should be option type not supported"
      ],
      "metadata": {
        "colab": {
          "base_uri": "https://localhost:8080/"
        },
        "id": "UGeiiiIXLQNa",
        "outputId": "b4bdc9d0-2ecf-4371-e4fb-6a4c4bd000b9"
      },
      "execution_count": 13,
      "outputs": [
        {
          "output_type": "stream",
          "name": "stdout",
          "text": [
            "Option type not supported\n"
          ]
        },
        {
          "output_type": "execute_result",
          "data": {
            "text/plain": [
              "0"
            ]
          },
          "metadata": {},
          "execution_count": 13
        }
      ]
    },
    {
      "cell_type": "code",
      "source": [
        "payoff('P', 10, 120, 100)  #answer displayed should be -10"
      ],
      "metadata": {
        "colab": {
          "base_uri": "https://localhost:8080/"
        },
        "id": "uCbd0DSuLUGI",
        "outputId": "c429c75a-9642-4c8d-a8e5-094f70d2e859"
      },
      "execution_count": 14,
      "outputs": [
        {
          "output_type": "execute_result",
          "data": {
            "text/plain": [
              "-10"
            ]
          },
          "metadata": {},
          "execution_count": 14
        }
      ]
    },
    {
      "cell_type": "markdown",
      "source": [
        "# **PAYOFF GRAPHS**"
      ],
      "metadata": {
        "id": "Kv79JTmZLcr9"
      }
    },
    {
      "cell_type": "markdown",
      "source": [
        "**CALL OPTION**"
      ],
      "metadata": {
        "id": "yAjGKAsBLiC7"
      }
    },
    {
      "cell_type": "code",
      "source": [
        "X = dfo_exp.calls['strike'][0]\n",
        "premium = dfo_exp.calls['lastPrice'][0]"
      ],
      "metadata": {
        "id": "iooKT6XyLk99"
      },
      "execution_count": 15,
      "outputs": []
    },
    {
      "cell_type": "code",
      "source": [
        "StockPrice = np.arange(0, 500)\n",
        "Payoff = [payoff('C', premium, i, X) for i in StockPrice]"
      ],
      "metadata": {
        "id": "sx03ShPyLtR9"
      },
      "execution_count": 28,
      "outputs": []
    },
    {
      "cell_type": "code",
      "source": [
        "#PLOTTING THE PAYOFF GRAPH FOR CALL OPTION\n",
        "plt.plot(StockPrice, Payoff, label = 'payoff line')\n",
        "plt.xlabel('Stock Price')\n",
        "plt.ylabel('payoff')\n",
        "plt.title('Call option Payoff at Expiry')\n",
        "plt.grid(True)\n",
        "\n",
        "#breakeven point is when payoff is 0 or S=X+C\n",
        "plt.plot(X+premium, 0, 'ro', label = 'breakeven point')\n",
        "plt.legend()"
      ],
      "metadata": {
        "colab": {
          "base_uri": "https://localhost:8080/",
          "height": 312
        },
        "id": "08HAsGo_Lw7O",
        "outputId": "1dfe3635-4bac-47cb-e8b2-f3410ec844ae"
      },
      "execution_count": 29,
      "outputs": [
        {
          "output_type": "execute_result",
          "data": {
            "text/plain": [
              "<matplotlib.legend.Legend at 0x7fca4eab30a0>"
            ]
          },
          "metadata": {},
          "execution_count": 29
        },
        {
          "output_type": "display_data",
          "data": {
            "text/plain": [
              "<Figure size 432x288 with 1 Axes>"
            ],
            "image/png": "[encoded data removed]"
          },
          "metadata": {
            "needs_background": "light"
          }
        }
      ]
    },
    {
      "cell_type": "markdown",
      "source": [
        "**PUT OPTION**"
      ],
      "metadata": {
        "id": "vzC7xCMtMRgA"
      }
    },
    {
      "cell_type": "code",
      "source": [
        "X = dfo_exp.puts['strike'][len(dfo_exp.puts)-1]\n",
        "premium = dfo_exp.puts['lastPrice'][len(dfo_exp.puts)-1]"
      ],
      "metadata": {
        "id": "s3yKpMK-MPHO"
      },
      "execution_count": 18,
      "outputs": []
    },
    {
      "cell_type": "code",
      "source": [
        "StockPrice = np.arange(0, 500)\n",
        "Payoff = [payoff('P', premium, i, X) for i in StockPrice]"
      ],
      "metadata": {
        "id": "kDase9DRMY-i"
      },
      "execution_count": 26,
      "outputs": []
    },
    {
      "cell_type": "code",
      "source": [
        "#PLOTTING THE PAYOFF GRAPH FOR PUT OPTION\n",
        "plt.plot(StockPrice, Payoff, label = 'payoff line')\n",
        "plt.xlabel('Stock Price')\n",
        "plt.ylabel('payoff')\n",
        "plt.title('Put option Payoff at Expiry')\n",
        "plt.grid(True)\n",
        "\n",
        "#breakeven point is when payoff is 0 or S=X-P\n",
        "plt.plot(X-premium, 0, 'ro', label = 'breakeven point')\n",
        "plt.legend()"
      ],
      "metadata": {
        "colab": {
          "base_uri": "https://localhost:8080/",
          "height": 312
        },
        "id": "uayOK2heMcd0",
        "outputId": "0178e2ca-62f0-42ed-c3af-86e0104bebcf"
      },
      "execution_count": 27,
      "outputs": [
        {
          "output_type": "execute_result",
          "data": {
            "text/plain": [
              "<matplotlib.legend.Legend at 0x7fca4eb37df0>"
            ]
          },
          "metadata": {},
          "execution_count": 27
        },
        {
          "output_type": "display_data",
          "data": {
            "text/plain": [
              "<Figure size 432x288 with 1 Axes>"
            ],
            "image/png": "[encoded data removed]"
          },
          "metadata": {
            "needs_background": "light"
          }
        }
      ]
    }
  ]
}